{
 "cells": [
  {
   "cell_type": "markdown",
   "metadata": {},
   "source": [
    "# Basic Example: Prompt+Model+OutputParser\n",
    "\n",
    "\n",
    "\n",
    "## Overview\n",
    "\n",
    "最基本最常見的用法是將提示模板與模型連結起來。為了說明如何使用，我們將建立一個鏈，要求提供各種國家的首都。\n",
    "\n",
    "\n",
    "### Table of Contents\n",
    "\n",
    "- [Overview](#overview)\n",
    "- [Environment Setup](#environment-setup)\n",
    "- [Utilizing Prompt Templates](#utilizing-prompt-templates)\n",
    "- [Chain Creation](#chain-creation)\n",
    "\n",
    "### References\n",
    "\n",
    "- [LangChain ChatOpenAI API reference](https://python.langchain.com/api_reference/openai/chat_models/langchain_openai.chat_models.base.ChatOpenAI.html)\n",
    "- [LangChain Core Output Parsers](https://python.langchain.com/api_reference/core/output_parsers/langchain_core.output_parsers.list.CommaSeparatedListOutputParser.html#)\n",
    "- [Python List Tutorial](https://docs.python.org/3.13/tutorial/datastructures.html)\n",
    "---"
   ]
  },
  {
   "cell_type": "markdown",
   "metadata": {},
   "source": [
    "## Environment Setup\n",
    "\n",
    "Set up the environment. You may refer to [Environment Setup](https://wikidocs.net/257836) for more details.\n",
    "\n",
    "**[Note]**\n",
    "- ```langchain-opentutorial``` is a package that provides a set of easy-to-use environment setup, useful functions and utilities for tutorials. \n",
    "- You can checkout the [```langchain-opentutorial```](https://github.com/LangChain-OpenTutorial/langchain-opentutorial-pypi) for more details."
   ]
  },
  {
   "cell_type": "code",
   "execution_count": 1,
   "metadata": {},
   "outputs": [],
   "source": [
    "%%capture --no-stderr\n",
    "%pip install langchain-opentutorial"
   ]
  },
  {
   "cell_type": "code",
   "execution_count": 2,
   "metadata": {},
   "outputs": [],
   "source": [
    "# Install required packages\n",
    "from langchain_opentutorial import package\n",
    "\n",
    "package.install(\n",
    "    [\n",
    "        \"langsmith\",\n",
    "        \"langchain\",\n",
    "        \"langchain_openai\",\n",
    "        \"langchain_community\",\n",
    "    ],\n",
    "    verbose=False,\n",
    "    upgrade=False,\n",
    ")"
   ]
  },
  {
   "cell_type": "code",
   "execution_count": null,
   "metadata": {},
   "outputs": [
    {
     "name": "stdout",
     "output_type": "stream",
     "text": [
      "Environment variables have been set successfully.\n"
     ]
    }
   ],
   "source": [
    "# Set environment variables\n",
    "from langchain_opentutorial import set_env\n",
    "\n",
    "set_env(\n",
    "    {\n",
    "        \"OPENAI_API_KEY\": \"<Your OpenAI API KEY>\",\n",
    "        \"LANGCHAIN_API_KEY\": \"<Your LangChain API KEY>\",\n",
    "        \"LANGCHAIN_TRACING_V2\": \"true\",\n",
    "        \"LANGCHAIN_ENDPOINT\": \"https://api.smith.langchain.com\",\n",
    "        \"LANGCHAIN_PROJECT\": \"\",\n",
    "    }\n",
    ")"
   ]
  },
  {
   "cell_type": "markdown",
   "metadata": {},
   "source": [
    "---\n",
    "你也可以在 ```.env``` 文件中設定 ```OPENAI_API_KEY```，並且載入它。 \n",
    "\n",
    "[Note] 如果你已經在之前的步驟中设置了 ```OPENAI_API_KEY```，那麽這一步是不必要的。"
   ]
  },
  {
   "cell_type": "code",
   "execution_count": 3,
   "metadata": {},
   "outputs": [
    {
     "data": {
      "text/plain": [
       "True"
      ]
     },
     "execution_count": 3,
     "metadata": {},
     "output_type": "execute_result"
    }
   ],
   "source": [
    "# Configuration File for Managing API Key as an Environment Variable\n",
    "from dotenv import load_dotenv\n",
    "\n",
    "# Load API KEY Information\n",
    "load_dotenv(override=True)"
   ]
  },
  {
   "cell_type": "code",
   "execution_count": 4,
   "metadata": {},
   "outputs": [
    {
     "data": {
      "text/plain": [
       "False"
      ]
     },
     "execution_count": 4,
     "metadata": {},
     "output_type": "execute_result"
    }
   ],
   "source": [
    "# Set up LangSmith tracking: https://smith.langchain.com\n",
    "from langsmith import utils\n",
    "\n",
    "utils.tracing_is_enabled()"
   ]
  },
  {
   "cell_type": "markdown",
   "metadata": {},
   "source": [
    "## Utilizing Prompt Templates\n",
    "\n",
    "```PromptTemplate```\n",
    "\n",
    "- PromptTemplate常用來 創造一個完整的提示字串，其中包含使用者的輸入變數。\n",
    "- Usage\n",
    "  - ```template```: 模板字串是一個預先定義的格式，其中使用大括號 '{}' 來表示變數。\n",
    "\n",
    "  - ```input_variables```: 定義了要插入大括號中的變數名稱的清單。\n",
    "\n",
    "```input_variables```\n",
    "\n",
    "- ```input_variables```定義了要插入大括號中的變數名稱的清單。"
   ]
  },
  {
   "cell_type": "code",
   "execution_count": 5,
   "metadata": {},
   "outputs": [],
   "source": [
    "from langchain_core.prompts import PromptTemplate"
   ]
  },
  {
   "cell_type": "markdown",
   "metadata": {},
   "source": [
    "The ```from_template()``` method is used to create a ```PromptTemplate``` object."
   ]
  },
  {
   "cell_type": "code",
   "execution_count": 6,
   "metadata": {},
   "outputs": [
    {
     "data": {
      "text/plain": [
       "PromptTemplate(input_variables=['country'], input_types={}, partial_variables={}, template='What is the capital of {country}?')"
      ]
     },
     "execution_count": 6,
     "metadata": {},
     "output_type": "execute_result"
    }
   ],
   "source": [
    "# Define template\n",
    "template = \"What is the capital of {country}?\"\n",
    "\n",
    "# Create a `PromptTemplate` object using the `from_template` method.\n",
    "prompt_template = PromptTemplate.from_template(template)\n",
    "prompt_template"
   ]
  },
  {
   "cell_type": "code",
   "execution_count": 7,
   "metadata": {},
   "outputs": [
    {
     "data": {
      "text/plain": [
       "'What is the capital of Korea?'"
      ]
     },
     "execution_count": 7,
     "metadata": {},
     "output_type": "execute_result"
    }
   ],
   "source": [
    "# Generate the prompt.\n",
    "prompt = prompt_template.format(country=\"Korea\")\n",
    "prompt"
   ]
  },
  {
   "cell_type": "code",
   "execution_count": 8,
   "metadata": {},
   "outputs": [
    {
     "data": {
      "text/plain": [
       "'What is the capital of Korea?'"
      ]
     },
     "execution_count": 8,
     "metadata": {},
     "output_type": "execute_result"
    }
   ],
   "source": [
    "# Generate the prompt.\n",
    "prompt = prompt_template.format(country=\"Korea\")\n",
    "prompt"
   ]
  },
  {
   "cell_type": "code",
   "execution_count": 9,
   "metadata": {},
   "outputs": [
    {
     "data": {
      "text/plain": [
       "'What is the capital of USA?'"
      ]
     },
     "execution_count": 9,
     "metadata": {},
     "output_type": "execute_result"
    }
   ],
   "source": [
    "# Generate the prompt.\n",
    "prompt = prompt_template.format(country=\"USA\")\n",
    "prompt"
   ]
  },
  {
   "cell_type": "code",
   "execution_count": 9,
   "metadata": {},
   "outputs": [],
   "source": [
    "from langchain_openai.chat_models import ChatOpenAI\n",
    "\n",
    "model = ChatOpenAI(model=\"gpt-4o-mini\", temperature=0.1)"
   ]
  },
  {
   "cell_type": "markdown",
   "metadata": {},
   "source": [
    "## Chain Creation\n",
    "\n",
    "### LCEL (LangChain Expression Language)\n",
    "\n",
    "這裏, 我們使用 LCEL 將各種組件組合成一個單一的鏈.\n",
    "\n",
    "![lcel.png](./assets/02-langchain-expression-language.png)\n",
    "\n",
    "```\n",
    "chain = prompt | model | output_parser\n",
    "```\n",
    "\n",
    "```|``` 符號類似於 [Unix pipe operator](<https://en.wikipedia.org/wiki/Pipeline_(Unix)>), 連結不同的組件並傳遞一個組件的輸出作為下一個組件的輸入.\n",
    "\n",
    "在這個鏈中, 使用者輸入被傳遞到提示模板, 並從提示模板輸出轉發到模型. 通過獨立檢查每個組件, 你可以理解每個步驟發生什麼."
   ]
  },
  {
   "cell_type": "code",
   "execution_count": 10,
   "metadata": {},
   "outputs": [],
   "source": [
    "# Create the prompt as a `PromptTemplate` object.\n",
    "prompt = PromptTemplate.from_template(\"Please explain {topic} in simple terms.\")\n",
    "\n",
    "\n",
    "# Combine the prompt and model into a chain\n",
    "chain = prompt | model"
   ]
  },
  {
   "cell_type": "markdown",
   "metadata": {},
   "source": [
    "### Calling ```invoke()```\n",
    "\n",
    "- 輸入值以 Python 字典 (key-value pairs) 的形式提供.  \n",
    "- 在呼叫 ```invoke()``` 函數時, 這些輸入值會作為參數傳遞."
   ]
  },
  {
   "cell_type": "code",
   "execution_count": 11,
   "metadata": {},
   "outputs": [],
   "source": [
    "# 設定   topic 在 `input` 字典中為 'The Principles of Learning in Artificial Intelligence Models'.\n",
    "input = {\"topic\": \"The Principles of Learning in Artificial Intelligence Models\"}"
   ]
  },
  {
   "cell_type": "code",
   "execution_count": 12,
   "metadata": {},
   "outputs": [
    {
     "data": {
      "text/plain": [
       "AIMessage(content=\"Sure! The principles of learning in artificial intelligence (AI) models can be understood through a few key concepts. Here’s a simple breakdown:\\n\\n1. **Data**: AI models learn from data. Just like humans learn from experiences, AI systems analyze large amounts of information (data) to understand patterns and make decisions.\\n\\n2. **Training**: This is the process where the AI model learns from the data. During training, the model is exposed to examples and adjusts its internal parameters to improve its performance. Think of it like practicing a sport; the more you practice, the better you get.\\n\\n3. **Feedback**: After training, the model is tested on new data to see how well it performs. Feedback is crucial because it helps the model understand what it did right and what it needs to improve. This is similar to getting grades on a test.\\n\\n4. **Generalization**: A good AI model should not just memorize the training data but should also be able to apply what it learned to new, unseen data. This ability to generalize is important for the model to be useful in real-world situations.\\n\\n5. **Iteration**: Learning is often an iterative process. The model may go through multiple cycles of training and testing, refining its understanding and improving its accuracy over time.\\n\\n6. **Algorithms**: These are the rules or methods that the AI uses to learn from data. Different algorithms can be used depending on the type of problem being solved, such as classification, regression, or clustering.\\n\\n7. **Overfitting and Underfitting**: These are common issues in AI learning. Overfitting happens when a model learns the training data too well, including noise and outliers, making it perform poorly on new data. Underfitting occurs when a model is too simple to capture the underlying patterns in the data. The goal is to find a balance between the two.\\n\\n8. **Evaluation**: After training, the model's performance is evaluated using metrics (like accuracy, precision, recall) to determine how well it learned and how effectively it can make predictions.\\n\\nIn summary, AI models learn by analyzing data, receiving feedback, and adjusting their methods to improve performance. The process involves training, testing, and refining to ensure they can generalize well to new situations.\", additional_kwargs={'refusal': None}, response_metadata={'token_usage': {'completion_tokens': 462, 'prompt_tokens': 21, 'total_tokens': 483, 'completion_tokens_details': {'accepted_prediction_tokens': 0, 'audio_tokens': 0, 'reasoning_tokens': 0, 'rejected_prediction_tokens': 0}, 'prompt_tokens_details': {'audio_tokens': 0, 'cached_tokens': 0}}, 'model_name': 'gpt-4o-mini-2024-07-18', 'system_fingerprint': 'fp_34a54ae93c', 'finish_reason': 'stop', 'logprobs': None}, id='run--5a2bba9d-bdec-48b4-a66b-930626ba3bfe-0', usage_metadata={'input_tokens': 21, 'output_tokens': 462, 'total_tokens': 483, 'input_token_details': {'audio': 0, 'cache_read': 0}, 'output_token_details': {'audio': 0, 'reasoning': 0}})"
      ]
     },
     "execution_count": 12,
     "metadata": {},
     "output_type": "execute_result"
    }
   ],
   "source": [
    "# 將 `prompt` 物件和 `model` 物件使用管道 (`|`) 運算子連接.\n",
    "# 使用 `invoke` 方法傳遞 `input`.\n",
    "# 這將返回 AI 模型生成的消息.\n",
    "chain.invoke(input)"
   ]
  },
  {
   "cell_type": "markdown",
   "metadata": {},
   "source": [
    "下面是一個輸出流式回應的示例:"
   ]
  },
  {
   "cell_type": "code",
   "execution_count": 13,
   "metadata": {},
   "outputs": [
    {
     "name": "stdout",
     "output_type": "stream",
     "text": [
      "Sure! The principles of learning in artificial intelligence (AI) models can be understood through a few key concepts. Here’s a simple breakdown:\n",
      "\n",
      "1. **Data**: AI models learn from data. Just like humans learn from experiences, AI systems analyze large amounts of data to find patterns and make decisions. The quality and quantity of data are crucial for effective learning.\n",
      "\n",
      "2. **Training**: This is the process where the AI model learns from the data. During training, the model adjusts its internal parameters to minimize errors in its predictions. Think of it like practicing a sport; the more you practice, the better you get.\n",
      "\n",
      "3. **Feedback**: AI models often use feedback to improve. After making predictions, they compare their results to the actual outcomes. This feedback helps the model understand what it did right or wrong, allowing it to adjust and improve over time.\n",
      "\n",
      "4. **Generalization**: A good AI model should not only perform well on the data it was trained on but also on new, unseen data. This ability to apply learned knowledge to different situations is called generalization. It’s like learning a skill that you can use in various contexts.\n",
      "\n",
      "5. **Overfitting and Underfitting**: These are common issues in AI learning. Overfitting happens when a model learns the training data too well, including noise and outliers, making it perform poorly on new data. Underfitting occurs when a model is too simple to capture the underlying patterns in the data. The goal is to find a balance between the two.\n",
      "\n",
      "6. **Algorithms**: Different algorithms (methods) are used for learning. Some are better for specific types of problems. For example, neural networks are great for image recognition, while decision trees might be better for simpler classification tasks.\n",
      "\n",
      "7. **Iteration**: Learning is often an iterative process. Models are trained, evaluated, and refined multiple times to improve their performance. This is similar to how we learn from our mistakes and keep trying until we get it right.\n",
      "\n",
      "8. **Transfer Learning**: Sometimes, knowledge gained from one task can help with another related task. This is called transfer learning. For example, a model trained to recognize cats might be able to recognize dogs with less additional training.\n",
      "\n",
      "In summary, AI models learn by analyzing data, receiving feedback, and adjusting their methods to improve their predictions. The goal is to create models that can generalize well to new situations while avoiding common pitfalls like overfitting and underfitting."
     ]
    }
   ],
   "source": [
    "# Request for Streaming Output\n",
    "answer = chain.stream(input)\n",
    "\n",
    "# Streaming Output\n",
    "for token in answer:\n",
    "    print(token.content, end=\"\", flush=True)"
   ]
  },
  {
   "cell_type": "markdown",
   "metadata": {},
   "source": [
    "### Output Parser\n",
    "\n",
    "一個 **Output Parser** 是一個工具, 用於將 AI 模型的回應轉換或處理成特定格式. 由於模型的輸出通常以自由格式文本提供, 一個 **Output Parser** 是必要的, 用於將其轉換為結構化格式或提取所需數據.\n"
   ]
  },
  {
   "cell_type": "code",
   "execution_count": 14,
   "metadata": {},
   "outputs": [],
   "source": [
    "from langchain_core.output_parsers import StrOutputParser\n",
    "\n",
    "output_parser = (\n",
    "    StrOutputParser()\n",
    ")  # 直接返回模型的回應作為字符串, 不進行修改."
   ]
  },
  {
   "cell_type": "markdown",
   "metadata": {},
   "source": [
    "An output parser is added to the chain."
   ]
  },
  {
   "cell_type": "code",
   "execution_count": null,
   "metadata": {},
   "outputs": [],
   "source": [
    "# A processing chain is constructed by connecting the prompt, model, and output parser.\n",
    "chain = prompt | model | output_parser "
   ]
  },
  {
   "cell_type": "code",
   "execution_count": 16,
   "metadata": {},
   "outputs": [
    {
     "data": {
      "text/plain": [
       "'Sure! The principles of learning in artificial intelligence (AI) models can be understood as the basic ideas that guide how these models learn from data. Here are some key principles explained in simple terms:\\n\\n1. **Data is Key**: AI models learn from data. The more relevant and high-quality data you provide, the better the model can learn. Think of it like teaching a child; the more books and experiences they have, the more they learn.\\n\\n2. **Patterns and Features**: AI looks for patterns in the data. It identifies features (important characteristics) that help it understand and make predictions. For example, if you\\'re teaching an AI to recognize cats in pictures, it will learn features like fur texture, ear shape, and eye color.\\n\\n3. **Learning from Examples**: AI models learn by example. You show them many examples of what you want them to learn (like pictures of cats and dogs), and they adjust their understanding based on these examples.\\n\\n4. **Feedback and Improvement**: Just like in school, feedback is important. AI models often use a process called \"training\" where they make predictions, receive feedback on whether they were right or wrong, and then adjust their understanding to improve over time.\\n\\n5. **Generalization**: The goal of an AI model is to generalize from the examples it has seen to new, unseen data. This means it should be able to make accurate predictions on new examples that it hasn\\'t encountered before.\\n\\n6. **Overfitting and Underfitting**: These are common problems in learning. Overfitting happens when a model learns too much from the training data, including noise and outliers, making it perform poorly on new data. Underfitting occurs when a model doesn’t learn enough from the data, resulting in poor performance on both training and new data. Finding the right balance is crucial.\\n\\n7. **Algorithms and Techniques**: There are various algorithms (methods) used for learning, such as decision trees, neural networks, and support vector machines. Each has its strengths and weaknesses, and the choice depends on the specific task.\\n\\n8. **Continuous Learning**: AI can continue to learn and improve over time. This is called \"online learning\" or \"incremental learning,\" where the model updates itself as new data comes in.\\n\\n9. **Evaluation and Testing**: After training, it\\'s important to evaluate how well the model performs. This is done using separate test data that the model hasn\\'t seen before. It helps to ensure that the model is not just memorizing the training data but can actually generalize to new situations.\\n\\n10. **Ethics and Bias**: AI models can learn biases present in the data. It\\'s important to be aware of this and work to ensure that the data is fair and representative to avoid perpetuating stereotypes or making unfair decisions.\\n\\nIn summary, the principles of learning in AI revolve around using data to find patterns, learning from examples, receiving feedback, and striving to make accurate predictions on new data while being mindful of potential biases.'"
      ]
     },
     "execution_count": 16,
     "metadata": {},
     "output_type": "execute_result"
    }
   ],
   "source": [
    "# Use the invoke method of the chain object to pass the input\n",
    "chain.invoke(input)"
   ]
  },
  {
   "cell_type": "code",
   "execution_count": 17,
   "metadata": {},
   "outputs": [
    {
     "name": "stdout",
     "output_type": "stream",
     "text": [
      "Sure! The principles of learning in artificial intelligence (AI) models can be understood as the basic ideas that guide how these models learn from data. Here are some key principles explained in simple terms:\n",
      "\n",
      "1. **Data**: AI models learn from data. The more relevant and high-quality data you provide, the better the model can learn. Think of data as the \"food\" that helps the model grow and improve.\n",
      "\n",
      "2. **Patterns**: AI models look for patterns in the data. Just like humans recognize faces or voices, AI tries to find similarities and trends in the information it receives. This helps the model make predictions or decisions.\n",
      "\n",
      "3. **Feedback**: Learning often involves feedback. When an AI model makes a mistake, it can learn from that mistake if it receives feedback. This is similar to how we learn from our errors and adjust our behavior accordingly.\n",
      "\n",
      "4. **Generalization**: A good AI model should not just memorize the data it was trained on; it should be able to apply what it learned to new, unseen data. This ability to generalize is crucial for the model to be useful in real-world situations.\n",
      "\n",
      "5. **Iteration**: Learning is an iterative process. AI models often go through many cycles of training, testing, and refining. Each time they go through this cycle, they can improve their performance.\n",
      "\n",
      "6. **Complexity**: Some problems are more complex than others. AI models can be simple or very complex (like deep learning models). The choice of model depends on the problem at hand and the amount of data available.\n",
      "\n",
      "7. **Optimization**: AI models aim to optimize their performance. This means they try to minimize errors and maximize accuracy. They adjust their internal parameters to find the best way to make predictions.\n",
      "\n",
      "8. **Transfer Learning**: Sometimes, models can leverage knowledge gained from one task to help with another related task. This is called transfer learning and can save time and resources.\n",
      "\n",
      "9. **Ethics and Bias**: AI models can learn biases present in the data. It's important to be aware of this and ensure that the data is fair and representative to avoid perpetuating stereotypes or making unfair decisions.\n",
      "\n",
      "In summary, AI models learn by analyzing data, finding patterns, receiving feedback, and improving over time. They aim to generalize their knowledge to new situations while being mindful of ethical considerations."
     ]
    }
   ],
   "source": [
    "# Request for Streaming Output\n",
    "answer = chain.stream(input)\n",
    "\n",
    "# Streaming Output\n",
    "for token in answer:\n",
    "    print(token, end=\"\", flush=True)"
   ]
  },
  {
   "cell_type": "markdown",
   "metadata": {},
   "source": [
    "### Applying and Modifying Templates\n",
    "\n",
    "- The prompt content below can be **modified** as needed for testing purposes.  \n",
    "- The ```model_name``` can also be adjusted for testing."
   ]
  },
  {
   "cell_type": "code",
   "execution_count": 20,
   "metadata": {},
   "outputs": [],
   "source": [
    "template = \"\"\"\n",
    "你是有 10 年經驗的英文老師, 請寫一個適合給定情況的英文對話.  \n",
    "請參考 [FORMAT] 的結構.\n",
    "\n",
    "# 情況:\n",
    "{question}\n",
    "\n",
    "# 格式:\n",
    "- 英文對話:\n",
    "- 英文對話的解釋: \n",
    "\"\"\"\n",
    "\n",
    "# 產生 prompt\n",
    "prompt = PromptTemplate.from_template(template)\n",
    "\n",
    "# 初始化 ChatOpenAI 模型\n",
    "model = ChatOpenAI(model_name=\"gpt-4o-mini\")\n",
    "\n",
    "# 初始化 string output parser\n",
    "output_parser = StrOutputParser()"
   ]
  },
  {
   "cell_type": "code",
   "execution_count": 21,
   "metadata": {},
   "outputs": [],
   "source": [
    "# Construct the chain.\n",
    "chain = prompt | model | output_parser"
   ]
  },
  {
   "cell_type": "code",
   "execution_count": 22,
   "metadata": {},
   "outputs": [
    {
     "name": "stdout",
     "output_type": "stream",
     "text": [
      "- 英文對話:\n",
      "A: Good evening! Thank you for calling Bella's Italian Restaurant. How can I help you today?  \n",
      "B: Hi! I would like to make a reservation for dinner.  \n",
      "A: Sure! For what date and time?  \n",
      "B: I’d like to reserve a table for two this Friday at 7 PM.  \n",
      "A: Great! Can I have your name, please?  \n",
      "B: Yes, it’s Sarah.  \n",
      "A: Thank you, Sarah. Your reservation is confirmed for two people this Friday at 7 PM. Is there anything else I can assist you with?  \n",
      "B: No, that’s all. Thank you!  \n",
      "A: You’re welcome! We look forward to seeing you on Friday. Have a great day!\n",
      "\n",
      "- 英文對話的解釋:\n",
      "這段對話中，A是餐廳的接待員，而B是想要預訂餐桌的顧客。B首先表達了想要預訂的意圖，然後A詢問具體的日期和時間。B提供了預訂的詳細信息，包括人數和名字。A確認了預訂並詢問是否需要其他幫助，最後B表示不需要更多的幫助，並感謝A。這是一個典型的餐廳預訂的對話範例。\n"
     ]
    }
   ],
   "source": [
    "# Execute the completed Chain to obtain a response.\n",
    "print(chain.invoke({\"question\": \"我想要去餐廳訂餐.\"}))"
   ]
  },
  {
   "cell_type": "code",
   "execution_count": 23,
   "metadata": {},
   "outputs": [
    {
     "name": "stdout",
     "output_type": "stream",
     "text": [
      "- 英文對話:  \n",
      "**Customer:** Hi, I'd like to make a reservation for dinner, please.  \n",
      "**Host:** Sure! For how many people?  \n",
      "**Customer:** It will be for four people.  \n",
      "**Host:** Great! What date and time are you looking at?  \n",
      "**Customer:** We would like to come on Saturday at 7 PM.  \n",
      "**Host:** Perfect! I have you down for four people on Saturday at 7 PM. Can I have your name, please?  \n",
      "**Customer:** Yes, it's Alex.  \n",
      "**Host:** Thank you, Alex! We look forward to seeing you then.  \n",
      "\n",
      "- 英文對話的解釋:  \n",
      "這段對話是一位顧客與餐廳接待員之間的對話。顧客首先表達了想要訂位的要求，接待員隨後詢問訂位的人數。顧客回答是四個人，然後接待員詢問具體的日期和時間。在顧客提供了他們想要的時間後，接待員確認了預訂並要求顧客提供名字。最後，顧客提供了名字，接待員感謝並表示期待顧客的到來。這段對話簡單且清晰，適合用於餐廳訂位的情境。"
     ]
    }
   ],
   "source": [
    "# Execute the completed Chain to obtain a response\n",
    "# Request for Streaming Output\n",
    "answer = chain.stream({\"question\": \"我想要去餐廳訂餐.\"})\n",
    "\n",
    "# Streaming Output\n",
    "for token in answer:\n",
    "    print(token, end=\"\", flush=True)"
   ]
  },
  {
   "cell_type": "code",
   "execution_count": 24,
   "metadata": {},
   "outputs": [
    {
     "name": "stdout",
     "output_type": "stream",
     "text": [
      "- 英文對話:\n",
      "**Customer:** Hi, I’d like to order a pizza, please.  \n",
      "**Pizza Shop:** Sure! What size would you like?  \n",
      "**Customer:** I’ll have a large pizza.  \n",
      "**Pizza Shop:** Great! What toppings would you like?  \n",
      "**Customer:** Can I get pepperoni, mushrooms, and extra cheese?  \n",
      "**Pizza Shop:** Absolutely! Would you like to add any drinks or sides?  \n",
      "**Customer:** Yes, I’ll take a two-liter soda and some garlic bread.  \n",
      "**Pizza Shop:** Perfect! Your total comes to $25. Would you like to pay with cash or card?  \n",
      "**Customer:** I’ll pay with my card.  \n",
      "**Pizza Shop:** Thank you! Your order will be ready in about 30 minutes.  \n",
      "**Customer:** Thank you!\n",
      "\n",
      "- 英文對話的解釋: \n",
      "這段對話展示了顧客在美國的比薩店訂購比薩的過程。顧客開始時詢問訂購，店員確認訂單的大小。接著，顧客選擇了比薩的配料，店員則詢問是否需要附加的飲料或配菜，顧客選擇了飲料和大蒜麵包。最後，店員告知總金額並詢問付款方式，顧客選擇了使用信用卡付款，並確認了預計取餐的時間。這段對話簡單明了，符合在美國訂購比薩的實際情境。"
     ]
    }
   ],
   "source": [
    "# This time, set the question to 'Ordering Pizza in the US' and execute it.\n",
    "# Request for Streaming Output\n",
    "answer = chain.stream({\"question\": \"在美國訂購比薩\"})\n",
    "\n",
    "# Streaming Output\n",
    "for token in answer:\n",
    "    print(token, end=\"\", flush=True)"
   ]
  }
 ],
 "metadata": {
  "kernelspec": {
   "display_name": "Python 3",
   "language": "python",
   "name": "python3"
  },
  "language_info": {
   "codemirror_mode": {
    "name": "ipython",
    "version": 3
   },
   "file_extension": ".py",
   "mimetype": "text/x-python",
   "name": "python",
   "nbconvert_exporter": "python",
   "pygments_lexer": "ipython3",
   "version": "3.11.13"
  }
 },
 "nbformat": 4,
 "nbformat_minor": 2
}
