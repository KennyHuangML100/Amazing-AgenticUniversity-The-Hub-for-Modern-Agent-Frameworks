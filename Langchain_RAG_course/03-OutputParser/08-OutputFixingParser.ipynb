{
 "cells": [
  {
   "cell_type": "markdown",
   "metadata": {},
   "source": [
    "# Output Fixing Parser\n",
    "\n",
    "- Author: [Jeongeun Lim](https://www.linkedin.com/in/jeongeun-lim-808978188/)\n",
    "- Peer Review : [Junseong Kim](https://www.linkedin.com/in/%EC%A4%80%EC%84%B1-%EA%B9%80-591b351b2/)\n",
    "- Proofread : [Two-Jay](https://github.com/Two-Jay)\n",
    "- This is a part of [LangChain Open Tutorial](https://github.com/LangChain-OpenTutorial/LangChain-OpenTutorial)\n",
    "\n",
    "[![Open in Colab](https://colab.research.google.com/assets/colab-badge.svg)](https://colab.research.google.com/github/LangChain-OpenTutorial/LangChain-OpenTutorial/blob/main/03-OutputParser/08-OutputFixingParser.ipynb)[![Open in GitHub](https://img.shields.io/badge/Open%20in%20GitHub-181717?style=flat-square&logo=github&logoColor=white)](https://github.com/LangChain-OpenTutorial/LangChain-OpenTutorial/blob/main/03-OutputParser/08-OutputFixingParser.ipynb)\n",
    "## Overview\n",
    "\n",
    "The ```OutputFixingParser``` in LangChain provides an automated mechanism for correcting errors that may occur during the output parsing process. This parser is designed to wrap around another parser, such as the ```PydanticOutputParser```, and intervenes when the underlying parser encounters outputs that are malformed or do not conform to the expected format. It achieves this by leveraging additional LLM calls to fix the errors and ensure proper formatting.\n",
    "\n",
    "At its core, the ```OutputFixingParser``` addresses situations where the initial output does not comply with a predefined schema. If such an issue arises, the parser automatically detects the formatting errors and submits a new request to the model, including specific instructions for correcting the issue. These instructions highlight the problem areas and provide clear guidelines for restructuring the data in the correct format.\n",
    "\n",
    "This functionality is particularly useful in scenarios where strict adherence to a schema is critical. For example, when using the ```PydanticOutputParser``` to generate outputs conforming to a particular data schema, issues such as missing fields or incorrect data types might occur. \n",
    "\n",
    "- The ```OutputFixingParser``` steps in as follows:\n",
    "\n",
    "1. **Error Detection** : It recognizes that the output does not meet the schema requirements.\n",
    "2. **Error Correction** : It generates a follow-up request to the LLM with explicit instructions to address the issues.\n",
    "3. **Reformatted Output with Specific Instructions** : The ```OutputFixingParser``` ensures that the correction instructions precisely identify the errors, such as missing fields or incorrect data types. The instructions guide the LLM to reformat the output to meet the schema requirements accurately.\n",
    "\n",
    "\n",
    "---- \n",
    "Practical Example:\n",
    "\n",
    "Suppose you are using the ```PydanticOutputParser``` to enforce a schema requiring specific fields like ```name``` (string), ```age``` (integer), and ```email``` (string). If the LLM produces an output where the ```age``` field is missing or the ```email``` field is not a valid string, the ```OutputFixingParser``` automatically intervenes. It would issue a new request to the LLM with detailed instructions such as:\n",
    "\n",
    "- \"The output is missing the ```age``` field. Add an appropriate integer value for ```age```.\"\n",
    "- \"The ```email``` field contains an invalid format. Correct it to match a valid email string.\"\n",
    "\n",
    "This iterative process ensures the final output conforms to the specified schema without requiring manual intervention.\n",
    "\n",
    "\n",
    "---- \n",
    "Key Benefits: \n",
    "\n",
    "- **Error Recovery**: Automatically handles malformed outputs without requiring user input.\n",
    "- **Enhanced Accuracy**: Ensures outputs conform to predefined schemas, reducing the risk of inconsistencies.\n",
    "- **Streamlined Workflow**: Minimizes the need for manual corrections, saving time and improving efficiency.\n",
    "\n",
    "\n",
    "---- \n",
    "Implementation Steps: \n",
    "\n",
    "To use the ```OutputFixingParser``` effectively, follow these steps:\n",
    "\n",
    "1. **Wrap a Parser**: Instantiate the ```OutputFixingParser``` with another parser, such as the ```PydanticOutputParser```, as its base.\n",
    "2. **Define the Schema**: Specify the schema or format that the output must adhere to.\n",
    "3. **Enable Error Correction**: Allow the ```OutputFixingParser``` to detect and correct errors automatically through additional LLM calls, ensuring that correction instructions precisely identify and address issues for accurate reformatting.\n",
    "\n",
    "By integrating the ```OutputFixingParser``` into your workflow, you can ensure robust error handling and maintain consistent output quality in your LangChain applications.\n",
    "\n",
    "\n",
    "### Table of Contents\n",
    "\n",
    "- [Overview](#overview)\n",
    "- [Environment Setup](#environment-setup)\n",
    "- [Define Data Model and Set Up PydanticOutputParser](#define-data-model-and-set-up-pydanticoutputparser)\n",
    "- [Using OutputFixingParser to Correct Incorrect Formatting](#using-outputfixingparser-to-correct-incorrect-formatting)\n",
    "\n",
    "### References\n",
    "\n",
    "- [LangChain API Reference](https://python.langchain.com/api_reference/langchain/output_parsers/langchain.output_parsers.fix.OutputFixingParser.html)\n",
    "- [Pydantic Docs](https://docs.pydantic.dev/latest/api/base_model/)"
   ]
  },
  {
   "cell_type": "markdown",
   "metadata": {},
   "source": [
    "## Environment Setup\n",
    "\n",
    "Set up the environment. You may refer to [Environment Setup](https://wikidocs.net/257836) for more details.\n",
    "\n",
    "**[Note]**\n",
    "- ```langchain-opentutorial``` is a package that provides a set of easy-to-use environment setup, useful functions and utilities for tutorials. \n",
    "- You can checkout the [```langchain-opentutorial```](https://github.com/LangChain-OpenTutorial/langchain-opentutorial-pypi) for more details."
   ]
  },
  {
   "cell_type": "code",
   "execution_count": 1,
   "metadata": {},
   "outputs": [],
   "source": [
    "%%capture --no-stderr\n",
    "%pip install langchain-opentutorial"
   ]
  },
  {
   "cell_type": "code",
   "execution_count": 2,
   "metadata": {},
   "outputs": [],
   "source": [
    "# Install required packages\n",
    "from langchain_opentutorial import package\n",
    "\n",
    "package.install(\n",
    "    [\n",
    "        \"langsmith\",\n",
    "        \"langchain\",\n",
    "        \"langchain_openai\",\n",
    "        \"langchain_community\",\n",
    "    ],\n",
    "    verbose=False,\n",
    "    upgrade=False,\n",
    ")"
   ]
  },
  {
   "cell_type": "code",
   "execution_count": 3,
   "metadata": {},
   "outputs": [
    {
     "name": "stdout",
     "output_type": "stream",
     "text": [
      "Environment variables have been set successfully.\n"
     ]
    }
   ],
   "source": [
    "# Set environment variables\n",
    "from langchain_opentutorial import set_env\n",
    "\n",
    "set_env(\n",
    "    {\n",
    "        \"OPENAI_API_KEY\": \"\",\n",
    "        \"LANGCHAIN_API_KEY\": \"\",\n",
    "        \"LANGCHAIN_TRACING_V2\": \"true\",\n",
    "        \"LANGCHAIN_ENDPOINT\": \"https://api.smith.langchain.com\",\n",
    "        \"LANGCHAIN_PROJECT\": \"08-OutputFixingParser\",\n",
    "    }\n",
    ")"
   ]
  },
  {
   "cell_type": "markdown",
   "metadata": {},
   "source": [
    "You can alternatively set ```OPENAI_API_KEY``` in ```.env``` file and load it. \n",
    "\n",
    "[Note] This is not necessary if you've already set ```OPENAI_API_KEY``` in previous steps."
   ]
  },
  {
   "cell_type": "code",
   "execution_count": 4,
   "metadata": {},
   "outputs": [
    {
     "data": {
      "text/plain": [
       "True"
      ]
     },
     "execution_count": 4,
     "metadata": {},
     "output_type": "execute_result"
    }
   ],
   "source": [
    "from dotenv import load_dotenv\n",
    "\n",
    "load_dotenv(override=True)"
   ]
  },
  {
   "cell_type": "markdown",
   "metadata": {},
   "source": [
    "## Define Data Model and Set Up PydanticOutputParser\n",
    "\n",
    "- The Actor class is defined using the Pydantic model, where name and film_names are fields representing the actor's name and a list of films they starred in.\n",
    "- The ```PydanticOutputParser``` is used to parse outputs into an Actor object."
   ]
  },
  {
   "cell_type": "code",
   "execution_count": 5,
   "metadata": {},
   "outputs": [],
   "source": [
    "from langchain_core.output_parsers import PydanticOutputParser\n",
    "from pydantic import BaseModel, Field\n",
    "from typing import List\n",
    "\n",
    "\n",
    "# Define the Actor class using Pydantic\n",
    "class Actor(BaseModel):\n",
    "    name: str = Field(description=\"name of an actor\")\n",
    "    film_names: List[str] = Field(description=\"list of names of films they starred in\")\n",
    "\n",
    "\n",
    "# A query to generate the filmography for a random actor\n",
    "actor_query = \"Generate the filmography for a random actor.\"\n",
    "\n",
    "# Use PydanticOutputParser to parse the output into an Actor object\n",
    "parser = PydanticOutputParser(pydantic_object=Actor)"
   ]
  },
  {
   "cell_type": "markdown",
   "metadata": {},
   "source": [
    "### Attempt to Parse Misformatted Input Data\n",
    "\n",
    "- The misformatted variable contains an incorrectly formatted string, which does not match the expected structure (using ' instead of \").\n",
    "- Calling parser.parse() will result in an error because of the format mismatch."
   ]
  },
  {
   "cell_type": "code",
   "execution_count": null,
   "metadata": {},
   "outputs": [],
   "source": [
    "# Intentionally input misformatted data\n",
    "misformatted = \"{'name': 'Tom Hanks', 'film_names': ['Forrest Gump']}\"\n",
    "parser.parse(misformatted)\n",
    "\n",
    "# An error will be printed because the data is incorrectly formatted"
   ]
  },
  {
   "cell_type": "markdown",
   "metadata": {},
   "source": [
    "## Using OutputFixingParser to Correct Incorrect Formatting\n",
    "### Set Up OutputFixingParser to Automatically Correct the Error\n",
    "- ```OutputFixingParser``` wraps around the existing ```PydanticOutputParser``` and automatically fixes errors by making additional calls to the LLM.\n",
    "- The from_llm() method connects ```OutputFixingParser``` with ```ChatOpenAI``` to correct the formatting issues in the output."
   ]
  },
  {
   "cell_type": "code",
   "execution_count": 7,
   "metadata": {},
   "outputs": [],
   "source": [
    "from langchain_openai import ChatOpenAI\n",
    "from langchain_core.prompts import PromptTemplate\n",
    "from langchain.output_parsers import OutputFixingParser\n",
    "\n",
    "# Define a custom prompt to provide the fixing instructions\n",
    "fixing_prompt = PromptTemplate(\n",
    "    template=(\n",
    "        \"The following JSON is incorrectly formatted or incomplete: {completion}\\n\"\n",
    "    ),\n",
    "    input_variables=[\n",
    "        \"completion\",\n",
    "    ],\n",
    ")\n",
    "\n",
    "# Use OutputFixingParser to automatically fix the error\n",
    "new_parser = OutputFixingParser.from_llm(\n",
    "    parser=parser, llm=ChatOpenAI(model=\"gpt-4o\"), prompt=fixing_prompt\n",
    ")"
   ]
  },
  {
   "cell_type": "code",
   "execution_count": 8,
   "metadata": {},
   "outputs": [
    {
     "data": {
      "text/plain": [
       "\"{'name': 'Tom Hanks', 'film_names': ['Forrest Gump']}\""
      ]
     },
     "execution_count": 8,
     "metadata": {},
     "output_type": "execute_result"
    }
   ],
   "source": [
    "# Misformatted Output Data\n",
    "misformatted"
   ]
  },
  {
   "cell_type": "markdown",
   "metadata": {},
   "source": [
    "### Parse the Misformatted Output Using OutputFixingParser\n",
    "- The new_parser.parse() method is used to parse the misformatted data. OutputFixingParser will correct the errors in the data and generate a valid Actor object."
   ]
  },
  {
   "cell_type": "code",
   "execution_count": 9,
   "metadata": {},
   "outputs": [],
   "source": [
    "actor = new_parser.parse(misformatted)\n",
    "\n",
    "# Attempt to parse the misformatted JSON with Exception Handling\n",
    "# try:\n",
    "#     actor = new_parser.parse(misformatted)\n",
    "#     print(\"Parsed actor:\", actor)\n",
    "# except Exception as e:\n",
    "#     print(\"Error while parsing:\", e)"
   ]
  },
  {
   "cell_type": "markdown",
   "metadata": {},
   "source": [
    "### Check the Parsed Result\n",
    "- After parsing, the result is a valid Actor object with the corrected format. The errors in the initial misformatted string have been automatically fixed by OutputFixingParser."
   ]
  },
  {
   "cell_type": "code",
   "execution_count": 10,
   "metadata": {},
   "outputs": [
    {
     "data": {
      "text/plain": [
       "Actor(name='Tom Hanks', film_names=['Forrest Gump'])"
      ]
     },
     "execution_count": 10,
     "metadata": {},
     "output_type": "execute_result"
    }
   ],
   "source": [
    "actor"
   ]
  }
 ],
 "metadata": {
  "kernelspec": {
   "display_name": "langchain-opentutorial-fOxWcZdD-py3.11",
   "language": "python",
   "name": "python3"
  },
  "language_info": {
   "codemirror_mode": {
    "name": "ipython",
    "version": 3
   },
   "file_extension": ".py",
   "mimetype": "text/x-python",
   "name": "python",
   "nbconvert_exporter": "python",
   "pygments_lexer": "ipython3",
   "version": "3.11.0"
  }
 },
 "nbformat": 4,
 "nbformat_minor": 2
}
