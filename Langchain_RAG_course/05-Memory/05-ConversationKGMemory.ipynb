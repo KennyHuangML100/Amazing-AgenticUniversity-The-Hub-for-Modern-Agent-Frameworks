{
 "cells": [
  {
   "cell_type": "markdown",
   "id": "635d8ebb",
   "metadata": {},
   "source": [
    "# ConversationKGMemory\n",
    "\n",
    "## 概覽\n",
    "\n",
    "與以鍵值格式管理個別實體信息的 ```ConversationEntityMemory``` 不同，```ConversationKGMemory```（對話知識圖記憶體）是一個以圖形格式管理實體之間關係的模組。\n",
    "\n",
    "它提取並結構化**知識三元組**（主詞-關係-受詞）來識別和存儲實體之間的複雜關係，並允許通過**圖結構**探索實體連接性。\n",
    "\n",
    "這有助於模型理解不同實體之間的關係，並基於複雜網絡和歷史上下文更好地回應查詢。\n",
    "\n",
    "## 目錄\n",
    "\n",
    "- [概覽](#概覽)\n",
    "- [環境設定](#環境設定)\n",
    "- [對話知識圖記憶體](#對話知識圖記憶體)\n",
    "- [將 KG 記憶體應用於鏈](#將-kg-記憶體應用於鏈)\n",
    "- [使用 LCEL 應用 KG 記憶體](#使用-lcel-應用-kg-記憶體)\n",
    "\n",
    "## 參考資料\n",
    "\n",
    "- [LangChain Python API Reference>langchain-community: 0.3.13>memory>ConversationKGMemory](https://python.langchain.com/api_reference/community/memory/langchain_community.memory.kg.ConversationKGMemory.html)\n",
    "- [LangChain Python API Reference>langchain-community: 0.2.16>NetworkxEntityGraph](https://python.langchain.com/v0.2/api_reference/community/graphs/langchain_community.graphs.networkx_graph.NetworkxEntityGraph.html#langchain_community.graphs.networkx_graph.NetworkxEntityGraph)\n",
    "\n",
    "---\n",
    "\n",
    "**詳細解釋：**\n",
    "\n",
    "### ConversationKGMemory 的核心概念\n",
    "\n",
    "**1. 知識圖譜架構**\n",
    "- 不同於簡單的實體-資訊對應，KG Memory 建立了完整的實體關係網絡\n",
    "- 例如：「張三」-「工作於」-「科技公司」、「張三」-「居住在」-「台北」\n",
    "- 這些關係形成一個可查詢和遍歷的圖結構\n",
    "\n",
    "**2. 知識三元組（Knowledge Triplets）**\n",
    "- **主詞（Subject）**：關係的發起者（如：張三）\n",
    "- **關係（Relation）**：連接兩個實體的動作或狀態（如：工作於、住在）\n",
    "- **受詞（Object）**：關係的接受者（如：公司、城市）\n",
    "\n",
    "**3. 相較於 ConversationEntityMemory 的優勢**\n",
    "- **ConversationEntityMemory**：僅儲存個別實體的屬性\n",
    "  - 例如：張三 → {職業：工程師, 年齡：30}\n",
    "- **ConversationKGMemory**：儲存實體間的複雜關係\n",
    "  - 例如：張三 ← 同事 → 李四 ← 朋友 → 王五\n",
    "\n",
    "**4. 實際應用場景**\n",
    "- **客戶關係管理**：追蹤客戶之間的推薦關係\n",
    "- **企業組織**：理解員工之間的報告關係和協作網絡\n",
    "- **學術研究**：建立研究者、機構、論文之間的引用關係\n",
    "- **社交網絡分析**：分析用戶之間的互動和影響關係\n",
    "\n",
    "**5. 圖結構的查詢能力**\n",
    "- 可以回答如「誰是張三的同事？」「哪些人與某個專案有關？」\n",
    "- 支援多跳查詢：「張三的同事的朋友有誰？」\n",
    "- 能夠發現隱含的關係模式和網絡效應"
   ]
  },
  {
   "cell_type": "markdown",
   "id": "c6c7aba4",
   "metadata": {},
   "source": [
    "## Environment Setup\n",
    "\n",
    "Set up the environment. You may refer to [Environment Setup](https://wikidocs.net/257836) for more details.\n",
    "\n",
    "**[Note]**\n",
    "- ```langchain-opentutorial``` is a package that provides a set of easy-to-use environment setup, useful functions and utilities for tutorials. \n",
    "- You can checkout the [```langchain-opentutorial```](https://github.com/LangChain-OpenTutorial/langchain-opentutorial-pypi) for more details."
   ]
  },
  {
   "cell_type": "code",
   "execution_count": 1,
   "id": "21943adb",
   "metadata": {},
   "outputs": [],
   "source": [
    "%%capture --no-stderr\n",
    "%pip install langchain-opentutorial"
   ]
  },
  {
   "cell_type": "code",
   "execution_count": 2,
   "id": "f25ec196",
   "metadata": {},
   "outputs": [],
   "source": [
    "# Install required packages\n",
    "from langchain_opentutorial import package\n",
    "\n",
    "package.install(\n",
    "    [\n",
    "        \"langsmith\",\n",
    "        \"langchain\",\n",
    "        \"langchain_core\",\n",
    "        \"langchain_community\",\n",
    "        \"langchain_openai\",\n",
    "    ],\n",
    "    verbose=False,\n",
    "    upgrade=False,\n",
    ")"
   ]
  },
  {
   "cell_type": "code",
   "execution_count": 3,
   "id": "7f9065ea",
   "metadata": {},
   "outputs": [
    {
     "name": "stdout",
     "output_type": "stream",
     "text": [
      "Environment variables have been set successfully.\n"
     ]
    }
   ],
   "source": [
    "# Set environment variables\n",
    "from langchain_opentutorial import set_env\n",
    "\n",
    "set_env(\n",
    "    {\n",
    "        \"OPENAI_API_KEY\": \"\",\n",
    "        \"LANGCHAIN_API_KEY\": \"\",\n",
    "        \"LANGCHAIN_TRACING_V2\": \"true\",\n",
    "        \"LANGCHAIN_ENDPOINT\": \"https://api.smith.langchain.com\",\n",
    "        \"LANGCHAIN_PROJECT\": \"05-ConversationKGMemory\",  # title 과 동일하게 설정해 주세요\n",
    "    }\n",
    ")"
   ]
  },
  {
   "cell_type": "markdown",
   "id": "690a9ae0",
   "metadata": {},
   "source": [
    "You can alternatively set API keys such as ```OPENAI_API_KEY``` in a ```.env``` file and load them.\n",
    "\n",
    "[Note] This is not necessary if you've already set the required API keys in previous steps."
   ]
  },
  {
   "cell_type": "code",
   "execution_count": 4,
   "id": "4f99b5b6",
   "metadata": {},
   "outputs": [
    {
     "data": {
      "text/plain": [
       "True"
      ]
     },
     "execution_count": 4,
     "metadata": {},
     "output_type": "execute_result"
    }
   ],
   "source": [
    "# Load API keys from .env file\n",
    "from dotenv import load_dotenv\n",
    "\n",
    "load_dotenv(override=True)"
   ]
  },
  {
   "cell_type": "markdown",
   "id": "616661ad",
   "metadata": {},
   "source": [
    "## 對話知識圖記憶體\n",
    "\n",
    "```ConversationKGMemory``` 是一個記憶體模組，以圖結構存儲和管理從對話中提取的信息。\n",
    "\n",
    "此範例演示以下主要功能：\n",
    "- 存儲對話上下文（```save_context```）\n",
    "- （參考）取得圖中按因果依賴排序的實體名稱列表（```get_topological_sort```）\n",
    "- 從當前對話中提取實體（```get_current_entities```）\n",
    "- 提取知識三元組（```get_knowledge_triplets```）\n",
    "- 檢索存儲的記憶體（```load_memory_variables```）\n",
    "\n",
    "以下範例展示了從關於新設計師 Shelly Kim 的對話中提取實體和關係，並以圖形格式存儲的過程。\n",
    "\n",
    "**詳細說明：**\n",
    "\n",
    "這個範例將示範 ConversationKGMemory 如何處理一個具體的對話場景。當我們討論新設計師 Shelly Kim 時，系統會：\n",
    "\n",
    "1. **識別實體**：從對話中自動識別關鍵實體（如：Shelly Kim、設計師、公司等）\n",
    "\n",
    "2. **建立關係**：分析實體之間的關係\n",
    "   - 例如：Shelly Kim → 職業 → 設計師\n",
    "   - Shelly Kim → 工作地點 → 某公司\n",
    "\n",
    "3. **圖形存儲**：將這些關係以圖的形式存儲，便於後續查詢和推理\n",
    "\n",
    "4. **拓撲排序**：按照實體之間的依賴關係進行排序，幫助理解信息的邏輯順序\n",
    "\n",
    "5. **三元組提取**：將複雜的對話內容轉換為結構化的「主詞-關係-受詞」格式\n",
    "\n",
    "這種方法特別適用於需要記住人物關係、組織結構、或任何涉及多個實體間複雜互動的對話場景。"
   ]
  },
  {
   "cell_type": "code",
   "execution_count": 5,
   "id": "17efec71",
   "metadata": {},
   "outputs": [],
   "source": [
    "from langchain_openai import ChatOpenAI\n",
    "from langchain_community.memory.kg import ConversationKGMemory"
   ]
  },
  {
   "cell_type": "code",
   "execution_count": 6,
   "id": "e165b797",
   "metadata": {},
   "outputs": [],
   "source": [
    "llm = ChatOpenAI(model_name=\"gpt-4o\", temperature=0)\n",
    "\n",
    "memory = ConversationKGMemory(llm=llm, return_messages=True)\n",
    "memory.save_context(\n",
    "    {\"input\": \"This is Shelly Kim who lives in Pangyo.\"},\n",
    "    {\"output\": \"Hello Shelly, nice to meet you! What kind of work do you do?\"},\n",
    ")\n",
    "memory.save_context(\n",
    "    {\"input\": \"Shelly Kim is our company's new designer.\"},\n",
    "    {\n",
    "        \"output\": \"That's great! Welcome to our team. I hope you'll enjoy working with us.\"\n",
    "    },\n",
    ")"
   ]
  },
  {
   "cell_type": "markdown",
   "id": "dfed7692",
   "metadata": {},
   "source": [
    "### （參考）get_topological_sort() → List[str]\n",
    "\n",
    "您可以使用 ```get_topological_sort``` 方法以拓撲順序查看知識圖中存儲的所有實體：\n",
    "\n",
    "此方法：\n",
    "- 使用 ```NetworkX``` 函式庫分析知識圖結構。\n",
    "- 基於有向邊執行拓撲排序。\n",
    "- 返回按依賴順序排列的實體列表。\n",
    "\n",
    "該順序反映了對話中實體之間的關係，顯示它們在知識圖中的連接方式。\n",
    "\n",
    "**深入解析：**\n",
    "\n",
    "**拓撲排序的核心原理：**\n",
    "- **有向無環圖（DAG）**：知識圖必須是無環的才能進行拓撲排序\n",
    "- **依賴關係**：如果實體 A 指向實體 B，則 A 在排序中會出現在 B 之前\n",
    "- **層次結構**：幫助識別實體在知識網絡中的層級和重要性\n",
    "\n",
    "**NetworkX 的角色：**\n",
    "- **圖分析專家**：提供強大的圖論算法實現\n",
    "- **效率優化**：針對大型圖結構進行了性能優化\n",
    "- **豐富功能**：除了拓撲排序外，還提供路徑查找、中心性分析等功能\n",
    "\n",
    "**實際應用場景：**\n",
    "\n",
    "1. **企業組織架構**\n",
    "   ```\n",
    "   CEO → 副總裁 → 部門經理 → 組長 → 員工\n",
    "   ```\n",
    "\n",
    "2. **項目依賴關係**\n",
    "   ```\n",
    "   需求分析 → 設計 → 開發 → 測試 → 部署\n",
    "   ```\n",
    "\n",
    "3. **學術引用網絡**\n",
    "   ```\n",
    "   基礎理論 → 應用研究 → 實證研究 → 案例分析\n",
    "   ```\n",
    "\n",
    "**排序結果的意義：**\n",
    "- **前序實體**：通常是根源、原因或基礎概念\n",
    "- **後序實體**：通常是結果、效應或衍生概念\n",
    "- **中間實體**：起到橋樑作用，連接不同層級的概念\n",
    "\n",
    "**技術優勢：**\n",
    "- **循環檢測**：自動識別並處理可能的循環依賴\n",
    "- **多路徑分析**：處理複雜的多重依賴關係\n",
    "- **可視化支援**：便於將抽象的關係圖形化展示"
   ]
  },
  {
   "cell_type": "code",
   "execution_count": 7,
   "id": "dc39b1f8",
   "metadata": {},
   "outputs": [
    {
     "data": {
      "text/plain": [
       "['Shelly Kim', 'Pangyo', \"our company's new designer\"]"
      ]
     },
     "execution_count": 7,
     "metadata": {},
     "output_type": "execute_result"
    }
   ],
   "source": [
    "memory.kg.get_topological_sort()"
   ]
  },
  {
   "cell_type": "markdown",
   "id": "4b2323cd",
   "metadata": {},
   "source": [
    "### get_current_entities(input_string: str) → List[str]\n",
    "\n",
    "以下是 ```get_current_entities``` 方法的運作方式：\n",
    "\n",
    "**1. 實體提取鏈創建**\n",
    "- 使用 ```entity_extraction_prompt``` 模板創建 ```LLMChain```。\n",
    "- 此提示專門設計用於從對話的最後一行提取專有名詞。\n",
    "\n",
    "**2. 上下文處理**\n",
    "- 從緩衝區檢索最後 **k*2** 條訊息。（預設：k=2）\n",
    "- 使用 ```human_prefix``` 和 ```ai_prefix``` 生成對話歷史字串。\n",
    "\n",
    "**3. 實體提取**\n",
    "- 從輸入字串「Who is Shelly Kim?」中提取專有名詞\n",
    "- 主要識別以大寫字母開頭的單詞作為專有名詞。\n",
    "- 在此情況下，「Shelly Kim」被提取為實體。\n",
    "\n",
    "此方法**僅從問題本身提取實體**，而先前的對話上下文僅用作參考。\n",
    "\n",
    "**詳細說明：**\n",
    "\n",
    "**實體提取的工作原理：**\n",
    "1. **語言模型驅動**：使用 LLM 的自然語言理解能力來識別實體\n",
    "2. **專有名詞識別**：重點關注人名、地名、公司名等專有名詞\n",
    "3. **上下文感知**：雖然主要分析當前輸入，但會參考歷史對話來提高準確性\n",
    "\n",
    "**k*2 訊息的意義：**\n",
    "- k 代表對話輪次數（預設為 2）\n",
    "- 乘以 2 是因為每輪對話包含人類訊息和 AI 回應\n",
    "- 總共檢索 4 條訊息作為上下文參考\n",
    "\n",
    "**實體識別規則：**\n",
    "- **大寫字母開頭**：通常表示專有名詞\n",
    "- **語義分析**：LLM 會根據語境判斷是否為實體\n",
    "- **領域相關**：可能識別特定領域的術語和概念\n",
    "\n",
    "**方法的限制：**\n",
    "- 主要依賴當前輸入，可能遺漏歷史對話中的重要實體\n",
    "- 對於複雜的實體關係，可能需要更深入的上下文分析\n",
    "- 語言和格式的變化可能影響識別準確性"
   ]
  },
  {
   "cell_type": "code",
   "execution_count": 8,
   "id": "1eae79db",
   "metadata": {},
   "outputs": [
    {
     "data": {
      "text/plain": [
       "['Shelly Kim']"
      ]
     },
     "execution_count": 8,
     "metadata": {},
     "output_type": "execute_result"
    }
   ],
   "source": [
    "memory.get_current_entities({\"input\": \"Who is Shelly Kim?\"})"
   ]
  },
  {
   "cell_type": "markdown",
   "id": "28fe430b",
   "metadata": {},
   "source": [
    "### get_knowledge_triplets(input_string: str) → List[KnowledgeTriple]\n",
    "\n",
    "```get_knowledge_triplets``` 方法的運作方式如下：\n",
    "\n",
    "**1. 知識三元組提取鏈**\n",
    "- 使用 ```knowledge_triplet_extraction_prompt``` 模板創建 ```LLMChain```。\n",
    "- 專門設計用於從給定文本中提取（**主詞-關係-受詞**）格式的三元組。\n",
    "\n",
    "**2. 記憶體搜尋**\n",
    "- 從先前存儲的對話中搜尋與「Shelly」相關的信息。\n",
    "- 存儲的上下文：\n",
    "  - 「This is Shelly Kim who lives in Pangyo.」\n",
    "  - 「Shelly Kim is our company's new designer.」\n",
    "\n",
    "**3. 三元組提取**\n",
    "- 從檢索到的信息中生成以下三元組：\n",
    "  - (Shelly Kim, lives in, Pangyo)\n",
    "  - (Shelly Kim, is, designer)\n",
    "  - (Shelly Kim, works at, our company)\n",
    "\n",
    "此方法從所有與**特定實體相關**的存儲對話內容中提取**三元組格式**的關係信息。\n",
    "\n",
    "**深入說明：**\n",
    "\n",
    "**知識三元組的結構：**\n",
    "- **主詞（Subject）**：關係的發起者，通常是人、物或概念\n",
    "- **關係（Relation）**：描述主詞和受詞之間連接的動詞或狀態\n",
    "- **受詞（Object）**：關係的接受者或目標\n",
    "\n",
    "**提取過程的技術細節：**\n",
    "\n",
    "1. **語義分析**\n",
    "   - LLM 理解自然語言中的隱含關係\n",
    "   - 識別同義詞和相似表達（如「works at」和「is employed by」）\n",
    "\n",
    "2. **實體消歧**\n",
    "   - 確保「Shelly」和「Shelly Kim」指向同一實體\n",
    "   - 處理代詞和簡稱的歸一化\n",
    "\n",
    "3. **關係標準化**\n",
    "   - 將多樣的自然語言表達轉換為標準化的關係標籤\n",
    "   - 例如：「住在」、「居住於」→ 統一為「lives in」\n",
    "\n",
    "**實際應用價值：**\n",
    "- **結構化知識**：將非結構化對話轉換為可查詢的知識庫\n",
    "- **關係推理**：支援複雜的多跳查詢和推理\n",
    "- **知識圖譜建構**：為大型知識圖譜提供基礎數據\n",
    "\n",
    "**輸出格式 KnowledgeTriple：**\n",
    "```python\n",
    "class KnowledgeTriple:\n",
    "    subject: str      # 主詞\n",
    "    predicate: str    # 關係/謂詞\n",
    "    object: str       # 受詞\n",
    "```\n",
    "\n",
    "這種結構化的表示方式使得知識能夠被有效存儲、查詢和推理使用。"
   ]
  },
  {
   "cell_type": "code",
   "execution_count": 9,
   "id": "cb102317",
   "metadata": {},
   "outputs": [
    {
     "data": {
      "text/plain": [
       "([KnowledgeTriple(subject='Shelly Kim', predicate='lives in', object_='Pangyo'),\n",
       "  KnowledgeTriple(subject='Shelly Kim', predicate='is', object_=\"company's new designer\")],\n",
       " '\\n',\n",
       " [KnowledgeTriple(subject='Shelly Kim', predicate='lives in', object_='Pangyo')],\n",
       " '\\n',\n",
       " [KnowledgeTriple(subject='Shelly Kim', predicate='is a', object_='designer')],\n",
       " '\\n',\n",
       " [])"
      ]
     },
     "execution_count": 9,
     "metadata": {},
     "output_type": "execute_result"
    }
   ],
   "source": [
    "memory.get_knowledge_triplets({\"input\": \"Shelly\"}), \"\\n\", memory.get_knowledge_triplets(\n",
    "    {\"input\": \"Pangyo\"}\n",
    "), \"\\n\", memory.get_knowledge_triplets(\n",
    "    {\"input\": \"designer\"}\n",
    "), \"\\n\", memory.get_knowledge_triplets(\n",
    "    {\"input\": \"Langchain\"}\n",
    ")"
   ]
  },
  {
   "cell_type": "markdown",
   "id": "662b3831",
   "metadata": {},
   "source": [
    "### load_memory_variables(inputs: Dict[str, Any]) → Dict[str, Any]\n",
    "\n",
    "```load_memory_variables``` 方法通過以下步驟運作：\n",
    "\n",
    "**1. 實體提取**\n",
    "- 從輸入「Who is Shelly Kim?」中提取實體（例如「Shelly Kim」）\n",
    "- 內部使用 ```get_current_entities``` 方法。\n",
    "\n",
    "**2. 知識檢索**\n",
    "- 搜尋與提取實體相關的所有知識三元組。\n",
    "- 查詢圖形中先前通過 ```save_context``` 方法存儲的信息。\n",
    "\n",
    "**3. 信息格式化**\n",
    "- 將找到的三元組轉換為系統訊息。\n",
    "- 由於 ```return_messages=True``` 設定，返回訊息物件列表。\n",
    "\n",
    "此方法從存儲的知識圖中檢索相關信息，並以結構化格式返回，隨後可用作與語言模型進行後續對話的上下文。\n",
    "\n",
    "**詳細流程說明：**\n",
    "\n",
    "**步驟 1：實體識別與提取**\n",
    "```python\n",
    "# 輸入處理\n",
    "input_text = \"Who is Shelly Kim?\"\n",
    "entities = get_current_entities(input_text)  # 返回 [\"Shelly Kim\"]\n",
    "```\n",
    "\n",
    "**步驟 2：圖形查詢過程**\n",
    "```python\n",
    "# 知識圖搜尋\n",
    "for entity in entities:\n",
    "    related_triplets = search_graph(entity)\n",
    "    # 例如找到：\n",
    "    # (Shelly Kim, lives in, Pangyo)\n",
    "    # (Shelly Kim, is, designer)\n",
    "    # (Shelly Kim, works at, our company)\n",
    "```\n",
    "\n",
    "**步驟 3：結果格式化**\n",
    "```python\n",
    "# 轉換為訊息格式\n",
    "messages = []\n",
    "for triplet in triplets:\n",
    "    message = SystemMessage(\n",
    "        content=f\"{triplet.subject} {triplet.predicate} {triplet.object}\"\n",
    "    )\n",
    "    messages.append(message)\n",
    "```\n",
    "\n",
    "**return_messages=True 的影響：**\n",
    "- **True**：返回 `List[BaseMessage]` 物件，適合直接傳入聊天模型\n",
    "- **False**：返回純文字字串，適合傳統的文字處理\n",
    "\n",
    "**在對話鏈中的應用：**\n",
    "1. **上下文注入**：將檢索到的知識作為系統訊息注入對話\n",
    "2. **個性化回應**：基於已知實體信息提供更準確的回答\n",
    "3. **知識連貫性**：確保對話中的信息與先前存儲的知識保持一致\n",
    "\n",
    "**技術優勢：**\n",
    "- **動態檢索**：只檢索與當前查詢相關的信息\n",
    "- **結構化輸出**：便於後續處理和整合\n",
    "- **擴展性**：支援複雜的多實體查詢和關係推理"
   ]
  },
  {
   "cell_type": "code",
   "execution_count": 10,
   "id": "92d6929d",
   "metadata": {},
   "outputs": [
    {
     "data": {
      "text/plain": [
       "{'history': [SystemMessage(content=\"On Shelly Kim: Shelly Kim lives in Pangyo. Shelly Kim is our company's new designer.\", additional_kwargs={}, response_metadata={})]}"
      ]
     },
     "execution_count": 10,
     "metadata": {},
     "output_type": "execute_result"
    }
   ],
   "source": [
    "memory.load_memory_variables({\"input\": \"Who is Shelly Kim?\"})"
   ]
  },
  {
   "cell_type": "markdown",
   "id": "aa00c3f4",
   "metadata": {},
   "source": [
    "## Applying KG Memory to Chain\n",
    "\n",
    "This section demonstrates how to use ```ConversationKGMemory``` with **ConversationChain** .\n",
    "\n",
    "(The class **ConversationChain** was deprecated in LangChain 0.2.7 and will be removed in 1.0. If you want, you can skip to [Applying KG Memory with LCEL](#applying-kg-memory-with-lcel))"
   ]
  },
  {
   "cell_type": "code",
   "execution_count": 11,
   "id": "b020b140",
   "metadata": {},
   "outputs": [
    {
     "name": "stderr",
     "output_type": "stream",
     "text": [
      "C:\\Users\\Caelu\\AppData\\Local\\Temp\\ipykernel_5648\\1729312250.py:21: LangChainDeprecationWarning: The class `ConversationChain` was deprecated in LangChain 0.2.7 and will be removed in 1.0. Use :meth:`~RunnableWithMessageHistory: https://python.langchain.com/v0.2/api_reference/core/runnables/langchain_core.runnables.history.RunnableWithMessageHistory.html` instead.\n",
      "  conversation_with_kg = ConversationChain(\n"
     ]
    }
   ],
   "source": [
    "from langchain_community.memory.kg import ConversationKGMemory\n",
    "from langchain_core.prompts.prompt import PromptTemplate\n",
    "from langchain.chains import ConversationChain\n",
    "\n",
    "llm = ChatOpenAI(model_name=\"gpt-4o\", temperature=0)\n",
    "\n",
    "template = \"\"\"The following is a friendly conversation between a human and an AI. \n",
    "The AI is talkative and provides lots of specific details from its context. \n",
    "If the AI does not know the answer to a question, it truthfully says it does not know. \n",
    "The AI ONLY uses information contained in the \"Relevant Information\" section and does not hallucinate.\n",
    "\n",
    "Relevant Information:\n",
    "\n",
    "{history}\n",
    "\n",
    "Conversation:\n",
    "Human: {input}\n",
    "AI:\"\"\"\n",
    "prompt = PromptTemplate(input_variables=[\"history\", \"input\"], template=template)\n",
    "\n",
    "conversation_with_kg = ConversationChain(\n",
    "    llm=llm, prompt=prompt, memory=ConversationKGMemory(llm=llm)\n",
    ")"
   ]
  },
  {
   "cell_type": "markdown",
   "id": "dcf33db4",
   "metadata": {},
   "source": [
    "Let's initialize the conversation with some basic information."
   ]
  },
  {
   "cell_type": "code",
   "execution_count": 12,
   "id": "e25d23b6",
   "metadata": {},
   "outputs": [
    {
     "data": {
      "text/plain": [
       "\"Hi Teddy! It's great to meet you. It sounds like you and Shelly are working together in a creative environment. Being a new designer, Shelly must be bringing fresh ideas and perspectives to your team. How has it been working with her so far?\""
      ]
     },
     "execution_count": 12,
     "metadata": {},
     "output_type": "execute_result"
    }
   ],
   "source": [
    "conversation_with_kg.predict(\n",
    "    input=\"My name is Teddy. Shelly is a coworker of mine, and she's a new designer at our company.\"\n",
    ")"
   ]
  },
  {
   "cell_type": "markdown",
   "id": "de4d10e7",
   "metadata": {},
   "source": [
    "Let's query the memory for information about Shelly."
   ]
  },
  {
   "cell_type": "code",
   "execution_count": 13,
   "id": "c0e71b6e",
   "metadata": {},
   "outputs": [
    {
     "data": {
      "text/plain": [
       "{'history': 'On Shelly: Shelly is a coworker of Teddy. Shelly is a new designer. Shelly works at our company.'}"
      ]
     },
     "execution_count": 13,
     "metadata": {},
     "output_type": "execute_result"
    }
   ],
   "source": [
    "conversation_with_kg.memory.load_memory_variables({\"input\": \"who is Shelly?\"})"
   ]
  },
  {
   "cell_type": "markdown",
   "id": "bc034d9b",
   "metadata": {},
   "source": [
    "You can also reset the memory by ```memory.clear()```."
   ]
  },
  {
   "cell_type": "code",
   "execution_count": 14,
   "id": "208b5e4b",
   "metadata": {},
   "outputs": [
    {
     "data": {
      "text/plain": [
       "{'history': ''}"
      ]
     },
     "execution_count": 14,
     "metadata": {},
     "output_type": "execute_result"
    }
   ],
   "source": [
    "conversation_with_kg.memory.clear()\n",
    "conversation_with_kg.memory.load_memory_variables({\"input\": \"who is Shelly?\"})"
   ]
  },
  {
   "cell_type": "markdown",
   "id": "ba8d42f5",
   "metadata": {},
   "source": [
    "## Applying KG Memory with LCEL\n",
    "\n",
    "Let's examine the memory after having a conversation using a custom **ConversationChain** with ```ConversationKGMemory``` by LCEL"
   ]
  },
  {
   "cell_type": "code",
   "execution_count": 15,
   "id": "1905d380",
   "metadata": {},
   "outputs": [],
   "source": [
    "from operator import itemgetter\n",
    "from langchain_community.memory.kg import ConversationKGMemory\n",
    "from langchain_core.prompts import ChatPromptTemplate, MessagesPlaceholder\n",
    "from langchain_core.runnables import RunnableLambda, RunnablePassthrough\n",
    "from langchain_openai import ChatOpenAI\n",
    "\n",
    "llm = ChatOpenAI(model_name=\"gpt-4o\", temperature=0)\n",
    "\n",
    "prompt = ChatPromptTemplate.from_messages(\n",
    "    [\n",
    "        (\n",
    "            \"system\",\n",
    "            \"\"\"The following is a friendly conversation between a human and an AI. \n",
    "The AI is talkative and provides lots of specific details from its context. \n",
    "If the AI does not know the answer to a question, it truthfully says it does not know. \n",
    "The AI ONLY uses information contained in the \"Relevant Information\" section and does not hallucinate.\n",
    "\n",
    "Relevant Information:\n",
    "{history}\"\"\",\n",
    "        ),\n",
    "        MessagesPlaceholder(variable_name=\"history\"),\n",
    "        (\"human\", \"{input}\"),\n",
    "    ]\n",
    ")\n",
    "\n",
    "memory = ConversationKGMemory(llm=llm, return_messages=True, memory_key=\"history\")\n",
    "\n",
    "\n",
    "class ConversationChain:\n",
    "    def __init__(self, prompt, llm, memory):\n",
    "        self.memory = memory\n",
    "        self.chain = (\n",
    "            RunnablePassthrough()\n",
    "            | RunnablePassthrough.assign(\n",
    "                history=RunnableLambda(memory.load_memory_variables)\n",
    "                | itemgetter(\"history\")\n",
    "            )\n",
    "            | prompt\n",
    "            | llm\n",
    "        )\n",
    "\n",
    "    def invoke(self, input_dict):\n",
    "        response = self.chain.invoke(input_dict)\n",
    "        self.memory.save_context(input_dict, {\"output\": response.content})\n",
    "        return response\n",
    "\n",
    "\n",
    "conversation_with_kg = ConversationChain(prompt, llm, memory)"
   ]
  },
  {
   "cell_type": "markdown",
   "id": "07ca6c16",
   "metadata": {},
   "source": [
    "Let's initialize the conversation with some basic information."
   ]
  },
  {
   "cell_type": "code",
   "execution_count": 16,
   "id": "99ac927b",
   "metadata": {},
   "outputs": [
    {
     "data": {
      "text/plain": [
       "\"Hi Teddy! It's nice to meet you. It sounds like you and Shelly are working together at your company. How's everything going with the new designer on board?\""
      ]
     },
     "execution_count": 16,
     "metadata": {},
     "output_type": "execute_result"
    }
   ],
   "source": [
    "response = conversation_with_kg.invoke(\n",
    "    {\n",
    "        \"input\": \"My name is Teddy. Shelly is a coworker of mine, and she's a new designer at our company.\"\n",
    "    }\n",
    ")\n",
    "response.content"
   ]
  },
  {
   "cell_type": "markdown",
   "id": "514ea4d8",
   "metadata": {},
   "source": [
    "Let's query the memory for information about Shelly."
   ]
  },
  {
   "cell_type": "code",
   "execution_count": 17,
   "id": "c18820be",
   "metadata": {},
   "outputs": [
    {
     "data": {
      "text/plain": [
       "{'history': [SystemMessage(content='On Shelly: Shelly is a coworker of Teddy. Shelly is a new designer. Shelly works at our company.', additional_kwargs={}, response_metadata={})]}"
      ]
     },
     "execution_count": 17,
     "metadata": {},
     "output_type": "execute_result"
    }
   ],
   "source": [
    "conversation_with_kg.memory.load_memory_variables({\"input\": \"who is Shelly?\"})"
   ]
  },
  {
   "cell_type": "markdown",
   "id": "a14d527d",
   "metadata": {},
   "source": [
    "You can also reset the memory by ```memory.clear()```."
   ]
  },
  {
   "cell_type": "code",
   "execution_count": 18,
   "id": "3dfac660",
   "metadata": {},
   "outputs": [
    {
     "data": {
      "text/plain": [
       "{'history': []}"
      ]
     },
     "execution_count": 18,
     "metadata": {},
     "output_type": "execute_result"
    }
   ],
   "source": [
    "conversation_with_kg.memory.clear()\n",
    "conversation_with_kg.memory.load_memory_variables({\"input\": \"who is Shelly?\"})"
   ]
  }
 ],
 "metadata": {
  "kernelspec": {
   "display_name": "langchain-opentutorial-A2cWC-y3-py3.11",
   "language": "python",
   "name": "python3"
  },
  "language_info": {
   "codemirror_mode": {
    "name": "ipython",
    "version": 3
   },
   "file_extension": ".py",
   "mimetype": "text/x-python",
   "name": "python",
   "nbconvert_exporter": "python",
   "pygments_lexer": "ipython3",
   "version": "3.11.4"
  }
 },
 "nbformat": 4,
 "nbformat_minor": 5
}
