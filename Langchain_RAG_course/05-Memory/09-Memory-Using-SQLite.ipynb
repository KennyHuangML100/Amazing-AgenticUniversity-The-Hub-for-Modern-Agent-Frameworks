{
 "cells": [
  {
   "cell_type": "markdown",
   "id": "635d8ebb",
   "metadata": {},
   "source": [
    "# 使用 SQLite 儲存記憶體\n",
    "\n",
    "## 概覽\n",
    "\n",
    "本教學說明了 ```SQLChatMessageHistory``` 類別的使用方式，該類別允許將聊天記錄儲存至任何由 ```SQLAlchemy``` 支援的資料庫中。\n",
    "\n",
    "```SQL（結構化查詢語言）``` 是一種領域專用語言，用於程式設計中管理關聯式資料庫管理系統（RDBMS）中的資料，或用於關聯式資料流管理系統（RDSMS）中的資料流處理。它特別適合處理結構化資料，包括實體與變數間的關係。\n",
    "\n",
    "```SQLAlchemy``` 是一個開源的 **SQL** 工具包與物件關聯對應（ORM）框架，適用於 Python 程式語言，採用 MIT 授權釋出。\n",
    "\n",
    "若你希望使用非 ```SQLite``` 的資料庫，請先確保已安裝該資料庫對應的驅動程式。\n",
    "\n",
    "### 目錄\n",
    "\n",
    "- [概覽](#overview)\n",
    "- [環境設置](#environment-setup)\n",
    "- [使用方式](#Usage)\n",
    "- [鏈結應用](#Chaining)\n",
    "\n",
    "### 參考資料\n",
    "\n",
    "- [Wikipedia：SQL](https://en.wikipedia.org/wiki/SQL)\n",
    "- [SQLAlchemy 官方 GitHub](https://github.com/sqlalchemy/sqlalchemy)\n",
    "----"
   ]
  },
  {
   "cell_type": "markdown",
   "id": "c6c7aba4",
   "metadata": {},
   "source": [
    "## Environment Setup\n",
    "\n",
    "Set up the environment. You may refer to [Environment Setup](https://wikidocs.net/257836) for more details.\n",
    "\n",
    "**[Note]**\n",
    "- ```langchain-opentutorial``` is a package that provides a set of easy-to-use environment setup, useful functions and utilities for tutorials. \n",
    "- You can checkout the [```langchain-opentutorial```](https://github.com/LangChain-OpenTutorial/langchain-opentutorial-pypi) for more details."
   ]
  },
  {
   "cell_type": "code",
   "execution_count": 1,
   "id": "21943adb",
   "metadata": {},
   "outputs": [],
   "source": [
    "%%capture --no-stderr\n",
    "%pip install langchain_opentutorial"
   ]
  },
  {
   "cell_type": "code",
   "execution_count": 2,
   "id": "f25ec196",
   "metadata": {},
   "outputs": [],
   "source": [
    "# Install required packages\n",
    "from langchain_opentutorial import package\n",
    "\n",
    "package.install(\n",
    "    [\n",
    "        \"langchain_community\",\n",
    "        \"langchain_openai\",\n",
    "        \"langchain_core\",\n",
    "        \"SQLAlchemy\",\n",
    "    ],\n",
    "    verbose=False,\n",
    "    upgrade=False,\n",
    ")"
   ]
  },
  {
   "cell_type": "code",
   "execution_count": null,
   "id": "b012261d",
   "metadata": {},
   "outputs": [
    {
     "name": "stdout",
     "output_type": "stream",
     "text": [
      "Environment variables have been set successfully.\n"
     ]
    }
   ],
   "source": [
    "# Set environment variables\n",
    "from langchain_opentutorial import set_env\n",
    "\n",
    "set_env(\n",
    "    {\n",
    "        \"OPENAI_API_KEY\": \"\",\n",
    "        \"LANGCHAIN_API_KEY\": \"\",\n",
    "        \"LANGCHAIN_TRACING_V2\": \"true\",\n",
    "        \"LANGCHAIN_ENDPOINT\": \"https://api.smith.langchain.com\",\n",
    "        \"LANGCHAIN_PROJECT\": \"MemoryUsingSQLite\",\n",
    "    }\n",
    ")"
   ]
  },
  {
   "cell_type": "markdown",
   "id": "1ec228d5",
   "metadata": {},
   "source": [
    "You can alternatively set ```OPENAI_API_KEY``` in ```.env``` file and load it.\n",
    "\n",
    "[Note] This is not necessary if you've already set ```OPENAI_API_KEY``` in previous steps."
   ]
  },
  {
   "cell_type": "code",
   "execution_count": null,
   "id": "763d9c57",
   "metadata": {},
   "outputs": [
    {
     "data": {
      "text/plain": [
       "True"
      ]
     },
     "execution_count": 4,
     "metadata": {},
     "output_type": "execute_result"
    }
   ],
   "source": [
    "# from dotenv import load_dotenv\n",
    "\n",
    "# load_dotenv()"
   ]
  },
  {
   "cell_type": "markdown",
   "id": "aa00c3f4",
   "metadata": {},
   "source": [
    "## 使用方式\n",
    "\n",
    "要使用此儲存機制，你只需提供以下兩個項目：\n",
    "\n",
    "1. ```session_id``` - 一個唯一的會話識別碼，例如使用者名稱、電子郵件、聊天 ID 等。\n",
    "\n",
    "2. ```connection``` - 指定資料庫連線的字串。此字串將傳遞給 SQLAlchemy 的 ```create_engine``` 函式。"
   ]
  },
  {
   "cell_type": "code",
   "execution_count": 6,
   "id": "a466cc09",
   "metadata": {},
   "outputs": [],
   "source": [
    "from langchain_community.chat_message_histories import SQLChatMessageHistory\n",
    "\n",
    "# Initialize chat history with session ID and database connection.\n",
    "chat_message_history = SQLChatMessageHistory(\n",
    "    session_id=\"sql_history\", connection=\"sqlite:///sqlite.db\"\n",
    ")"
   ]
  },
  {
   "cell_type": "code",
   "execution_count": 7,
   "id": "777c8d5b",
   "metadata": {},
   "outputs": [],
   "source": [
    "# Add a user message\n",
    "chat_message_history.add_user_message(\n",
    "    \"Hello, nice to meet you! My name is Heesun :) I'm a LangChain developer. I look forward to working with you!\"\n",
    ")\n",
    "# Add an AI message\n",
    "chat_message_history.add_ai_message(\n",
    "    \"Hi, Heesun! Nice to meet you. I look forward to working with you too!\"\n",
    ")"
   ]
  },
  {
   "cell_type": "markdown",
   "id": "bca8e6c7",
   "metadata": {},
   "source": [
    "Now, let's check the stored conversation history."
   ]
  },
  {
   "cell_type": "code",
   "execution_count": 9,
   "id": "06fc3fac",
   "metadata": {},
   "outputs": [
    {
     "data": {
      "text/plain": [
       "[HumanMessage(content=\"Hello, nice to meet you! My name is Heesun :) I'm a LangChain developer. I look forward to working with you!\", additional_kwargs={}, response_metadata={}),\n",
       " AIMessage(content='Hi, Heesun! Nice to meet you. I look forward to working with you too!', additional_kwargs={}, response_metadata={})]"
      ]
     },
     "execution_count": 9,
     "metadata": {},
     "output_type": "execute_result"
    }
   ],
   "source": [
    "chat_message_history.messages"
   ]
  },
  {
   "cell_type": "markdown",
   "id": "1d97c86b",
   "metadata": {},
   "source": [
    "You can also clear the session memory from db:"
   ]
  },
  {
   "cell_type": "code",
   "execution_count": 10,
   "id": "b07e7029",
   "metadata": {},
   "outputs": [
    {
     "data": {
      "text/plain": [
       "[]"
      ]
     },
     "execution_count": 10,
     "metadata": {},
     "output_type": "execute_result"
    }
   ],
   "source": [
    "# Clear the session memory\n",
    "chat_message_history.clear()\n",
    "chat_message_history.messages"
   ]
  },
  {
   "cell_type": "markdown",
   "id": "5bccfeeb",
   "metadata": {},
   "source": [
    "### 新增中繼資料（Metadata）\n",
    "\n",
    "你可以透過直接建立 ```HumanMessage``` 與 ```AIMessage``` 物件來新增 **中繼資料（Metadata）**。這種方式可提供更靈活的資料處理與記錄功能。\n",
    "\n",
    "**參數說明**：\n",
    "- ```additional_kwargs``` - 儲存自定標籤或中繼資料，例如優先順序或任務類型。\n",
    "\n",
    "- ```response_metadata``` - 捕捉 AI 回應的詳細資訊，包括使用的模型、時間戳記與 token 數量。\n",
    "\n",
    "這些欄位可透過詳細的資料儲存方式，提升除錯與任務追蹤的能力。"
   ]
  },
  {
   "cell_type": "code",
   "execution_count": 11,
   "id": "6783af0a",
   "metadata": {},
   "outputs": [],
   "source": [
    "from langchain_core.messages import HumanMessage\n",
    "\n",
    "# Add a user message with additional metadata.\n",
    "user_message = HumanMessage(\n",
    "    content=\"Can you help me summarize this text?\",\n",
    "    additional_kwargs={\"task\": \"summarization\"},\n",
    ")\n",
    "\n",
    "# Add the message to chat history.\n",
    "chat_message_history.add_message(user_message)"
   ]
  },
  {
   "cell_type": "code",
   "execution_count": 12,
   "id": "168c7129",
   "metadata": {},
   "outputs": [
    {
     "data": {
      "text/plain": [
       "[HumanMessage(content='Can you help me summarize this text?', additional_kwargs={'task': 'summarization'}, response_metadata={})]"
      ]
     },
     "execution_count": 12,
     "metadata": {},
     "output_type": "execute_result"
    }
   ],
   "source": [
    "chat_message_history.messages"
   ]
  },
  {
   "cell_type": "code",
   "execution_count": 13,
   "id": "4b8cdacf",
   "metadata": {},
   "outputs": [],
   "source": [
    "from langchain_core.messages import AIMessage\n",
    "\n",
    "# Add an AI message with response metadata.\n",
    "ai_message = AIMessage(\n",
    "    content=\"Sure! Here's the summary of the provided text.\",\n",
    "    response_metadata={\"model\": \"gpt-4\", \"token_count\": 30, \"response_time\": \"150ms\"},\n",
    ")\n",
    "\n",
    "# Add the message to chat history.\n",
    "chat_message_history.add_message(ai_message)"
   ]
  },
  {
   "cell_type": "code",
   "execution_count": 14,
   "id": "4beb2d42",
   "metadata": {},
   "outputs": [
    {
     "data": {
      "text/plain": [
       "[HumanMessage(content='Can you help me summarize this text?', additional_kwargs={'task': 'summarization'}, response_metadata={}),\n",
       " AIMessage(content=\"Sure! Here's the summary of the provided text.\", additional_kwargs={}, response_metadata={'model': 'gpt-4', 'token_count': 30, 'response_time': '150ms'})]"
      ]
     },
     "execution_count": 14,
     "metadata": {},
     "output_type": "execute_result"
    }
   ],
   "source": [
    "chat_message_history.messages"
   ]
  },
  {
   "cell_type": "markdown",
   "id": "4b9d7af2",
   "metadata": {},
   "source": [
    "## Chaining\n",
    "\n",
    "You can easily integrate this chat history class with [LCEL Runnables](https://wikidocs.net/235884)."
   ]
  },
  {
   "cell_type": "code",
   "execution_count": 15,
   "id": "d318bc5b",
   "metadata": {},
   "outputs": [],
   "source": [
    "from langchain_core.prompts import (\n",
    "    ChatPromptTemplate,\n",
    "    MessagesPlaceholder,\n",
    ")\n",
    "from langchain_core.runnables.history import RunnableWithMessageHistory\n",
    "from langchain_core.output_parsers import StrOutputParser\n",
    "from langchain_openai import ChatOpenAI"
   ]
  },
  {
   "cell_type": "code",
   "execution_count": 16,
   "id": "8f9e7b5b",
   "metadata": {},
   "outputs": [],
   "source": [
    "prompt = ChatPromptTemplate.from_messages(\n",
    "    [\n",
    "        (\"system\", \"You are a helpful assistant.\"),\n",
    "        # Placeholder for chat history\n",
    "        MessagesPlaceholder(variable_name=\"chat_history\"),\n",
    "        (\"human\", \"{question}\"),\n",
    "    ]\n",
    ")\n",
    "\n",
    "# Chaining\n",
    "chain = prompt | ChatOpenAI(model_name=\"gpt-4o\") | StrOutputParser()"
   ]
  },
  {
   "cell_type": "markdown",
   "id": "9c59c73b",
   "metadata": {},
   "source": [
    "The following shows how to create a function that returns chat history from ```sqlite.db```."
   ]
  },
  {
   "cell_type": "code",
   "execution_count": 17,
   "id": "eaf1d642",
   "metadata": {},
   "outputs": [],
   "source": [
    "def get_chat_history(user_id, conversation_id):\n",
    "    return SQLChatMessageHistory(\n",
    "        table_name=user_id,\n",
    "        session_id=conversation_id,\n",
    "        connection=\"sqlite:///sqlite.db\",\n",
    "    )"
   ]
  },
  {
   "cell_type": "markdown",
   "id": "244eedab",
   "metadata": {},
   "source": [
    "Set ```config_fields``` to provide reference information when retrieving conversation details."
   ]
  },
  {
   "cell_type": "code",
   "execution_count": 18,
   "id": "3c5d4580",
   "metadata": {},
   "outputs": [],
   "source": [
    "\"\"\"\n",
    "這段程式碼的目的是定義兩個可配置的欄位：user_id 和 conversation_id。這些欄位可以讓 LangChain 的應用程式或執行鏈在運行時接收這些特定的 ID，並且由於 is_shared=True，這些 ID 可以在應用程式的不同組件之間共享，例如用於追蹤特定用戶的對話歷史或上下文。\n",
    "\n",
    "這通常用於需要根據不同用戶或不同對話情境來調整行為的應用程式，例如在聊天機器人中，用來區分不同的使用者對話，以便正確地存取和管理各自的記憶或狀態。\n",
    "\"\"\"\n",
    "from langchain_core.runnables.utils import ConfigurableFieldSpec\n",
    "\n",
    "config_fields = [\n",
    "    ConfigurableFieldSpec(\n",
    "        id=\"user_id\",\n",
    "        annotation=str,\n",
    "        name=\"User ID\",\n",
    "        description=\"Unique identifier for a user.\",\n",
    "        default=\"\",\n",
    "        is_shared=True,\n",
    "    ),\n",
    "    ConfigurableFieldSpec(\n",
    "        id=\"conversation_id\",\n",
    "        annotation=str,\n",
    "        name=\"Conversation ID\",\n",
    "        description=\"Unique identifier for a conversation.\",\n",
    "        default=\"\",\n",
    "        is_shared=True,\n",
    "    ),\n",
    "]"
   ]
  },
  {
   "cell_type": "code",
   "execution_count": 19,
   "id": "eb9f0967",
   "metadata": {},
   "outputs": [],
   "source": [
    "chain_with_history = RunnableWithMessageHistory(\n",
    "    chain,\n",
    "    get_chat_history,\n",
    "    input_messages_key=\"question\",\n",
    "    history_messages_key=\"chat_history\",\n",
    "    # Set parameters for retrieving chat history\n",
    "    history_factory_config=config_fields,\n",
    ")"
   ]
  },
  {
   "cell_type": "markdown",
   "id": "953c4c5a",
   "metadata": {},
   "source": [
    "Set the ```\"user_id\"``` and ```\"conversation_id\"``` key-value pairs under the ```\"configurable\"``` key."
   ]
  },
  {
   "cell_type": "code",
   "execution_count": 20,
   "id": "2b7e4455",
   "metadata": {},
   "outputs": [],
   "source": [
    "# Config settings\n",
    "config = {\"configurable\": {\"user_id\": \"user1\", \"conversation_id\": \"conversation1\"}}"
   ]
  },
  {
   "cell_type": "markdown",
   "id": "1d76e860",
   "metadata": {},
   "source": [
    "Let's ask a question about the name. If there is any previously saved conversation history, it will provide the correct response.  \n",
    "\n",
    "- Use the ```invoke``` method of the ```chain_with_history``` object to generate an answer to the question.  \n",
    "- Pass a question dictionary and ```config``` settings to the ```invoke``` method as inputs.  "
   ]
  },
  {
   "cell_type": "code",
   "execution_count": 21,
   "id": "15ac9974",
   "metadata": {},
   "outputs": [
    {
     "data": {
      "text/plain": [
       "'Hello, Heesun! Nice to meet you too. How can I assist you today?'"
      ]
     },
     "execution_count": 21,
     "metadata": {},
     "output_type": "execute_result"
    }
   ],
   "source": [
    "# Execute by passing the question and config\n",
    "chain_with_history.invoke(\n",
    "    {\"question\": \"Hi, nice to meet you. My name is Heesun.\"}, config\n",
    ")"
   ]
  },
  {
   "cell_type": "code",
   "execution_count": 94,
   "id": "ea24385c",
   "metadata": {},
   "outputs": [
    {
     "data": {
      "text/plain": [
       "'Your name is Heesun.'"
      ]
     },
     "execution_count": 94,
     "metadata": {},
     "output_type": "execute_result"
    }
   ],
   "source": [
    "# Execute a follow-up question\n",
    "chain_with_history.invoke({\"question\": \"What is my name?\"}, config)"
   ]
  },
  {
   "cell_type": "markdown",
   "id": "49e43ba3",
   "metadata": {},
   "source": [
    "This time, set the same ```user_id``` but use a different value for ```conversation_id```."
   ]
  },
  {
   "cell_type": "code",
   "execution_count": 95,
   "id": "da5a49c1",
   "metadata": {},
   "outputs": [
    {
     "data": {
      "text/plain": [
       "\"I'm sorry, but I don't have access to personal information, so I don't know your name. If you'd like, you can tell me your name, and I can address you by it.\""
      ]
     },
     "execution_count": 95,
     "metadata": {},
     "output_type": "execute_result"
    }
   ],
   "source": [
    "# Config settings\n",
    "config = {\"configurable\": {\"user_id\": \"user1\", \"conversation_id\": \"conversation2\"}}\n",
    "\n",
    "# Execute by passing the question and config\n",
    "chain_with_history.invoke({\"question\": \"What is my name?\"}, config)"
   ]
  }
 ],
 "metadata": {
  "kernelspec": {
   "display_name": "Python 3",
   "language": "python",
   "name": "python3"
  },
  "language_info": {
   "codemirror_mode": {
    "name": "ipython",
    "version": 3
   },
   "file_extension": ".py",
   "mimetype": "text/x-python",
   "name": "python",
   "nbconvert_exporter": "python",
   "pygments_lexer": "ipython3",
   "version": "3.11.13"
  }
 },
 "nbformat": 4,
 "nbformat_minor": 5
}
