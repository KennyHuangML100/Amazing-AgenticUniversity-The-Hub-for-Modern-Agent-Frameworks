{
 "cells": [
  {
   "cell_type": "markdown",
   "metadata": {},
   "source": [
    "# ConversationBufferMemory\n",
    "## 概覽\n",
    "\n",
    "本教程介紹了 ```ConversationBufferMemory```，這是一個在緩衝區中存儲對話歷史的記憶體類別。\n",
    "\n",
    "通常不需要額外的處理。但有時，當對話歷史超過模型的上下文窗口時，可能需要進行處理。\n",
    "\n",
    "在本教程中，我們將學習如何使用 ```ConversationBufferMemory``` 來存儲和檢索對話歷史。\n",
    "\n",
    "## 目錄\n",
    "\n",
    "- [概覽](#概覽)\n",
    "- [環境設定](#環境設定)\n",
    "- [將訊息提取為字串](#將訊息提取為字串)\n",
    "- [將訊息提取為 HumanMessage 和 AIMessage 物件](#將訊息提取為-humanmessage-和-aimessage-物件)\n",
    "- [應用於鏈](#應用於鏈)\n",
    "\n",
    "## 參考資料\n",
    "- [LangChain: ConversationBufferMemory](https://python.langchain.com/api_reference/langchain/memory/langchain.memory.buffer.ConversationBufferMemory.html)"
   ]
  },
  {
   "cell_type": "markdown",
   "metadata": {},
   "source": [
    "## Environment Setup\n",
    "\n",
    "Set up the environment. You may refer to [Environment Setup](https://wikidocs.net/257836) for more details.\n",
    "\n",
    "**[Note]**\n",
    "- ```langchain-opentutorial``` is a package that provides a set of easy-to-use environment setup, useful functions and utilities for tutorials. \n",
    "- You can checkout the [```langchain-opentutorial```](https://github.com/LangChain-OpenTutorial/langchain-opentutorial-pypi) for more details."
   ]
  },
  {
   "cell_type": "code",
   "execution_count": 56,
   "metadata": {},
   "outputs": [],
   "source": [
    "%%capture --no-stderr\n",
    "%pip install langchain-opentutorial"
   ]
  },
  {
   "cell_type": "code",
   "execution_count": 57,
   "metadata": {},
   "outputs": [],
   "source": [
    "# Install required packages\n",
    "from langchain_opentutorial import package\n",
    "\n",
    "package.install(\n",
    "    [\n",
    "        \"langsmith\",\n",
    "        \"langchain\",\n",
    "        \"langchain_openai\",\n",
    "    ],\n",
    "    verbose=False,\n",
    "    upgrade=False,\n",
    ")"
   ]
  },
  {
   "cell_type": "code",
   "execution_count": null,
   "metadata": {},
   "outputs": [
    {
     "name": "stdout",
     "output_type": "stream",
     "text": [
      "Environment variables have been set successfully.\n"
     ]
    }
   ],
   "source": [
    "# Set environment variables\n",
    "from langchain_opentutorial import set_env\n",
    "\n",
    "set_env(\n",
    "    {\n",
    "        \"OPENAI_API_KEY\": \"sk-proj---\",\n",
    "        \"LANGCHAIN_API_KEY\": \"\",\n",
    "        \"LANGCHAIN_TRACING_V2\": \"true\",\n",
    "        \"LANGCHAIN_ENDPOINT\": \"https://api.smith.langchain.com\",\n",
    "        \"LANGCHAIN_PROJECT\": \"ConversationBufferMemory\",\n",
    "    }\n",
    ")"
   ]
  },
  {
   "cell_type": "markdown",
   "metadata": {},
   "source": [
    "You can alternatively set ```OPENAI_API_KEY``` in ```.env``` file and load it.\n",
    "\n",
    "**[Note]**  \n",
    "- This is not necessary if you've already set ```OPENAI_API_KEY``` in previous steps."
   ]
  },
  {
   "cell_type": "code",
   "execution_count": 59,
   "metadata": {},
   "outputs": [
    {
     "data": {
      "text/plain": [
       "True"
      ]
     },
     "execution_count": 59,
     "metadata": {},
     "output_type": "execute_result"
    }
   ],
   "source": [
    "from dotenv import load_dotenv\n",
    "\n",
    "load_dotenv()"
   ]
  },
  {
   "cell_type": "markdown",
   "metadata": {},
   "source": [
    "## 將訊息提取為字串\n",
    "\n",
    "在存儲對話訊息後，此記憶體允許您將訊息提取到變數中。"
   ]
  },
  {
   "cell_type": "code",
   "execution_count": 60,
   "metadata": {},
   "outputs": [],
   "source": [
    "from langchain.memory import ConversationBufferMemory"
   ]
  },
  {
   "cell_type": "code",
   "execution_count": 61,
   "metadata": {},
   "outputs": [
    {
     "data": {
      "text/plain": [
       "ConversationBufferMemory(chat_memory=InMemoryChatMessageHistory(messages=[]))"
      ]
     },
     "execution_count": 61,
     "metadata": {},
     "output_type": "execute_result"
    }
   ],
   "source": [
    "memory = ConversationBufferMemory()\n",
    "memory"
   ]
  },
  {
   "cell_type": "markdown",
   "metadata": {},
   "source": [
    "您可以使用 ```save_context(inputs, outputs)``` 方法來保存對話記錄。\n",
    "\n",
    "- 此方法接受兩個參數：```inputs``` 和 ```outputs```。\n",
    "- ```inputs``` 存儲用戶的問題，```outputs``` 存儲 AI 的回答。\n",
    "- 對話記錄在內部以 ```history``` 鍵存儲。\n",
    "- 然後您可以使用 ```load_memory_variables``` 方法來檢索和查看已保存的對話歷史。"
   ]
  },
  {
   "cell_type": "code",
   "execution_count": 62,
   "metadata": {},
   "outputs": [],
   "source": [
    "# inputs: dictionary(key: \"human\" or \"ai\", value: question)\n",
    "# outputs: dictionary(key: \"ai\" or \"human\", value: answer)\n",
    "memory.save_context(\n",
    "    inputs={\n",
    "        \"human\": \"Hello, I want to open a bank account remotely. How do I start?\",\n",
    "    },\n",
    "    outputs={\n",
    "        \"ai\": \"Hello! I'm glad you want to open an account. First, please prepare your ID for identity verification.\"\n",
    "    },\n",
    ")"
   ]
  },
  {
   "cell_type": "code",
   "execution_count": 63,
   "metadata": {},
   "outputs": [
    {
     "data": {
      "text/plain": [
       "ConversationBufferMemory(chat_memory=InMemoryChatMessageHistory(messages=[HumanMessage(content='Hello, I want to open a bank account remotely. How do I start?', additional_kwargs={}, response_metadata={}), AIMessage(content=\"Hello! I'm glad you want to open an account. First, please prepare your ID for identity verification.\", additional_kwargs={}, response_metadata={})]))"
      ]
     },
     "execution_count": 63,
     "metadata": {},
     "output_type": "execute_result"
    }
   ],
   "source": [
    "memory"
   ]
  },
  {
   "cell_type": "markdown",
   "metadata": {},
   "source": [
    "The ```load_memory_variables({})``` method of the memory object returns the complete message history as a string."
   ]
  },
  {
   "cell_type": "code",
   "execution_count": 64,
   "metadata": {},
   "outputs": [
    {
     "name": "stdout",
     "output_type": "stream",
     "text": [
      "Human: Hello, I want to open a bank account remotely. How do I start?\n",
      "AI: Hello! I'm glad you want to open an account. First, please prepare your ID for identity verification.\n"
     ]
    }
   ],
   "source": [
    "# Check the message history stored in the 'history' key.\n",
    "print(memory.load_memory_variables({})[\"history\"])"
   ]
  },
  {
   "cell_type": "code",
   "execution_count": 65,
   "metadata": {},
   "outputs": [],
   "source": [
    "memory.save_context(\n",
    "    inputs={\n",
    "        \"human\": \"Yes, I've prepared my ID for identity verification. What should I do next?\"\n",
    "    },\n",
    "    outputs={\n",
    "        \"ai\": \"Thank you. Please upload the front and back of your ID clearly. We will proceed with the identity verification process next.\"\n",
    "    },\n",
    ")"
   ]
  },
  {
   "cell_type": "code",
   "execution_count": 66,
   "metadata": {},
   "outputs": [
    {
     "name": "stdout",
     "output_type": "stream",
     "text": [
      "Human: Hello, I want to open a bank account remotely. How do I start?\n",
      "AI: Hello! I'm glad you want to open an account. First, please prepare your ID for identity verification.\n",
      "Human: Yes, I've prepared my ID for identity verification. What should I do next?\n",
      "AI: Thank you. Please upload the front and back of your ID clearly. We will proceed with the identity verification process next.\n"
     ]
    }
   ],
   "source": [
    "# Check the message history stored in the 'history' key.\n",
    "print(memory.load_memory_variables({})[\"history\"])"
   ]
  },
  {
   "cell_type": "code",
   "execution_count": 67,
   "metadata": {},
   "outputs": [],
   "source": [
    "# Save 2 conversations.\n",
    "memory.save_context(\n",
    "    inputs={\n",
    "        \"human\": \"I uploaded the photo. How do I proceed with identity verification?\"\n",
    "    },\n",
    "    outputs={\n",
    "        \"ai\": \"We have confirmed the photo you uploaded. Please proceed with identity verification through your mobile phone. Please enter the verification number sent by text.\"\n",
    "    },\n",
    ")\n",
    "memory.save_context(\n",
    "    inputs={\n",
    "        \"human\": \"I entered the verification number. How do I open an account now?\"\n",
    "    },\n",
    "    outputs={\n",
    "        \"ai\": \"Identity verification has been completed. Please select the type of account you want and enter the necessary information. You can choose the type of deposit, currency, etc.\"\n",
    "    },\n",
    ")"
   ]
  },
  {
   "cell_type": "code",
   "execution_count": 68,
   "metadata": {},
   "outputs": [
    {
     "name": "stdout",
     "output_type": "stream",
     "text": [
      "Human: Hello, I want to open a bank account remotely. How do I start?\n",
      "AI: Hello! I'm glad you want to open an account. First, please prepare your ID for identity verification.\n",
      "Human: Yes, I've prepared my ID for identity verification. What should I do next?\n",
      "AI: Thank you. Please upload the front and back of your ID clearly. We will proceed with the identity verification process next.\n",
      "Human: I uploaded the photo. How do I proceed with identity verification?\n",
      "AI: We have confirmed the photo you uploaded. Please proceed with identity verification through your mobile phone. Please enter the verification number sent by text.\n",
      "Human: I entered the verification number. How do I open an account now?\n",
      "AI: Identity verification has been completed. Please select the type of account you want and enter the necessary information. You can choose the type of deposit, currency, etc.\n"
     ]
    }
   ],
   "source": [
    "# Check the conversation history stored in the 'history' key.\n",
    "print(memory.load_memory_variables({})[\"history\"])"
   ]
  },
  {
   "cell_type": "code",
   "execution_count": 69,
   "metadata": {},
   "outputs": [],
   "source": [
    "# Save 2 more conversations.\n",
    "memory.save_context(\n",
    "    inputs={\n",
    "        \"human\": \"I've entered all the information. What's the next step?\",\n",
    "    },\n",
    "    outputs={\n",
    "        \"ai\": \"I've confirmed the information you've entered. The account opening process is almost complete. Please agree to the terms of use and confirm the account opening.\"\n",
    "    },\n",
    ")\n",
    "memory.save_context(\n",
    "    inputs={\n",
    "        \"human\": \"I've completed all the steps. Has the account been opened?\",\n",
    "    },\n",
    "    outputs={\n",
    "        \"ai\": \"Yes, the account has been opened. Your account number and related information have been sent to the email you registered. If you need additional help, please contact us at any time. Thank you!\"\n",
    "    },\n",
    ")"
   ]
  },
  {
   "cell_type": "code",
   "execution_count": 70,
   "metadata": {},
   "outputs": [
    {
     "name": "stdout",
     "output_type": "stream",
     "text": [
      "Human: Hello, I want to open a bank account remotely. How do I start?\n",
      "AI: Hello! I'm glad you want to open an account. First, please prepare your ID for identity verification.\n",
      "Human: Yes, I've prepared my ID for identity verification. What should I do next?\n",
      "AI: Thank you. Please upload the front and back of your ID clearly. We will proceed with the identity verification process next.\n",
      "Human: I uploaded the photo. How do I proceed with identity verification?\n",
      "AI: We have confirmed the photo you uploaded. Please proceed with identity verification through your mobile phone. Please enter the verification number sent by text.\n",
      "Human: I entered the verification number. How do I open an account now?\n",
      "AI: Identity verification has been completed. Please select the type of account you want and enter the necessary information. You can choose the type of deposit, currency, etc.\n",
      "Human: I've entered all the information. What's the next step?\n",
      "AI: I've confirmed the information you've entered. The account opening process is almost complete. Please agree to the terms of use and confirm the account opening.\n",
      "Human: I've completed all the steps. Has the account been opened?\n",
      "AI: Yes, the account has been opened. Your account number and related information have been sent to the email you registered. If you need additional help, please contact us at any time. Thank you!\n"
     ]
    }
   ],
   "source": [
    "# Check the conversation history stored in the 'history' key.\n",
    "print(memory.load_memory_variables({})[\"history\"])"
   ]
  },
  {
   "cell_type": "markdown",
   "metadata": {},
   "source": [
    "## Extracting messages as ```HumanMessage``` and ```AIMessage``` objects\n",
    "\n",
    "Setting ```return_messages=True``` returns ```HumanMessage``` and ```AIMessage``` objects."
   ]
  },
  {
   "cell_type": "code",
   "execution_count": 77,
   "metadata": {},
   "outputs": [],
   "source": [
    "memory = ConversationBufferMemory(return_messages=True)\n",
    "\n",
    "memory.save_context(\n",
    "    inputs={\n",
    "        \"human\": \"Hello, I want to open a bank account remotely. How do I start?\",\n",
    "    },\n",
    "    outputs={\n",
    "        \"ai\": \"Hello! I'm glad you want to open an account. First, please prepare your ID for identity verification.\",\n",
    "    },\n",
    ")\n",
    "\n",
    "memory.save_context(\n",
    "    inputs={\n",
    "        \"human\": \"Yes, I've prepared my ID for identity verification. What should I do next?\"\n",
    "    },\n",
    "    outputs={\n",
    "        \"ai\": \"Thank you. Please upload the front and back of your ID clearly. We will proceed with the identity verification process next.\"\n",
    "    },\n",
    ")\n",
    "\n",
    "memory.save_context(\n",
    "    inputs={\n",
    "        \"human\": \"I uploaded the photo. How do I proceed with identity verification?\"\n",
    "    },\n",
    "    outputs={\n",
    "        \"ai\": \"We have confirmed the photo you uploaded. Please proceed with identity verification through your mobile phone. Please enter the verification number sent by text.\"\n",
    "    },\n",
    ")"
   ]
  },
  {
   "cell_type": "code",
   "execution_count": 78,
   "metadata": {},
   "outputs": [
    {
     "data": {
      "text/plain": [
       "[HumanMessage(content='Hello, I want to open a bank account remotely. How do I start?', additional_kwargs={}, response_metadata={}),\n",
       " AIMessage(content=\"Hello! I'm glad you want to open an account. First, please prepare your ID for identity verification.\", additional_kwargs={}, response_metadata={}),\n",
       " HumanMessage(content=\"Yes, I've prepared my ID for identity verification. What should I do next?\", additional_kwargs={}, response_metadata={}),\n",
       " AIMessage(content='Thank you. Please upload the front and back of your ID clearly. We will proceed with the identity verification process next.', additional_kwargs={}, response_metadata={}),\n",
       " HumanMessage(content='I uploaded the photo. How do I proceed with identity verification?', additional_kwargs={}, response_metadata={}),\n",
       " AIMessage(content='We have confirmed the photo you uploaded. Please proceed with identity verification through your mobile phone. Please enter the verification number sent by text.', additional_kwargs={}, response_metadata={})]"
      ]
     },
     "execution_count": 78,
     "metadata": {},
     "output_type": "execute_result"
    }
   ],
   "source": [
    "# Check the conversation history stored in the 'history' key.\n",
    "memory.load_memory_variables({})[\"history\"]"
   ]
  },
  {
   "cell_type": "markdown",
   "metadata": {},
   "source": [
    "## Applying to a Chain\n",
    "\n",
    "Let's apply ```ConversationBufferMemory``` to a ```ConversationChain```."
   ]
  },
  {
   "cell_type": "code",
   "execution_count": 79,
   "metadata": {},
   "outputs": [],
   "source": [
    "from langchain_openai import ChatOpenAI\n",
    "from langchain.chains import ConversationChain\n",
    "\n",
    "# Create an LLM model.\n",
    "llm = ChatOpenAI(temperature=0, model_name=\"gpt-4o\")\n",
    "\n",
    "# Create a ConversationChain.\n",
    "conversation = ConversationChain(\n",
    "    # Use ConversationBufferMemory.\n",
    "    llm=llm,\n",
    "    memory=ConversationBufferMemory(),\n",
    ")"
   ]
  },
  {
   "cell_type": "markdown",
   "metadata": {},
   "source": [
    "Proceed with the conversation using the ```ConversationChain```."
   ]
  },
  {
   "cell_type": "code",
   "execution_count": 80,
   "metadata": {},
   "outputs": [
    {
     "name": "stdout",
     "output_type": "stream",
     "text": [
      "Hello! Opening a bank account remotely is quite convenient these days, thanks to digital banking services. Here’s a step-by-step guide to help you get started:\n",
      "\n",
      "1. **Research Banks**: First, decide which bank or credit union you want to open an account with. Consider factors like fees, interest rates, customer service, and the types of accounts they offer. Many banks have online reviews and comparison tools that can help you make an informed decision.\n",
      "\n",
      "2. **Visit the Bank’s Website**: Once you’ve chosen a bank, visit their official website. Look for an option like “Open an Account” or “Apply Now.” Most banks have a dedicated section for new customers.\n",
      "\n",
      "3. **Choose the Type of Account**: Decide whether you want a checking account, savings account, or both. Some banks offer special accounts for students, seniors, or businesses, so choose the one that best fits your needs.\n",
      "\n",
      "4. **Gather Required Information**: You’ll need to provide personal information such as your full name, address, date of birth, Social Security number (or equivalent for non-U.S. residents), and a valid form of identification like a driver’s license or passport.\n",
      "\n",
      "5. **Complete the Application**: Fill out the online application form with the required information. Be sure to double-check for accuracy to avoid any delays in processing.\n",
      "\n",
      "6. **Verify Your Identity**: Many banks will require you to verify your identity. This might involve uploading a photo of your ID, answering security questions, or even a video call with a bank representative.\n",
      "\n",
      "7. **Fund Your Account**: You’ll need to make an initial deposit to activate your account. This can usually be done via a transfer from another bank account, a credit card, or a mobile payment service.\n",
      "\n",
      "8. **Review Terms and Conditions**: Before finalizing, review the account terms and conditions, including any fees, interest rates, and account features.\n",
      "\n",
      "9. **Submit Your Application**: Once everything is filled out and verified, submit your application. You should receive a confirmation email or message with details on what to expect next.\n",
      "\n",
      "10. **Set Up Online Banking**: After your account is approved, set up online banking to manage your account, pay bills, and monitor transactions.\n",
      "\n",
      "If you encounter any issues or have specific questions, most banks offer customer support via phone, chat, or email to assist you. Good luck with your new account!\n"
     ]
    }
   ],
   "source": [
    "# Start the conversation.\n",
    "response = conversation.predict(\n",
    "    input=\"Hello, I want to open a bank account remotely. How do I start?\"\n",
    ")\n",
    "print(response)"
   ]
  },
  {
   "cell_type": "markdown",
   "metadata": {},
   "source": [
    "Verify if the system remembers the previous conversation."
   ]
  },
  {
   "cell_type": "code",
   "execution_count": 81,
   "metadata": {},
   "outputs": [
    {
     "name": "stdout",
     "output_type": "stream",
     "text": [
      "- Research and choose a bank based on fees, interest rates, and services.\n",
      "- Visit the bank’s website and find the “Open an Account” option.\n",
      "- Decide on the type of account: checking, savings, or specialized accounts.\n",
      "- Gather necessary personal information and identification.\n",
      "- Complete the online application form accurately.\n",
      "- Verify your identity through ID upload, security questions, or video call.\n",
      "- Fund your account with an initial deposit via transfer, credit card, or mobile payment.\n",
      "- Review the account’s terms and conditions.\n",
      "- Submit the application and await confirmation.\n",
      "- Set up online banking for account management and transactions.\n"
     ]
    }
   ],
   "source": [
    "# Send a request to summarize the previous conversation in bullet points.\n",
    "response = conversation.predict(input=\"Summarize the previous answer in bullet points.\")\n",
    "print(response)"
   ]
  }
 ],
 "metadata": {
  "kernelspec": {
   "display_name": "Python 3",
   "language": "python",
   "name": "python3"
  },
  "language_info": {
   "codemirror_mode": {
    "name": "ipython",
    "version": 3
   },
   "file_extension": ".py",
   "mimetype": "text/x-python",
   "name": "python",
   "nbconvert_exporter": "python",
   "pygments_lexer": "ipython3",
   "version": "3.11.13"
  }
 },
 "nbformat": 4,
 "nbformat_minor": 2
}
