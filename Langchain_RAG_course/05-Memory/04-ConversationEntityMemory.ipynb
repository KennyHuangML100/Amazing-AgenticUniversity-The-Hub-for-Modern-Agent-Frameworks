{
 "cells": [
  {
   "cell_type": "markdown",
   "metadata": {
    "id": "Pkf5OMA6kJax"
   },
   "source": [
    "# ConversationEntityMemory\n",
    "\n",
    "\n",
    "## Overview\n",
    "\n",
    "```ConversationEntityMemory``` allows the conversation system to retain facts about specific entities mentioned during the dialogue.\n",
    "\n",
    "It extracts information about entities from the conversation (using an LLM) and \n",
    "accumulates knowledge about these entities over time (also using an LLM)\n",
    "\n",
    "\n",
    "### Table of Contents\n",
    "\n",
    "- [Overview](#overview)\n",
    "- [Environment Setup](#environment-setup)\n",
    "- [Entity Memory Conversation Example](#entity-memory-conversation-example)\n",
    "- [Retrieving Entity Memory](#retrieving-entity-memory)\n",
    "\n",
    "### References\n",
    "\n",
    "- [LangChain Python API Reference > langchain: 0.3.13 > memory > ConversationEntityMemory](https://python.langchain.com/api_reference/langchain/memory/langchain.memory.entity.ConversationEntityMemory.html)\n",
    "----"
   ]
  },
  {
   "cell_type": "markdown",
   "metadata": {
    "id": "jIebCeD3kJay"
   },
   "source": [
    "## Environment Setup\n",
    "Set up the environment. You may refer to [Environment Setup](https://wikidocs.net/257836) for more details.\n",
    "\n",
    "**[Note]**\n",
    "- ```langchain-opentutorial``` is a package that provides a set of easy-to-use environment setup, useful functions and utilities for tutorials.\n",
    "- You can checkout the [```langchain-opentutorial```](https://github.com/LangChain-OpenTutorial/langchain-opentutorial-pypi) for more details.\n"
   ]
  },
  {
   "cell_type": "code",
   "execution_count": null,
   "metadata": {},
   "outputs": [],
   "source": [
    "## Environment Setup\n",
    "%%capture --no-stderr\n",
    "%pip install langchain langchain-opentutorial langchain-community langchain-openai"
   ]
  },
  {
   "cell_type": "code",
   "execution_count": null,
   "metadata": {
    "colab": {
     "base_uri": "https://localhost:8080/"
    },
    "id": "fqHKNkyjkJaz",
    "outputId": "f99fb39c-ceb2-46e9-9542-06a39f1731c4"
   },
   "outputs": [
    {
     "name": "stdout",
     "output_type": "stream",
     "text": [
      "Environment variables have been set successfully.\n"
     ]
    }
   ],
   "source": [
    "# Set environment variables\n",
    "from langchain_opentutorial import set_env\n",
    "\n",
    "set_env(\n",
    "    {\n",
    "        \"OPENAI_API_KEY\": \"\",\n",
    "        \"LANGCHAIN_API_KEY\": \"\",\n",
    "        \"LANGCHAIN_TRACING_V2\": \"true\",\n",
    "        \"LANGCHAIN_ENDPOINT\": \"https://api.smith.langchain.com\",\n",
    "        \"LANGCHAIN_PROJECT\": \"ConversationEntityMemory\",\n",
    "    }\n",
    ")"
   ]
  },
  {
   "cell_type": "markdown",
   "metadata": {
    "id": "8UGWY4HXkJaz"
   },
   "source": [
    "You can alternatively set ```OPENAI_API_KEY``` in ```.env``` file and load it.\n",
    "\n",
    "[Note] This is not necessary if you've already set ```OPENAI_API_KEY``` in previous steps."
   ]
  },
  {
   "cell_type": "code",
   "execution_count": 1,
   "metadata": {},
   "outputs": [
    {
     "data": {
      "text/plain": [
       "True"
      ]
     },
     "execution_count": 1,
     "metadata": {},
     "output_type": "execute_result"
    }
   ],
   "source": [
    "from dotenv import load_dotenv\n",
    "\n",
    "load_dotenv(override=True)"
   ]
  },
  {
   "cell_type": "markdown",
   "metadata": {},
   "source": [
    "## Entity Memory Conversation Example\n",
    "\n",
    "這個 example 示範如何使用 ```ConversationEntityMemory``` 來儲存和管理在對話中提到的實體的資訊。對話會累積關於這些實體的知識，同時保持自然的流程。\n"
   ]
  },
  {
   "cell_type": "code",
   "execution_count": 2,
   "metadata": {
    "id": "A7OJmbIOkJaz"
   },
   "outputs": [],
   "source": [
    "from langchain_openai import ChatOpenAI\n",
    "from langchain.chains import ConversationChain\n",
    "from langchain.memory.entity import ConversationEntityMemory"
   ]
  },
  {
   "cell_type": "code",
   "execution_count": 3,
   "metadata": {
    "colab": {
     "base_uri": "https://localhost:8080/"
    },
    "id": "pFNkea-lkJa0",
    "outputId": "6d6584ca-6701-4c2d-c4ec-144c33e6f8d9"
   },
   "outputs": [
    {
     "name": "stdout",
     "output_type": "stream",
     "text": [
      "input_variables=['entities', 'history', 'input'] input_types={} partial_variables={} template='\\n你是一個由 OpenAI 訓練的大型語言模型所驅動的助手，\\n你能協助人類完成各種任務，從簡單的問題解答，到深入探討各種主題。\\n\\n你能夠產生接近人類的自然語言，提供自然流暢的對話體驗與相關且連貫的回應。\\n\\n你不斷學習與進步，透過大量文字資訊來提供準確、實用的回覆，\\n並能根據上下文與使用者提供的個人資訊，結合你自身的知識進行輔助與說明。\\n\\nContext:\\n{entities}\\n\\nCurrent conversation:\\n{history}\\nLast line:\\nHuman: {input}\\nYou:\\n'\n"
     ]
    }
   ],
   "source": [
    "from langchain.prompts import PromptTemplate\n",
    "\n",
    "entity_memory_conversation_template = PromptTemplate(\n",
    "    input_variables=[\"entities\", \"history\", \"input\"],\n",
    "    template=\"\"\"\n",
    "你是一個由 OpenAI 訓練的大型語言模型所驅動的助手，\n",
    "你能協助人類完成各種任務，從簡單的問題解答，到深入探討各種主題。\n",
    "\n",
    "你能夠產生接近人類的自然語言，提供自然流暢的對話體驗與相關且連貫的回應。\n",
    "\n",
    "你不斷學習與進步，透過大量文字資訊來提供準確、實用的回覆，\n",
    "並能根據上下文與使用者提供的個人資訊，結合你自身的知識進行輔助與說明。\n",
    "\n",
    "Context:\n",
    "{entities}\n",
    "\n",
    "Current conversation:\n",
    "{history}\n",
    "Last line:\n",
    "Human: {input}\n",
    "You:\n",
    "\"\"\",\n",
    ")\n",
    "\n",
    "print(entity_memory_conversation_template)"
   ]
  },
  {
   "cell_type": "code",
   "execution_count": 4,
   "metadata": {
    "id": "QBJ8r5NLkJa0"
   },
   "outputs": [
    {
     "name": "stderr",
     "output_type": "stream",
     "text": [
      "/var/folders/px/22qqx_qn399gggmw1gsvgk000000gn/T/ipykernel_71501/2834047022.py:6: LangChainDeprecationWarning: Please see the migration guide at: https://python.langchain.com/docs/versions/migrating_memory/\n",
      "  memory=ConversationEntityMemory(llm=llm),\n",
      "/opt/homebrew/lib/python3.11/site-packages/pydantic/main.py:253: LangChainDeprecationWarning: Please see the migration guide at: https://python.langchain.com/docs/versions/migrating_memory/\n",
      "  validated_self = self.__pydantic_validator__.validate_python(data, self_instance=self)\n",
      "/var/folders/px/22qqx_qn399gggmw1gsvgk000000gn/T/ipykernel_71501/2834047022.py:3: LangChainDeprecationWarning: The class `ConversationChain` was deprecated in LangChain 0.2.7 and will be removed in 1.0. Use :meth:`~RunnableWithMessageHistory: https://python.langchain.com/v0.2/api_reference/core/runnables/langchain_core.runnables.history.RunnableWithMessageHistory.html` instead.\n",
      "  conversation = ConversationChain(\n"
     ]
    }
   ],
   "source": [
    "llm = ChatOpenAI(model=\"gpt-4o-mini\", temperature=0)\n",
    "\n",
    "conversation = ConversationChain(\n",
    "    llm=llm,\n",
    "    prompt=entity_memory_conversation_template,\n",
    "    memory=ConversationEntityMemory(llm=llm),\n",
    ")"
   ]
  },
  {
   "cell_type": "code",
   "execution_count": 5,
   "metadata": {
    "colab": {
     "base_uri": "https://localhost:8080/"
    },
    "id": "igqrJmNEkJa1",
    "outputId": "78ec5fcf-49b8-493d-e4b0-d241e7495734"
   },
   "outputs": [
    {
     "name": "stdout",
     "output_type": "stream",
     "text": [
      "這聽起來是一個非常有意義的計畫！Amelia 的攝影作品可以展示大自然的美麗，吸引更多人關注環境保護，而 David 的保育工作則能夠讓人們了解保護瀕危物種的重要性。這樣的攝影藝廊與學習中心不僅能夠提供藝術欣賞的空間，還能夠成為教育與宣傳的平台，讓更多人參與到保護自然的行動中來。你們有什麼具體的計畫或想法嗎？例如，展覽的主題、課程內容或是如何籌募資金等？\n"
     ]
    }
   ],
   "source": [
    "# Input conversation\n",
    "response = conversation.predict(\n",
    "    input=(\n",
    "        \"Amelia 是一位屢獲殊榮的風景攝影師，曾走遍世界各地捕捉大自然的奇景。\\n\",\n",
    "        \"David 則是一位致力於保護瀕危物種的野生動物保育人士。\\n\",\n",
    "        \"他們正計畫開設一間以大自然為靈感的攝影藝廊與學習中心，並藉此為保育計畫籌募資金。\\n\"\n",
    "    )\n",
    ")\n",
    "\n",
    "# Print the assistant's response\n",
    "print(response)"
   ]
  },
  {
   "cell_type": "markdown",
   "metadata": {
    "id": "hzw2XmW1kJa1"
   },
   "source": [
    "## Retrieving Entity Memory\n",
    "Let's examine the conversation history stored in memory using the ```memory.entity_store.store``` method to verify memory retention."
   ]
  },
  {
   "cell_type": "code",
   "execution_count": 6,
   "metadata": {
    "colab": {
     "base_uri": "https://localhost:8080/"
    },
    "id": "LN98J2thEihi",
    "outputId": "76e8779a-a49b-4131-f506-fe220e04c16f"
   },
   "outputs": [
    {
     "data": {
      "text/plain": [
       "{'Amelia': 'Amelia 是一位屢獲殊榮的風景攝影師，曾走遍世界各地捕捉大自然的奇景，並正計畫開設一間以大自然為靈感的攝影藝廊與學習中心，藉此為保育計畫籌募資金。',\n",
       " 'David': 'David 是一位致力於保護瀕危物種的野生動物保育人士，並計畫開設一間以大自然為靈感的攝影藝廊與學習中心，藉此為保育計畫籌募資金。'}"
      ]
     },
     "execution_count": 6,
     "metadata": {},
     "output_type": "execute_result"
    }
   ],
   "source": [
    "# Print the entity memory\n",
    "conversation.memory.entity_store.store"
   ]
  },
  {
   "cell_type": "code",
   "execution_count": null,
   "metadata": {},
   "outputs": [],
   "source": []
  }
 ],
 "metadata": {
  "colab": {
   "provenance": []
  },
  "kernelspec": {
   "display_name": "Python 3",
   "language": "python",
   "name": "python3"
  },
  "language_info": {
   "codemirror_mode": {
    "name": "ipython",
    "version": 3
   },
   "file_extension": ".py",
   "mimetype": "text/x-python",
   "name": "python",
   "nbconvert_exporter": "python",
   "pygments_lexer": "ipython3",
   "version": "3.11.13"
  }
 },
 "nbformat": 4,
 "nbformat_minor": 0
}
