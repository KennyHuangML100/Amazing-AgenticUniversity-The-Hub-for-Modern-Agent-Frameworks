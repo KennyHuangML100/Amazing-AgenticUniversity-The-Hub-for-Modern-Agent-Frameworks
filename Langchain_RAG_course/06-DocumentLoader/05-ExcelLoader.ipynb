{
 "cells": [
  {
   "cell_type": "markdown",
   "id": "ffff1f1f7edce75e",
   "metadata": {},
   "source": [
    "# 在 LangChain 中載入 Excel 檔案\n",
    "\n",
    "## 概覽\n",
    "\n",
    "本教學介紹如何在 ```LangChain``` 中載入與處理 ```Microsoft Excel``` 檔案。\n",
    "\n",
    "內容聚焦於兩種主要方法：使用 ```UnstructuredExcelLoader``` 進行原始文字提取，以及使用 ```DataFrameLoader``` 處理結構化資料。\n",
    "\n",
    "本指南旨在幫助開發者有效整合 Excel 資料至 LangChain 專案中，涵蓋基礎與進階的使用情境。\n",
    "\n",
    "### 目錄\n",
    "\n",
    "- [概覽](#overview)\n",
    "- [環境設置](#environment-setup)\n",
    "- [UnstructuredExcelLoader](#UnstructuredExcelLoader)\n",
    "- [DataFrameLoader](#DataFrameLoader)\n",
    "----"
   ]
  },
  {
   "cell_type": "markdown",
   "id": "61d6dfb9165a8a5c",
   "metadata": {},
   "source": [
    "## Environment Setup\n",
    "\n",
    "Set up the environment. You may refer to [Environment Setup](https://wikidocs.net/257836) for more details.\n",
    "\n",
    "**[Note]**\n",
    "- ```langchain-opentutorial``` is a package that provides a set of easy-to-use environment setup, useful functions and utilities for tutorials. \n",
    "- You can checkout the [```langchain-opentutorial```](https://github.com/LangChain-OpenTutorial/langchain-opentutorial-pypi) for more details."
   ]
  },
  {
   "cell_type": "code",
   "execution_count": null,
   "id": "d2e8882060efa1ea",
   "metadata": {},
   "outputs": [],
   "source": [
    "%%capture --no-stderr\n",
    "%pip install langchain-opentutorial"
   ]
  },
  {
   "cell_type": "code",
   "execution_count": null,
   "id": "ea721609cfbfab70",
   "metadata": {},
   "outputs": [],
   "source": [
    "# Install required packages\n",
    "from langchain_opentutorial import package\n",
    "\n",
    "package.install(\n",
    "    [\n",
    "        \"langchain_community\",\n",
    "        \"unstructured\",\n",
    "        \"openpyxl\"\n",
    "    ],\n",
    "    verbose=False,\n",
    "    upgrade=False,\n",
    ")"
   ]
  },
  {
   "cell_type": "markdown",
   "id": "e3552429c2252ddc",
   "metadata": {},
   "source": [
    "## ```UnstructuredExcelLoader```\n",
    "\n",
    "```UnstructuredExcelLoader``` 用於載入 ```Microsoft Excel``` 檔案。\n",
    "\n",
    "此載入器支援 ```.xlsx``` 與 ```.xls``` 格式的檔案。\n",
    "\n",
    "當你使用 ```mode=\"elements\"``` 模式時，Excel 檔案的 HTML 表現形式會儲存在文件 metadata 的 ```text_as_html``` 欄位中。"
   ]
  },
  {
   "cell_type": "code",
   "execution_count": null,
   "id": "49f04d7628772561",
   "metadata": {},
   "outputs": [],
   "source": [
    "# install\n",
    "# %pip install -qU langchain-community unstructured openpyxl"
   ]
  },
  {
   "cell_type": "code",
   "execution_count": null,
   "id": "edf68cf0efa0ce27",
   "metadata": {},
   "outputs": [],
   "source": [
    "import sys\n",
    "from langchain_community.document_loaders import UnstructuredExcelLoader\n",
    "\n",
    "# Set recursion limit\n",
    "sys.setrecursionlimit(10**6)    \n",
    "\n",
    "# Create UnstructuredExcelLoader \n",
    "loader = UnstructuredExcelLoader(\"./data/titanic.xlsx\", mode=\"elements\")\n",
    "\n",
    "# Load a document\n",
    "docs = loader.load()\n",
    "\n",
    "# Print the number of documents\n",
    "print(len(docs))"
   ]
  },
  {
   "cell_type": "markdown",
   "id": "4953c041db717589",
   "metadata": {},
   "source": [
    "這表示已成功載入一個文件。\n",
    "\n",
    "```page_content``` 包含每一列的資料內容，而 ```metadata``` 中的 ```text_as_html``` 則以 HTML 格式儲存整體資料。"
   ]
  },
  {
   "cell_type": "code",
   "execution_count": null,
   "id": "81447e1ba5a5b4a2",
   "metadata": {},
   "outputs": [],
   "source": [
    "# Print the document\n",
    "print(docs[0].page_content[:200])"
   ]
  },
  {
   "cell_type": "code",
   "execution_count": null,
   "id": "a9cf4f7c409fd937",
   "metadata": {},
   "outputs": [],
   "source": [
    "# Print the text_as_html of metadata\n",
    "print(docs[0].metadata[\"text_as_html\"][:1000])"
   ]
  },
  {
   "cell_type": "markdown",
   "id": "cce664281d9d57f4",
   "metadata": {},
   "source": [
    "![text_as_html](./assets/05-excel-loader-text-as-html.png)"
   ]
  },
  {
   "cell_type": "markdown",
   "id": "9ed860d9960d54a7",
   "metadata": {},
   "source": [
    "## ```DataFrameLoader```\n",
    "\n",
    "- Similar to CSV files, we can load Excel files by using the ```read_excel()``` function to create a ```pandas.DataFrame```, and then load it."
   ]
  },
  {
   "cell_type": "code",
   "execution_count": null,
   "id": "eb49d72b095ede6b",
   "metadata": {},
   "outputs": [],
   "source": [
    "import pandas as pd\n",
    "\n",
    "# read the Excel file\n",
    "df = pd.read_excel(\"./data/titanic.xlsx\")"
   ]
  },
  {
   "cell_type": "code",
   "execution_count": null,
   "id": "a8a978b795661c4",
   "metadata": {},
   "outputs": [],
   "source": [
    "from langchain_community.document_loaders import DataFrameLoader\n",
    "\n",
    "# Set up DataFrame loader, specifying the page content column\n",
    "loader = DataFrameLoader(df, page_content_column=\"Name\")\n",
    "\n",
    "# Load the document\n",
    "docs = loader.load()\n",
    "\n",
    "# Print the data\n",
    "print(docs[0].page_content)\n",
    "\n",
    "# Print the metadata\n",
    "print(docs[0].metadata)"
   ]
  }
 ],
 "metadata": {
  "kernelspec": {
   "display_name": "Python 3 (ipykernel)",
   "language": "python",
   "name": "python3"
  },
  "language_info": {
   "codemirror_mode": {
    "name": "ipython",
    "version": 3
   },
   "file_extension": ".py",
   "mimetype": "text/x-python",
   "name": "python",
   "nbconvert_exporter": "python",
   "pygments_lexer": "ipython3",
   "version": "3.11.3"
  }
 },
 "nbformat": 4,
 "nbformat_minor": 5
}
