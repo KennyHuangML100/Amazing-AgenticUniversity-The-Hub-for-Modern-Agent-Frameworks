{
 "cells": [
  {
   "cell_type": "markdown",
   "metadata": {},
   "source": [
    "# WebBaseLoader\n",
    "\n",
    "## 概覽\n",
    "\n",
    "```WebBaseLoader``` 是 LangChain 中專門用來處理網頁內容的文件載入器。\n",
    "\n",
    "它使用 ```BeautifulSoup4``` 函式庫來有效解析網頁，並透過 ```SoupStrainer``` 及其他 ```bs4``` 參數提供彈性的解析選項。\n",
    "\n",
    "本教學將示範如何使用 ```WebBaseLoader``` 來：\n",
    "1. 有效載入與解析網頁文件\n",
    "2. 使用 ```BeautifulSoup``` 的選項自訂解析行為\n",
    "3. 靈活處理不同結構的網頁內容\n",
    "\n",
    "### 目錄 \n",
    "\n",
    "- [概覽](#overview)\n",
    "- [環境設置](#environment-setup)\n",
    "- [載入網頁文件](#load-web-based-documents)\n",
    "- [使用 alazy_load 並行載入多個網址](#load-multiple-urls-concurrently-with-alazy_load)\n",
    "- [載入 XML 文件](#load-xml-documents)\n",
    "- [使用代理伺服器載入網頁文件](#load-web-based-document-using-proxies)\n",
    "- [使用 MarkItDown 輕量載入網頁內容](#simple-web-content-loading-with-markitdown)\n",
    "\n",
    "### 參考資料\n",
    "\n",
    "- [WebBaseLoader API 文件](https://python.langchain.com/api_reference/community/document_loaders/langchain_community.document_loaders.web_base.WebBaseLoader.html)\n",
    "- [BeautifulSoup4 官方文件](https://www.crummy.com/software/BeautifulSoup/bs4/doc/)\n",
    "----"
   ]
  },
  {
   "cell_type": "markdown",
   "metadata": {},
   "source": [
    "## Environment Setup\n",
    "\n",
    "Set up the environment. You may refer to [Environment Setup](https://wikidocs.net/257836) for more details.\n",
    "\n",
    "**[Note]**\n",
    "- ```langchain-opentutorial``` is a package that provides a set of easy-to-use environment setup, useful functions and utilities for tutorials. \n",
    "- You can checkout the [```langchain-opentutorial```](https://github.com/LangChain-OpenTutorial/langchain-opentutorial-pypi) for more details."
   ]
  },
  {
   "cell_type": "code",
   "execution_count": 9,
   "metadata": {},
   "outputs": [],
   "source": [
    "%%capture --no-stderr\n",
    "%pip install langchain-opentutorial markitdown"
   ]
  },
  {
   "cell_type": "code",
   "execution_count": 10,
   "metadata": {},
   "outputs": [],
   "source": [
    "# Install required packages\n",
    "from langchain_opentutorial import package\n",
    "\n",
    "package.install(\n",
    "    [\n",
    "        \"langchain_community\",\n",
    "    ],\n",
    "    verbose=False,\n",
    "    upgrade=False,\n",
    ")"
   ]
  },
  {
   "cell_type": "code",
   "execution_count": 11,
   "metadata": {},
   "outputs": [
    {
     "data": {
      "text/plain": [
       "True"
      ]
     },
     "execution_count": 11,
     "metadata": {},
     "output_type": "execute_result"
    }
   ],
   "source": [
    "from dotenv import load_dotenv\n",
    "load_dotenv()"
   ]
  },
  {
   "cell_type": "markdown",
   "metadata": {},
   "source": [
    "## 載入網頁文件\n",
    "\n",
    "```WebBaseLoader``` 是專為載入網頁文件而設計的載入器。\n",
    "\n",
    "它使用 ```bs4```（BeautifulSoup）函式庫來解析網頁內容。\n",
    "\n",
    "主要特點包括：\n",
    "- 使用 ```bs4.SoupStrainer``` 來指定要解析的 HTML 元素。\n",
    "- 可透過 ```bs_kwargs``` 參數傳入額外的 ```bs4.SoupStrainer``` 相關參數。\n",
    "\n",
    "更多細節請參考其 API 文件。"
   ]
  },
  {
   "cell_type": "markdown",
   "metadata": {},
   "source": [
    "## 匯入 BeautifulSoup 的解析模組\n",
    "#### import bs4\n",
    "\n",
    "### 匯入 LangChain 的 WebBaseLoader，用來從網頁上讀取文件\n",
    "#### from langchain_community.document_loaders import WebBaseLoader\n",
    "\n",
    "### ----------------------------------------\n",
    "### 使用 WebBaseLoader 載入網頁內容（新聞文章）\n",
    "### ----------------------------------------\n",
    "loader = WebBaseLoader(\n",
    "    # 指定目標網頁網址：這是一篇來自 TechCrunch 的新聞文章\n",
    "    web_paths=(\n",
    "        \"https://techcrunch.com/2024/12/28/google-ceo-says-ai-model-gemini-will-the-companys-biggest-focus-in-2025/\",\n",
    "    ),\n",
    "\n",
    "    # 使用 bs4（BeautifulSoup）的參數指定只解析特定 HTML 標籤區塊\n",
    "    bs_kwargs=dict(\n",
    "        parse_only=bs4.SoupStrainer(\n",
    "            \"div\",  # 只處理 <div> 標籤\n",
    "            attrs={\n",
    "                # 只抓取具有以下 class 屬性的內容區塊（即文章主體）\n",
    "                \"class\": [\n",
    "                    \"entry-content wp-block-post-content is-layout-constrained wp-block-post-content-is-layout-constrained\"\n",
    "                ]\n",
    "            },\n",
    "        )\n",
    "    ),\n",
    "\n",
    "    # 自訂 request headers 的 User-Agent，模擬瀏覽器行為（避免被網站阻擋）\n",
    "    header_template={\n",
    "        \"User_Agent\": \"Mozilla/5.0 (Windows NT 10.0; Win64; x64) AppleWebKit/537.36 (KHTML, like Gecko) Chrome/102.0.0.0 Safari/537.36\",\n",
    "    },\n",
    ")\n",
    "\n",
    "# ----------------------------------------\n",
    "### 執行 loader，實際發送請求並解析頁面內容為文件物件（Document）\n",
    "# ----------------------------------------\n",
    "docs = loader.load()\n",
    "\n",
    "# ----------------------------------------\n",
    "### 輸出載入的文件數量（應為 1 筆）\n",
    "# ----------------------------------------\n",
    "print(f\"Number of documents: {len(docs)}\")\n",
    "\n",
    "### 顯示第一份 Document 的內容（包含 page_content 與 metadata）\n",
    "docs[0]\n",
    "\n",
    "\n",
    "⸻\n",
    "\n",
    "## ✅ 這段程式的重點摘要：\n",
    "\n",
    "### 部分\t說明\n",
    "WebBaseLoader\t用於載入特定網頁的內容並轉為 Document 格式\n",
    "bs_kwargs\t限制 BeautifulSoup 只解析文章主體的 HTML 區塊\n",
    "header_template\t模擬正常使用者瀏覽器發出的 User-Agent，避免被網站防爬蟲阻擋\n",
    "docs = loader.load()\t實際發送 HTTP 請求並取得內容\n",
    "docs[0]\t取得解析後的第一份 Document（含文字與中繼資料）\n"
   ]
  },
  {
   "cell_type": "code",
   "execution_count": 12,
   "metadata": {},
   "outputs": [
    {
     "name": "stdout",
     "output_type": "stream",
     "text": [
      "Number of documents: 1\n"
     ]
    },
    {
     "data": {
      "text/plain": [
       "Document(metadata={'source': 'https://techcrunch.com/2024/12/28/google-ceo-says-ai-model-gemini-will-the-companys-biggest-focus-in-2025/'}, page_content='\\nGoogle CEO Sundar Pichai reportedly told Google employees that 2025 will be a “critical” year for the company.\\nCNBC reports that it obtained audio from a December 18 strategy meeting where Pichai and other executives put on ugly holiday sweaters and laid out their priorities for the coming year.\\n\\n\\n\\n\\n\\n\\n\\n\\n“I think 2025 will be critical,” Pichai said. “I think it’s really important we internalize the urgency of this moment, and need to move faster as a company. The stakes are high.”\\nThe moment, of course, is one where tech companies like Google are making heavy investments in AI, and often with mixed results. Pichai acknowledged that the company has some catching up to do on the AI side — he described the Gemini app (based on the company’s AI model of the same name) as having “strong momentum,” while also acknowledging “we have some work to do in 2025 to close the gap and establish a leadership position there as well.”\\n“Scaling Gemini on the consumer side will be our biggest focus next year,” he said.\\n\\nTechCrunch has an AI-focused newsletter! Sign up here to get it in your inbox every Wednesday.\\n\\n')"
      ]
     },
     "execution_count": 12,
     "metadata": {},
     "output_type": "execute_result"
    }
   ],
   "source": [
    "# 匯入 BeautifulSoup 的解析模組\n",
    "import bs4\n",
    "\n",
    "# 匯入 LangChain 的 WebBaseLoader，用來從網頁上讀取文件\n",
    "from langchain_community.document_loaders import WebBaseLoader\n",
    "\n",
    "# ----------------------------------------\n",
    "# 使用 WebBaseLoader 載入網頁內容（新聞文章）\n",
    "# ----------------------------------------\n",
    "loader = WebBaseLoader(\n",
    "    # 指定目標網頁網址：這是一篇來自 TechCrunch 的新聞文章\n",
    "    web_paths=(\n",
    "        \"https://techcrunch.com/2024/12/28/google-ceo-says-ai-model-gemini-will-the-companys-biggest-focus-in-2025/\",\n",
    "    ),\n",
    "\n",
    "    # 使用 bs4（BeautifulSoup）的參數指定只解析特定 HTML 標籤區塊\n",
    "    bs_kwargs=dict(\n",
    "        parse_only=bs4.SoupStrainer(\n",
    "            \"div\",  # 只處理 <div> 標籤\n",
    "            attrs={\n",
    "                # 只抓取具有以下 class 屬性的內容區塊（即文章主體）\n",
    "                \"class\": [\n",
    "                    \"entry-content wp-block-post-content is-layout-constrained wp-block-post-content-is-layout-constrained\"\n",
    "                ]\n",
    "            },\n",
    "        )\n",
    "    ),\n",
    "\n",
    "    # 自訂 request headers 的 User-Agent，模擬瀏覽器行為（避免被網站阻擋）\n",
    "    header_template={\n",
    "        \"User_Agent\": \"Mozilla/5.0 (Windows NT 10.0; Win64; x64) AppleWebKit/537.36 (KHTML, like Gecko) Chrome/102.0.0.0 Safari/537.36\",\n",
    "    },\n",
    ")\n",
    "\n",
    "# ----------------------------------------\n",
    "# 執行 loader，實際發送請求並解析頁面內容為文件物件（Document）\n",
    "# ----------------------------------------\n",
    "docs = loader.load()\n",
    "\n",
    "# ----------------------------------------\n",
    "# 輸出載入的文件數量（應為 1 筆）\n",
    "# ----------------------------------------\n",
    "print(f\"Number of documents: {len(docs)}\")\n",
    "\n",
    "# 顯示第一份 Document 的內容（包含 page_content 與 metadata）\n",
    "docs[0]"
   ]
  },
  {
   "cell_type": "markdown",
   "metadata": {},
   "source": [
    "To bypass SSL authentication errors, you can set the ```“verify”``` option."
   ]
  },
  {
   "cell_type": "code",
   "execution_count": 13,
   "metadata": {},
   "outputs": [
    {
     "name": "stderr",
     "output_type": "stream",
     "text": [
      "/opt/homebrew/lib/python3.11/site-packages/urllib3/connectionpool.py:1097: InsecureRequestWarning: Unverified HTTPS request is being made to host 'techcrunch.com'. Adding certificate verification is strongly advised. See: https://urllib3.readthedocs.io/en/latest/advanced-usage.html#tls-warnings\n",
      "  warnings.warn(\n"
     ]
    },
    {
     "data": {
      "text/plain": [
       "Document(metadata={'source': 'https://techcrunch.com/2024/12/28/google-ceo-says-ai-model-gemini-will-the-companys-biggest-focus-in-2025/'}, page_content='\\nGoogle CEO Sundar Pichai reportedly told Google employees that 2025 will be a “critical” year for the company.\\nCNBC reports that it obtained audio from a December 18 strategy meeting where Pichai and other executives put on ugly holiday sweaters and laid out their priorities for the coming year.\\n\\n\\n\\n\\n\\n\\n\\n\\n“I think 2025 will be critical,” Pichai said. “I think it’s really important we internalize the urgency of this moment, and need to move faster as a company. The stakes are high.”\\nThe moment, of course, is one where tech companies like Google are making heavy investments in AI, and often with mixed results. Pichai acknowledged that the company has some catching up to do on the AI side — he described the Gemini app (based on the company’s AI model of the same name) as having “strong momentum,” while also acknowledging “we have some work to do in 2025 to close the gap and establish a leadership position there as well.”\\n“Scaling Gemini on the consumer side will be our biggest focus next year,” he said.\\n\\nTechCrunch has an AI-focused newsletter! Sign up here to get it in your inbox every Wednesday.\\n\\n')"
      ]
     },
     "execution_count": 13,
     "metadata": {},
     "output_type": "execute_result"
    }
   ],
   "source": [
    "# Bypass SSL certificate verification\n",
    "loader.requests_kwargs = {\"verify\": False}\n",
    "\n",
    "# Load documents from the web\n",
    "docs = loader.load()\n",
    "docs[0]"
   ]
  },
  {
   "cell_type": "markdown",
   "metadata": {},
   "source": [
    "You can also load multiple webpages at once. To do this, you can pass a list of **urls** to the loader, which will return a list of documents in the order of the **urls** passed."
   ]
  },
  {
   "cell_type": "code",
   "execution_count": 14,
   "metadata": {},
   "outputs": [
    {
     "name": "stdout",
     "output_type": "stream",
     "text": [
      "2\n"
     ]
    }
   ],
   "source": [
    "# 假設您已經匯入了必要的 bs4 模組，如果沒有，您需要先 import bs4\n",
    "import bs4 \n",
    "\n",
    "# 初始化 WebBaseLoader，並設定其參數\n",
    "loader = WebBaseLoader(\n",
    "    web_paths=[\n",
    "        # 這是一個包含目標網頁 URL 的列表。\n",
    "        # WebBaseLoader 會嘗試從列表中的每個 URL 下載和解析內容。\n",
    "        \"https://techcrunch.com/2024/12/28/revisiting-the-biggest-moments-in-the-space-industry-in-2024/\",\n",
    "        \"https://techcrunch.com/2024/12/29/ai-data-centers-could-be-distorting-the-us-power-grid/\",\n",
    "    ],\n",
    "    bs_kwargs=dict(\n",
    "        # bs_kwargs 允許您傳遞額外的關鍵字參數給 BeautifulSoup 解析器。\n",
    "        # BeautifulSoup 是一個流行的 Python 函式庫，用於從 HTML 和 XML 文件中提取資料。\n",
    "\n",
    "        # 'parse_only' 是 BeautifulSoup 的一個重要參數，它與 bs4.SoupStrainer 物件一起使用，\n",
    "        # 用於指示解析器只處理 HTML 文件中符合特定條件的部分。\n",
    "        # 這樣做的好處是：\n",
    "        # 1. 效率提升：只解析相關部分可以顯著加快處理速度，特別是對於大型複雜的網頁。\n",
    "        # 2. 精確提取：可以更精確地定位到您感興趣的內容，避免提取不必要的資訊（如導覽列、廣告、頁腳等）。\n",
    "        parse_only=bs4.SoupStrainer(\n",
    "            # bs4.SoupStrainer 的第一個參數是要篩選的 HTML 標籤名稱。\n",
    "            # 在這裡，我們指定為 \"div\"，表示我們只對 <div> 標籤感興趣。\n",
    "            \"div\",\n",
    "            # attrs 參數是一個字典，用於指定標籤必須擁有的屬性及其值。\n",
    "            # 在這個例子中，我們篩選 class 屬性。\n",
    "            # class 屬性的值是一個列表，包含多個 CSS 類別名稱：\n",
    "            # [\"entry-content\", \"wp-block-post-content\", \"is-layout-constrained\", \"wp-block-post-content-is-layout-constrained\"]\n",
    "            # 這意味著 BeautifulSoup 只會解析那些 **同時擁有所有這些 CSS 類別** 的 <div> 標籤及其內部所有內容。\n",
    "            # 這種設定通常用於定位網頁中的主要內容區域，例如文章主體。\n",
    "            # 開發者通過檢查網頁原始碼，找出包含主要內容的特定 <div> 標籤所使用的 class 組合。\n",
    "            attrs={\"class\": [\"entry-content\", \"wp-block-post-content\", \"is-layout-constrained\", \"wp-block-post-content-is-layout-constrained\"]},\n",
    "        )\n",
    "    ),\n",
    "    header_template={\n",
    "        # header_template 允許您自訂發送 HTTP 請求時的標頭。\n",
    "        # 'User-Agent' 是一個常見的請求標頭，它告知伺服器發起請求的客戶端類型（例如瀏覽器類型和版本）。\n",
    "        # 某些網站可能會根據 User-Agent 檢查請求的合法性，或者返回針對特定瀏覽器優化的內容。\n",
    "        # 設定一個常見的瀏覽器 User-Agent 有助於模擬真實用戶訪問，避免被網站阻擋。\n",
    "        \"User-Agent\": \"Mozilla/5.0 (Windows NT 10.0; Win64; x64) AppleWebKit/537.36 (KHTML, like Gecko) Chrome/102.0.0.0 Safari/537.36\",\n",
    "    },\n",
    ")\n",
    "\n",
    "# 使用配置好的 loader 從指定的網頁載入資料\n",
    "# loader.load() 方法會執行以下操作：\n",
    "# 1. 遍歷 web_paths 中的每個 URL。\n",
    "# 2. 對每個 URL，使用 header_template 中定義的標頭發送 HTTP GET 請求。\n",
    "# 3. 獲取網頁的 HTML 內容。\n",
    "# 4. 使用 BeautifulSoup（以及 bs_kwargs 中指定的配置，特別是 parse_only）解析 HTML。\n",
    "# 5. 將解析出的內容轉換為 LangChain 的 Document 物件。\n",
    "# docs 將會是一個包含多個 Document 物件的列表，每個 Document 對應一個成功載入並解析的網頁（或其特定部分）。\n",
    "docs = loader.load()\n",
    "\n",
    "# 檢查並印出成功載入的文件數量\n",
    "# len(docs) 會返回列表 docs 中的元素數量，即成功載入的 Document 數量。\n",
    "print(len(docs))"
   ]
  },
  {
   "cell_type": "markdown",
   "metadata": {},
   "source": [
    "Output the results fetched from the web."
   ]
  },
  {
   "cell_type": "code",
   "execution_count": 15,
   "metadata": {},
   "outputs": [
    {
     "name": "stdout",
     "output_type": "stream",
     "text": [
      "\n",
      "==============================\n",
      "\n"
     ]
    }
   ],
   "source": [
    "print(docs[0].page_content[:500])\n",
    "print(\"===\" * 10)\n",
    "print(docs[1].page_content[:500])"
   ]
  },
  {
   "cell_type": "markdown",
   "metadata": {},
   "source": [
    "## 使用 ```alazy_load()``` 並行載入多個網址\n",
    "\n",
    "你可以透過非同步載入來加快擷取與解析多個網址的速度。這種方式允許你同時提取多份文件，在遵守請求速率限制的同時提升效率。\n",
    "\n",
    "### 重點說明：\n",
    "- **請求速率限制**：```requests_per_second``` 參數用於控制每秒可發出的請求數量。本範例中設為 1，以避免對伺服器造成過大負擔。\n",
    "- **非同步載入**：使用 ```alazy_load()``` 函式可非同步地載入文件，提升多網址處理效能。\n",
    "- **Jupyter Notebook 相容性**：若在 Jupyter Notebook 中執行，需使用 ```nest_asyncio``` 套件來正確處理非同步任務。\n",
    "\n",
    "以下程式碼範例將示範如何設定並非同步載入文件："
   ]
  },
  {
   "cell_type": "code",
   "execution_count": 16,
   "metadata": {},
   "outputs": [],
   "source": [
    "# only for jupyter notebook (asyncio)\n",
    "import nest_asyncio\n",
    "\n",
    "nest_asyncio.apply()"
   ]
  },
  {
   "cell_type": "code",
   "execution_count": 17,
   "metadata": {},
   "outputs": [],
   "source": [
    "# Set the requests per second rate limit\n",
    "loader.requests_per_second = 1\n",
    "\n",
    "# Load documents asynchronously\n",
    "# The aload() is deprecated and alazy_load() is used since the langchain 3.14 update)\n",
    "docs=[]\n",
    "async for doc in loader.alazy_load():\n",
    "    docs.append(doc)"
   ]
  },
  {
   "cell_type": "code",
   "execution_count": 18,
   "metadata": {},
   "outputs": [
    {
     "data": {
      "text/plain": [
       "[Document(metadata={'source': 'https://techcrunch.com/2024/12/28/revisiting-the-biggest-moments-in-the-space-industry-in-2024/'}, page_content=''),\n",
       " Document(metadata={'source': 'https://techcrunch.com/2024/12/29/ai-data-centers-could-be-distorting-the-us-power-grid/'}, page_content='')]"
      ]
     },
     "execution_count": 18,
     "metadata": {},
     "output_type": "execute_result"
    }
   ],
   "source": [
    "# Display loaded documents\n",
    "docs"
   ]
  },
  {
   "cell_type": "markdown",
   "metadata": {},
   "source": [
    "## 載入 XML 文件\n",
    "\n",
    "```WebBaseLoader``` 可透過指定不同的 ```BeautifulSoup``` 解析器來處理 XML 檔案。這在處理結構化 XML 內容（例如網站地圖或政府資料）時特別實用。\n",
    "\n",
    "### 基本 XML 載入範例\n",
    "\n",
    "以下範例示範如何從政府網站載入一份 XML 文件："
   ]
  },
  {
   "cell_type": "code",
   "execution_count": 19,
   "metadata": {},
   "outputs": [],
   "source": [
    "from langchain_community.document_loaders import WebBaseLoader\n",
    "\n",
    "# Initialize loader with XML document URL\n",
    "loader = WebBaseLoader(\n",
    "    \"https://www.govinfo.gov/content/pkg/CFR-2018-title10-vol3/xml/CFR-2018-title10-vol3-sec431-86.xml\"\n",
    ")\n",
    "\n",
    "# Set parser to XML mode\n",
    "loader.default_parser = \"xml\"\n",
    "\n",
    "# Load and process the document\n",
    "docs = loader.load()"
   ]
  },
  {
   "cell_type": "markdown",
   "metadata": {},
   "source": [
    "### 節省記憶體的載入方式\n",
    "\n",
    "為了處理大型文件，```WebBaseLoader``` 提供了兩種節省記憶體的載入方法：\n",
    "\n",
    "1. ```lazy_load()``` - 一次載入一個頁面，適合逐頁處理  \n",
    "2. ```alazy_load()``` - 非同步載入頁面，可提升多頁面處理效能"
   ]
  },
  {
   "cell_type": "code",
   "execution_count": 20,
   "metadata": {},
   "outputs": [
    {
     "name": "stdout",
     "output_type": "stream",
     "text": [
      "\n",
      "\n",
      "10\n",
      "Energy\n",
      "3\n",
      "2018-01-01\n",
      "2018-01-01\n",
      "false\n",
      "Uniform test method for the measurement of energy efficien\n",
      "{'source': 'https://www.govinfo.gov/content/pkg/CFR-2018-title10-vol3/xml/CFR-2018-title10-vol3-sec431-86.xml'}\n"
     ]
    }
   ],
   "source": [
    "# Lazy Loading Example\n",
    "pages = []\n",
    "for doc in loader.lazy_load():\n",
    "    pages.append(doc)\n",
    "\n",
    "# Print first 100 characters and metadata of the first page\n",
    "print(pages[0].page_content[:100])\n",
    "print(pages[0].metadata)"
   ]
  },
  {
   "cell_type": "code",
   "execution_count": 21,
   "metadata": {},
   "outputs": [
    {
     "name": "stdout",
     "output_type": "stream",
     "text": [
      "\n",
      "\n",
      "10\n",
      "Energy\n",
      "3\n",
      "2018-01-01\n",
      "2018-01-01\n",
      "false\n",
      "Uniform test method for the measurement of energy efficien\n",
      "{'source': 'https://www.govinfo.gov/content/pkg/CFR-2018-title10-vol3/xml/CFR-2018-title10-vol3-sec431-86.xml'}\n"
     ]
    }
   ],
   "source": [
    "# Async Loading Example\n",
    "pages = []\n",
    "async for doc in loader.alazy_load():\n",
    "    pages.append(doc)\n",
    "\n",
    "# Print first 100 characters and metadata of the first page\n",
    "print(pages[0].page_content[:100])\n",
    "print(pages[0].metadata)"
   ]
  },
  {
   "cell_type": "markdown",
   "metadata": {},
   "source": [
    "## 使用代理伺服器載入網頁文件\n",
    "\n",
    "有時候你可能需要透過代理伺服器來繞過 IP 限制或封鎖。\n",
    "\n",
    "要使用代理，只需將代理設定字典傳遞給載入器（底層會由 ```requests``` 函式庫處理）。\n",
    "\n",
    "### ⚠️ 注意事項：\n",
    "- 請將 ```{username}```、```{password}``` 與 ```proxy.service.com``` 替換為你實際的代理帳號與伺服器資訊。\n",
    "- 若未正確設定代理，可能會出現 **ProxyError** 或 **AuthenticationError** 等錯誤。"
   ]
  },
  {
   "cell_type": "code",
   "execution_count": null,
   "metadata": {},
   "outputs": [],
   "source": [
    "loader = WebBaseLoader(\n",
    "   \"https://www.google.com/search?q=parrots\",\n",
    "   proxies={\n",
    "       \"http\": \"http://{username}:{password}:@proxy.service.com:6666/\",\n",
    "       \"https\": \"https://{username}:{password}:@proxy.service.com:6666/\",\n",
    "   },\n",
    "   # Initialize the web loader with proxy settings\n",
    "   # Configure proxy for both HTTP and HTTPS requests\n",
    ")\n",
    "\n",
    "# Load documents using the proxy\n",
    "docs = loader.load()"
   ]
  },
  {
   "cell_type": "markdown",
   "metadata": {},
   "source": [
    "## 使用 ```MarkItDown``` 輕量載入網頁內容\n",
    "\n",
    "與使用 ```BeautifulSoup4``` 進行進階 HTML 解析的 ```WebBaseLoader``` 不同，```MarkItDown``` 提供一種較為簡單直接的網頁內容載入方式。它會透過 HTTP 請求直接擷取網頁內容，並轉換為 Markdown 格式，過程中不進行細緻的 HTML 結構解析。\n",
    "\n",
    "以下是使用 ```MarkItDown``` 載入網頁內容的基本範例："
   ]
  },
  {
   "cell_type": "code",
   "execution_count": 23,
   "metadata": {},
   "outputs": [],
   "source": [
    "from markitdown import MarkItDown\n",
    "\n",
    "md = MarkItDown()\n",
    "result = md.convert(\"https://techcrunch.com/2024/12/28/revisiting-the-biggest-moments-in-the-space-industry-in-2024/\")\n",
    "result_text = result.text_content"
   ]
  },
  {
   "cell_type": "code",
   "execution_count": 24,
   "metadata": {},
   "outputs": [
    {
     "name": "stdout",
     "output_type": "stream",
     "text": [
      "[![](https://techcrunch.com/wp-content/uploads/2024/09/tc-lockup.svg) TechCrunch Desktop Logo](https://techcrunch.com)\n",
      "\n",
      "[![](https://techcrunch.com/wp-content/uploads/2024/09/tc-logo-mobile.svg) TechCrunch Mobile Logo](https://techcrunch.com)\n",
      "\n",
      "* [Latest](/latest/)\n",
      "* [Startups](/category/startups/)\n",
      "* [Venture](/category/venture/)\n",
      "* [Apple](/tag/apple/)\n",
      "* [Security](/category/security/)\n",
      "* [AI](/category/artificial-intelligence/)\n",
      "* [Apps](/category/apps/)\n",
      "\n",
      "* [Events](/events/)\n",
      "* [Podcasts](/podcasts/)\n",
      "* [Newsletters](/newsletters/)\n",
      "\n",
      "Search\n",
      "\n",
      "Submit\n",
      "\n",
      "Site Search Toggle\n",
      "\n",
      "Mega Menu Toggle\n",
      "\n",
      "### Topics\n",
      "\n",
      "[Latest](/latest/)\n",
      "\n",
      "[AI](/category/artificial-intelligence/)\n",
      "\n",
      "[Amazon](/tag/amazon/)\n",
      "\n",
      "[Apps](/category/apps/)\n",
      "\n",
      "[Biotech & Health](/category/biotech-health/)\n",
      "\n",
      "[Climate](/category/climate/)\n",
      "\n",
      "[Cloud Computing](/tag/cloud-computing/)\n",
      "\n",
      "[Commerce](/category/commerce/)\n",
      "\n",
      "[Crypto](/category/cryptocurrency/)\n",
      "\n",
      "[Enterprise](/category/enterprise/)\n",
      "\n",
      "[EVs](/tag/evs/)\n",
      "\n",
      "[Fintech](/category/fintech/)\n",
      "\n",
      "[Fundraisin\n"
     ]
    }
   ],
   "source": [
    "print(result_text[:1000])"
   ]
  },
  {
   "cell_type": "code",
   "execution_count": null,
   "metadata": {},
   "outputs": [],
   "source": []
  }
 ],
 "metadata": {
  "kernelspec": {
   "display_name": "Python 3",
   "language": "python",
   "name": "python3"
  },
  "language_info": {
   "codemirror_mode": {
    "name": "ipython",
    "version": 3
   },
   "file_extension": ".py",
   "mimetype": "text/x-python",
   "name": "python",
   "nbconvert_exporter": "python",
   "pygments_lexer": "ipython3",
   "version": "3.11.13"
  }
 },
 "nbformat": 4,
 "nbformat_minor": 2
}
