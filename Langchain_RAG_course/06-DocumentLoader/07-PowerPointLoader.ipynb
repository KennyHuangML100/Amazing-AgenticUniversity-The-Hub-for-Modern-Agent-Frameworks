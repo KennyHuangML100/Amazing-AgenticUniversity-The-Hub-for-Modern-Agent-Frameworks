{
 "cells": [
  {
   "cell_type": "markdown",
   "metadata": {},
   "source": [
    "# Microsoft PowerPoint\n",
    "\n",
    "## Overview\n",
    "\n",
    "[Microsoft PowerPoint](https://en.wikipedia.org/wiki/Microsoft_PowerPoint) is a presentation program developed by Microsoft.\n",
    "\n",
    "This tutorial demonstrates two different approaches to process PowerPoint documents for downstream use:\n",
    "1. Using ```Unstructured``` to load and parse PowerPoint files into document elements\n",
    "2. Using ```MarkItDown``` to convert PowerPoint files into markdown format and LangChain Document objects\n",
    "\n",
    "Both methods enable effective text extraction and processing, with different strengths for various use cases.\n",
    "\n",
    "### Table of Contents\n",
    "\n",
    "- [Overview](#overview)\n",
    "- [Environment Setup](#environment-setup)\n",
    "- [Converting PPTX to Langchain Documents Using Unstructured](#converting-pptx-to-langchain-documents-using-unstructured)\n",
    "- [Converting PPTX to Langchain Documents Using MarkItDown](#converting-pptx-to-langchain-documents-using-markitdown)\n",
    "\n",
    "### References\n",
    "\n",
    "- [Unstructured: official documentation](https://docs.unstructured.io/open-source/core-functionality/overview)\n",
    "- [MarkItDown: GitHub Repository](https://github.com/microsoft/markitdown)\n",
    "----"
   ]
  },
  {
   "cell_type": "markdown",
   "metadata": {},
   "source": [
    "## Environment Setup\n",
    "\n",
    "Set up the environment. You may refer to [Environment Setup](https://wikidocs.net/257836) for more details.\n",
    "\n",
    "**[Note]**\n",
    "- ```langchain-opentutorial``` is a package that provides a set of easy-to-use environment setup, useful functions and utilities for tutorials. \n",
    "- You can checkout the [```langchain-opentutorial```](https://github.com/LangChain-OpenTutorial/langchain-opentutorial-pypi) for more details."
   ]
  },
  {
   "cell_type": "code",
   "execution_count": 1,
   "metadata": {},
   "outputs": [],
   "source": [
    "%%capture --no-stderr\n",
    "%pip install langchain-opentutorial "
   ]
  },
  {
   "cell_type": "code",
   "execution_count": 1,
   "metadata": {},
   "outputs": [],
   "source": [
    "# Install required packages\n",
    "from langchain_opentutorial import package\n",
    "\n",
    "package.install(\n",
    "    [\n",
    "        \"langchain-community\",\n",
    "        \"langchain-core\",\n",
    "        \"unstructured\",\n",
    "        \"markitdown\"\n",
    "    ],\n",
    "    verbose=False,\n",
    "    upgrade=False,\n",
    ")"
   ]
  },
  {
   "cell_type": "markdown",
   "metadata": {},
   "source": [
    "## Converting PPTX to Langchain Documents Using Unstructured\n",
    "\n",
    "```Unstructured``` is a robust document processing library that excels at converting various document formats into clean, structured text. <br/>It is well integrated with LangChain's ecosystem and provides reliable document parsing capabilities. \n",
    "\n",
    "The library includes:\n",
    "\n",
    "- Local processing with open-source package\n",
    "- Remote processing via Unstructured API\n",
    "- Comprehensive document format support\n",
    "- Built-in OCR capabilities"
   ]
  },
  {
   "cell_type": "code",
   "execution_count": 2,
   "metadata": {},
   "outputs": [
    {
     "name": "stdout",
     "output_type": "stream",
     "text": [
      "1\n"
     ]
    }
   ],
   "source": [
    "from langchain_community.document_loaders import UnstructuredPowerPointLoader\n",
    "\n",
    "# Initialize UnstructuredPowerPointLoader\n",
    "loader = UnstructuredPowerPointLoader(\"data/07-ppt-loader-sample.pptx\")\n",
    "\n",
    "# Load PowerPoint document\n",
    "docs = loader.load()\n",
    "\n",
    "# Print number of loaded documents\n",
    "print(len(docs))"
   ]
  },
  {
   "cell_type": "code",
   "execution_count": 3,
   "metadata": {},
   "outputs": [
    {
     "name": "stdout",
     "output_type": "stream",
     "text": [
      "Natural Language Processing with Deep Learning\n",
      "\n",
      "CS224N/Ling284\n",
      "\n",
      "Christopher Manning\n",
      "\n",
      "Lecture 2: Word\n"
     ]
    }
   ],
   "source": [
    "print(docs[0].page_content[:100])"
   ]
  },
  {
   "cell_type": "markdown",
   "metadata": {},
   "source": [
    "```Unstructured``` generates various \"elements\" for different **chunks** of text.\n",
    "\n",
    "By default, they are combined and returned as a single document, but elements can be easily separated by specifying ```mode=\"elements\"```."
   ]
  },
  {
   "cell_type": "code",
   "execution_count": 4,
   "metadata": {},
   "outputs": [
    {
     "name": "stdout",
     "output_type": "stream",
     "text": [
      "498\n"
     ]
    }
   ],
   "source": [
    "# Create UnstructuredPowerPointLoader with elements mode\n",
    "loader = UnstructuredPowerPointLoader(\"data/07-ppt-loader-sample.pptx\", mode=\"elements\")\n",
    "\n",
    "# Load PowerPoint elements\n",
    "docs = loader.load()\n",
    "\n",
    "# Print number of elements extracted\n",
    "print(len(docs))"
   ]
  },
  {
   "cell_type": "code",
   "execution_count": 5,
   "metadata": {},
   "outputs": [
    {
     "data": {
      "text/plain": [
       "Document(metadata={'source': 'data/07-ppt-loader-sample.pptx', 'category_depth': 0, 'file_directory': 'data', 'filename': '07-ppt-loader-sample.pptx', 'last_modified': '2025-01-16T21:42:19', 'page_number': 1, 'languages': ['eng'], 'filetype': 'application/vnd.openxmlformats-officedocument.presentationml.presentation', 'category': 'Title', 'element_id': 'bb6cdc142e5062b564541bfbc10f7f8c'}, page_content='Natural Language Processing with Deep Learning')"
      ]
     },
     "execution_count": 5,
     "metadata": {},
     "output_type": "execute_result"
    }
   ],
   "source": [
    "docs[0]"
   ]
  },
  {
   "cell_type": "code",
   "execution_count": 6,
   "metadata": {},
   "outputs": [
    {
     "name": "stdout",
     "output_type": "stream",
     "text": [
      "page_content='Natural Language Processing with Deep Learning' metadata={'source': 'data/07-ppt-loader-sample.pptx', 'category_depth': 0, 'file_directory': 'data', 'filename': '07-ppt-loader-sample.pptx', 'last_modified': '2025-01-16T21:42:19', 'page_number': 1, 'languages': ['eng'], 'filetype': 'application/vnd.openxmlformats-officedocument.presentationml.presentation', 'category': 'Title', 'element_id': 'bb6cdc142e5062b564541bfbc10f7f8c'}\n",
      "Content: Natural Language Processing with Deep Learning\n",
      "Metadata: {'source': 'data/07-ppt-loader-sample.pptx', 'category_depth': 0, 'file_directory': 'data', 'filename': '07-ppt-loader-sample.pptx', 'last_modified': '2025-01-16T21:42:19', 'page_number': 1, 'languages': ['eng'], 'filetype': 'application/vnd.openxmlformats-officedocument.presentationml.presentation', 'category': 'Title', 'element_id': 'bb6cdc142e5062b564541bfbc10f7f8c'}\n"
     ]
    }
   ],
   "source": [
    "# Get and display the first element\n",
    "first_element = docs[0]\n",
    "print(first_element)\n",
    "\n",
    "# To see its metadata and content separately, you could do:\n",
    "print(\"Content:\", first_element.page_content)\n",
    "print(\"Metadata:\", first_element.metadata)"
   ]
  },
  {
   "cell_type": "code",
   "execution_count": 7,
   "metadata": {},
   "outputs": [
    {
     "name": "stdout",
     "output_type": "stream",
     "text": [
      "\n",
      "Element 1/498\n",
      "Category: Title\n",
      "==================================================\n",
      "Content:\n",
      "Natural Language Processing with Deep Learning\n",
      "==================================================\n",
      "\n",
      "Element 2/498\n",
      "Category: Title\n",
      "==================================================\n",
      "Content:\n",
      "CS224N/Ling284\n",
      "==================================================\n",
      "\n",
      "Element 3/498\n",
      "Category: Title\n",
      "==================================================\n",
      "Content:\n",
      "Christopher Manning\n",
      "==================================================\n"
     ]
    }
   ],
   "source": [
    "# Print elements with formatted output and enumerate for easy reference\n",
    "for idx, doc in enumerate(docs[:3], 1):\n",
    "    print(f\"\\nElement {idx}/{len(docs)}\")\n",
    "    print(f\"Category: {doc.metadata['category']}\")\n",
    "    print(\"=\"*50)\n",
    "    print(f\"Content:\\n{doc.page_content.strip()}\")\n",
    "    print(\"=\"*50)"
   ]
  },
  {
   "cell_type": "markdown",
   "metadata": {},
   "source": [
    "## 使用 MarkItDown 將 PPTX 轉換為 Langchain 文檔\n",
    "\n",
    "[```MarkItDown```](https://github.com/microsoft/markitdown \"訪問 GitHub 頁面\") 是 Microsoft 的開源函式庫，可將非結構化文檔轉換為結構化 Markdown，這是 LLMs 能夠輕鬆處理和理解的格式。這使它對 RAG（檢索增強生成）系統特別有價值，能夠實現乾淨的語義文本表示。\n",
    "\n",
    "```MarkItDown``` 支援 PDF、PowerPoint、Word、Excel、圖像（含 EXIF/OCR）、音頻（含轉錄）、HTML 等格式，保留語義結構並精確處理複雜數據（如表格）。這確保了高檢索品質，並增強了 LLMs 從多種內容類型中提取洞察的能力。\n",
    "\n",
    "> ⚠️**注意**：MarkItDown 不會解釋 PowerPoint 文件中嵌入圖像的內容。相反，它會按原樣提取圖像，使 LLMs 無法獲取其語義含義。\n",
    "\n",
    "例如，投影片中的物件會像這樣處理：\n",
    "\n",
    "```![object #](object#.jpg)```\n",
    "\n",
    "安裝很簡單：\n",
    "\n",
    "**詳細說明：**\n",
    "\n",
    "**MarkItDown 的核心優勢：**\n",
    "\n",
    "1. **語義保留**\n",
    "   - 維持文檔的邏輯結構和層次關係\n",
    "   - 保留標題、段落、列表等格式化元素\n",
    "   - 確保轉換後的內容對 LLM 友好\n",
    "\n",
    "2. **多格式支援**\n",
    "   - **Office 文檔**：PowerPoint、Word、Excel 的完整支援\n",
    "   - **PDF 處理**：文字提取和結構化表示\n",
    "   - **圖像處理**：OCR 功能和 EXIF 數據提取\n",
    "   - **多媒體**：音頻轉錄和 HTML 內容解析\n",
    "\n",
    "3. **RAG 系統優化**\n",
    "   - **高品質檢索**：結構化的 Markdown 提高語義搜尋精度\n",
    "   - **上下文保持**：維持文檔的原始邏輯流程\n",
    "   - **分塊友好**：適合文檔分割和向量化處理\n",
    "\n",
    "**PowerPoint 處理的特殊考量：**\n",
    "- **文字內容**：完整提取投影片標題、內容和註釋\n",
    "- **表格數據**：保持表格結構的 Markdown 格式\n",
    "- **圖像限制**：圖像僅以檔案引用形式保存，不進行內容解析\n",
    "- **佈局信息**：保留投影片的層次結構\n",
    "\n",
    "**在 LangChain 生態系統中的應用：**\n",
    "- 與 `Document` 物件無縫整合\n",
    "- 支援分塊策略和元數據保存\n",
    "- 便於建立向量資料庫和知識檢索系統\n",
    "\n",
    "這種轉換能力對於企業級 RAG 應用特別重要，能夠處理組織內部的各種文檔格式並建立統一的知識庫。"
   ]
  },
  {
   "cell_type": "code",
   "execution_count": 8,
   "metadata": {},
   "outputs": [],
   "source": [
    "# %pip install markitdown"
   ]
  },
  {
   "cell_type": "markdown",
   "metadata": {},
   "source": [
    "### 使用 MarkItDown 從 PPTX 提取文字\n",
    "在本節中，我們將使用 ```MarkItDown``` 來：\n",
    "* 將 PowerPoint 投影片轉換為 markdown 格式\n",
    "* 保留語義結構和視覺格式\n",
    "* 維持投影片編號和標題\n",
    "* 生成乾淨、易讀的文字輸出\n",
    "\n",
    "首先，我們需要初始化 ```MarkItDown``` 並運行 ```convert``` 函數以從本地載入 ```.pptx``` 檔案。\n",
    "\n",
    "**流程說明：**\n",
    "\n",
    "**初始化步驟：**\n",
    "1. **導入 MarkItDown**：從函式庫中導入必要的類別\n",
    "2. **創建轉換器實例**：初始化 MarkItDown 物件\n",
    "3. **載入 PPTX 檔案**：指定本地 PowerPoint 檔案路徑\n",
    "\n",
    "**轉換過程：**\n",
    "- **投影片解析**：逐一分析每張投影片的內容\n",
    "- **結構識別**：識別標題、內容、列表、表格等元素\n",
    "- **格式保留**：將原始格式轉換為對應的 Markdown 語法\n",
    "- **編號維護**：保持投影片的順序和編號信息\n",
    "\n",
    "**輸出特點：**\n",
    "- **層次結構**：使用 Markdown 標題層級反映投影片結構\n",
    "- **可讀性**：生成適合人類閱讀和 LLM 處理的格式\n",
    "- **語義完整性**：保留原始內容的邏輯關係和重要信息\n",
    "\n",
    "**實際應用場景：**\n",
    "- **知識管理**：將培訓投影片轉換為可搜尋的文檔\n",
    "- **內容分析**：為 RAG 系統準備結構化輸入\n",
    "- **文檔整合**：統一不同格式的企業內容"
   ]
  },
  {
   "cell_type": "code",
   "execution_count": 9,
   "metadata": {},
   "outputs": [
    {
     "name": "stdout",
     "output_type": "stream",
     "text": [
      "<!-- Slide number: 1 -->\n",
      "\n",
      "![object 2](object2.jpg)\n",
      "# Natural Language Processing with Deep Learning\n",
      "CS224N/Ling284\n",
      "Christopher Manning\n",
      "Lecture 2: Word Vectors, Word Senses, and Neural Classifiers\n",
      "\n",
      "<!-- Slide number: 2 -->\n",
      "# Lecture Plan\n",
      "10\n",
      "Lecture 2: Word Vectors, Word Senses, and Neural Network Classifiers\n",
      "Course organization (3 mins)\n",
      "Optimization basics (5 mins)\n",
      "Review of word2vec and looking at word vectors (12 mins)\n",
      "More on word2vec (8 mins)\n",
      "Can we capture the essence of word meaning more ef\n"
     ]
    }
   ],
   "source": [
    "from markitdown import MarkItDown\n",
    "\n",
    "md = MarkItDown()\n",
    "result = md.convert(\"data/07-ppt-loader-sample.pptx\")\n",
    "result_text = result.text_content\n",
    "print(result_text[:500])"
   ]
  },
  {
   "cell_type": "markdown",
   "metadata": {},
   "source": [
    "### Convert markdown format to Langchain Document format\n",
    "\n",
    "The code below processes PowerPoint slides by splitting them into individual Document objects. <br/>Each slide is converted into a Langchain Document object with metadata including the ```slide number``` and ```title```. "
   ]
  },
  {
   "cell_type": "code",
   "execution_count": 10,
   "metadata": {},
   "outputs": [
    {
     "data": {
      "text/plain": [
       "[Document(metadata={'source': 'data/07-ppt-loader-sample.pptx', 'slide_number': 1, 'slide_title': 'Natural Language Processing with Deep Learning'}, page_content='![object 2](object2.jpg)\\n# Natural Language Processing with Deep Learning\\nCS224N/Ling284\\nChristopher Manning\\nLecture 2: Word Vectors, Word Senses, and Neural Classifiers'),\n",
       " Document(metadata={'source': 'data/07-ppt-loader-sample.pptx', 'slide_number': 2, 'slide_title': 'Lecture Plan'}, page_content='# Lecture Plan\\n10\\nLecture 2: Word Vectors, Word Senses, and Neural Network Classifiers\\nCourse organization (3 mins)\\nOptimization basics (5 mins)\\nReview of word2vec and looking at word vectors (12 mins)\\nMore on word2vec (8 mins)\\nCan we capture the essence of word meaning more effectively by counting? (12m)\\nEvaluating word vectors (10 mins)\\nWord senses (10 mins)\\nReview of classification and how neural nets differ (10 mins)\\nIntroducing neural networks (10 mins)\\n\\nKey Goal: To be able to read and understand word embeddings papers by the end of class')]"
      ]
     },
     "execution_count": 10,
     "metadata": {},
     "output_type": "execute_result"
    }
   ],
   "source": [
    "from langchain_core.documents import Document\n",
    "import re\n",
    "\n",
    "# Initialize document processing for PowerPoint slides\n",
    "# Format: <!-- Slide number: X --> where X is the slide number\n",
    "\n",
    "# Split the input text into individual slides using HTML comment markers\n",
    "slides = re.split(r'<!--\\s*Slide number:\\s*(\\d+)\\s*-->', result_text)\n",
    "\n",
    "# Initialize list to store Document objects\n",
    "documents = []\n",
    "\n",
    "# Process each slide:\n",
    "# - Start from index 1 since slides[0] is empty from the initial split\n",
    "# - Step by 2 because the split result alternates between:\n",
    "#   1. slide number (odd indices)\n",
    "#   2. slide content (even indices)\n",
    "# Example: ['', '1', 'content1', '2', 'content2', '3', 'content3']\n",
    "for i in range(1, len(slides), 2):\n",
    "    # Extract slide number and content\n",
    "    slide_number = slides[i]\n",
    "    content = slides[i + 1].strip() if i + 1 < len(slides) else \"\"\n",
    "    \n",
    "    # Extract slide title from first markdown header if present\n",
    "    title_match = re.search(r'#\\s*(.+?)(?=\\n|$)', content)\n",
    "    title = title_match.group(1).strip() if title_match else \"\"\n",
    "    \n",
    "    # Create Document object with slide metadata\n",
    "    doc = Document(\n",
    "        page_content=content,\n",
    "        metadata={\n",
    "            \"source\": \"data/07-ppt-loader-sample.pptx\",\n",
    "            \"slide_number\": int(slide_number),\n",
    "            \"slide_title\": title\n",
    "        }\n",
    "    )\n",
    "    documents.append(doc)\n",
    "\n",
    "documents[:2]"
   ]
  },
  {
   "cell_type": "markdown",
   "metadata": {},
   "source": [
    "```MarkItDown``` efficiently handles tables in PowerPoint slides by converting them into clean Markdown table syntax. \n",
    "\n",
    "This makes tabular data easily accessible for LLMs while preserving the original structure and formatting."
   ]
  },
  {
   "cell_type": "code",
   "execution_count": 11,
   "metadata": {},
   "outputs": [
    {
     "name": "stdout",
     "output_type": "stream",
     "text": [
      "# Example: Window based co-occurrence matrix\n",
      "10\n",
      "Window length 1 (more common: 5–10)\n",
      "Symmetric (irrelevant whether left or right context)\n",
      "\n",
      "Example corpus:\n",
      "I like deep learning\n",
      "I like NLP\n",
      "I enjoy flying\n",
      "\n",
      "| counts | I | like | enjoy | deep | learning | NLP | flying | . |\n",
      "| --- | --- | --- | --- | --- | --- | --- | --- | --- |\n",
      "| I | 0 | 2 | 1 | 0 | 0 | 0 | 0 | 0 |\n",
      "| like | 2 | 0 | 0 | 1 | 0 | 1 | 0 | 0 |\n",
      "| enjoy | 1 | 0 | 0 | 0 | 0 | 0 | 1 | 0 |\n",
      "| deep | 0 | 1 | 0 | 0 | 1 | 0 | 0 | 0 |\n",
      "| learning | 0 | 0 | 0 | 1 | 0 | 0 | 0 | 1 |\n",
      "| NLP | 0 | 1 | 0 | 0 | 0 | 0 | 0 | 1 |\n",
      "| flying | 0 | 0 | 1 | 0 | 0 | 0 | 0 | 1 |\n",
      "| . | 0 | 0 | 0 | 0 | 1 | 1 | 1 | 0 |\n"
     ]
    }
   ],
   "source": [
    "print(documents[15].page_content)"
   ]
  }
 ],
 "metadata": {
  "kernelspec": {
   "display_name": "langchain-opentutorial-RXtDr8w5-py3.11",
   "language": "python",
   "name": "python3"
  },
  "language_info": {
   "codemirror_mode": {
    "name": "ipython",
    "version": 3
   },
   "file_extension": ".py",
   "mimetype": "text/x-python",
   "name": "python",
   "nbconvert_exporter": "python",
   "pygments_lexer": "ipython3",
   "version": "3.11.9"
  }
 },
 "nbformat": 4,
 "nbformat_minor": 2
}
