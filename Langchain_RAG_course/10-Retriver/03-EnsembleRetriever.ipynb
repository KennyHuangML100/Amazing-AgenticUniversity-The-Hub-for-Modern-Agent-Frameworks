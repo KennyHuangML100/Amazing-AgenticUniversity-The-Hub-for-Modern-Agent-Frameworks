{
 "cells": [
  {
   "cell_type": "markdown",
   "id": "e2817c9e",
   "metadata": {},
   "source": [
    "# Ensemble Retriever（整合檢索器）\n",
    "\n",
    "[![Open in Colab](https://colab.research.google.com/assets/colab-badge.svg)](https://colab.research.google.com/github/LangChain-OpenTutorial/LangChain-OpenTutorial/blob/main/10-Retriever/03-EnsembleRetriever.ipynb)[![Open in GitHub](https://img.shields.io/badge/Open%20in%20GitHub-181717?style=flat-square&logo=github&logoColor=white)](https://github.com/LangChain-OpenTutorial/LangChain-OpenTutorial/blob/main/10-Retriever/03-EnsembleRetriever.ipynb)\n",
    "## 概述\n",
    "\n",
    "此筆記本探討在 LangChain 中建立與使用 **EnsembleRetriever**，透過結合多種檢索方法來提升資訊檢索的效果。<br>\n",
    "EnsembleRetriever 整合了稀疏與稠密檢索演算法的優勢，並可利用權重與執行時設定進行客製化調校以獲得更佳效能。<br>\n",
    "\n",
    "**重點功能**\n",
    "1. **整合多種搜尋器**：接受不同類型的搜尋器作為輸入並合併結果。\n",
    "2. **結果重排序**：使用 [Reciprocal Rank Fusion](https://plg.uwaterloo.ca/~gvcormac/cormacksigir09-rrf.pdf)（RRF）演算法對結果重新排序。\n",
    "3. **混合式搜尋**：主要結合 ```sparse retriever```（例如 BM25）與 ```dense retriever```（例如 embedding 相似度）。\n",
    "\n",
    "**優勢**\n",
    "- 稀疏檢索器：擅長以關鍵字為主的查詢。\n",
    "- 稠密檢索器：擅長以語意相似度為主的查詢。\n",
    "\n",
    "由於以上互補特性，```EnsembleRetriever``` 能在多種搜尋情境中提供更佳的整體表現。\n",
    "\n",
    "更多資訊請參考 [LangChain 官方文件](https://python.langchain.com/api_reference/langchain/retrievers.html)\n",
    "\n",
    "\n",
    "\n",
    "### 目錄\n",
    "\n",
    "- [概述](#概述)\n",
    "- [環境設定](#環境設定)\n",
    "- [建立與設定 Ensemble Retriever](#建立與設定-ensemble-retriever)\n",
    "- [執行查詢](#執行查詢)\n",
    "- [變更執行時設定](#變更執行時設定)\n",
    "\n",
    "\n",
    "### 參考資料\n",
    "\n",
    "- [LangChain: EnsembleRetriever](https://python.langchain.com/api_reference/langchain/retrievers/langchain.retrievers.ensemble.EnsembleRetriever.html#ensembleretriever)\n",
    "- [LangChain: BM25Retriever](https://python.langchain.com/api_reference/community/retrievers/langchain_community.retrievers.bm25.BM25Retriever.html)\n",
    "- [LangChain: ConfigurableField](https://python.langchain.com/api_reference/core/runnables/langchain_core.runnables.utils.ConfigurableField.html)\n",
    "----"
   ]
  },
  {
   "cell_type": "markdown",
   "id": "76826f0c",
   "metadata": {},
   "source": [
    "## Environment Setup\n",
    "\n",
    "Set up the environment. You may refer to [Environment Setup](https://wikidocs.net/257836) for more details.\n",
    "\n",
    "**[Note]**\n",
    "- ```langchain-opentutorial``` is a package that provides a set of easy-to-use environment setup, useful functions and utilities for tutorials. \n",
    "- You can checkout the [```langchain-opentutorial```](https://github.com/LangChain-OpenTutorial/langchain-opentutorial-pypi) for more details."
   ]
  },
  {
   "cell_type": "code",
   "execution_count": 3,
   "id": "45778437",
   "metadata": {},
   "outputs": [],
   "source": [
    "%%capture --no-stderr\n",
    "!pip install langchain-opentutorial"
   ]
  },
  {
   "cell_type": "code",
   "execution_count": 1,
   "id": "b44160ee",
   "metadata": {},
   "outputs": [
    {
     "name": "stderr",
     "output_type": "stream",
     "text": [
      "\n",
      "\u001b[1m[\u001b[0m\u001b[34;49mnotice\u001b[0m\u001b[1;39;49m]\u001b[0m\u001b[39;49m A new release of pip is available: \u001b[0m\u001b[31;49m25.1.1\u001b[0m\u001b[39;49m -> \u001b[0m\u001b[32;49m25.2\u001b[0m\n",
      "\u001b[1m[\u001b[0m\u001b[34;49mnotice\u001b[0m\u001b[1;39;49m]\u001b[0m\u001b[39;49m To update, run: \u001b[0m\u001b[32;49m/opt/homebrew/opt/python@3.11/bin/python3.11 -m pip install --upgrade pip\u001b[0m\n"
     ]
    }
   ],
   "source": [
    "# 安裝所需套件\n",
    "from langchain_opentutorial import package\n",
    "\n",
    "package.install(\n",
    "    [\n",
    "        \"langchain_core\",       # LangChain 核心功能\n",
    "        \"langchain_community\",  # 社群支援的整合套件\n",
    "        \"langchain_openai\",     # OpenAI 整合（用於向量嵌入與模型）\n",
    "        \"rank_bm25\",            # BM25 排序演算法（資訊檢索用）\n",
    "    ],\n",
    "    verbose=False,  # 關閉詳細安裝日誌\n",
    "    upgrade=False,  # 若套件已安裝則不升級\n",
    ")"
   ]
  },
  {
   "cell_type": "code",
   "execution_count": null,
   "id": "4d757a49",
   "metadata": {},
   "outputs": [
    {
     "name": "stdout",
     "output_type": "stream",
     "text": [
      "Environment variables have been set successfully.\n"
     ]
    }
   ],
   "source": [
    "# Set environment variables\n",
    "from langchain_opentutorial import set_env\n",
    "\n",
    "set_env(\n",
    "    {\n",
    "        \"OPENAI_API_KEY\": \"\",\n",
    "        \"LANGCHAIN_API_KEY\": \"\",\n",
    "        \"LANGCHAIN_TRACING_V2\": \"true\",\n",
    "        \"LANGCHAIN_ENDPOINT\": \"https://api.smith.langchain.com\",\n",
    "        \"LANGCHAIN_PROJECT\": \"Conversation-With-History\",\n",
    "    }\n",
    ")"
   ]
  },
  {
   "cell_type": "code",
   "execution_count": 6,
   "id": "19224b47",
   "metadata": {},
   "outputs": [
    {
     "data": {
      "text/plain": [
       "False"
      ]
     },
     "execution_count": 6,
     "metadata": {},
     "output_type": "execute_result"
    }
   ],
   "source": [
    "# Configuration file to manage API keys as environment variables\n",
    "from dotenv import load_dotenv\n",
    "\n",
    "# Load API key information\n",
    "load_dotenv(override=True)"
   ]
  },
  {
   "cell_type": "markdown",
   "id": "405f3d44",
   "metadata": {},
   "source": [
    "## 建立與設定 Ensemble Retriever\n",
    "\n",
    "**初始化 Ensemble Retriever**  \n",
    "Ensemble Retriever 結合了兩種不同的資料發現機制：\n",
    "\n",
    "- **稀疏搜尋（Sparse search）**：使用 **BM25Retriever** 進行關鍵字比對。\n",
    "- **稠密搜尋（Dense search）**：使用 **FAISS** 搭配 **OpenAI Embedding** 進行語意相似度比對。\n",
    "\n",
    "初始化 ```EnsembleRetriever``` 時，會將 ```BM25Retriever``` 與 ```FAISS``` 搜尋器結合，並為每個搜尋器設定權重（weights）。\n",
    "\n",
    "## 稀疏檢索（Sparse Retrieval）與稠密檢索（Dense Retrieval）解釋\n",
    "\n",
    "在資訊檢索系統中，**稀疏檢索**與**稠密檢索**是兩種常見且互補的搜尋方法。\n",
    "\n",
    "---\n",
    "\n",
    "### 1. 稀疏檢索（Sparse Retrieval）\n",
    "- **原理**：依賴關鍵字匹配，使用稀疏向量（大部分值為 0 的向量）來表示文本。\n",
    "- **代表技術**：BM25、TF-IDF。\n",
    "- **特點**：\n",
    "  - 速度快，對關鍵字精確匹配非常有效。\n",
    "  - 適合精確搜尋（Exact Match），例如搜尋特定法律條款或專有名詞。\n",
    "  - 對於同義詞、語意變化的處理能力較弱。\n",
    "- **範例**：\n",
    "  - 搜尋「授信條件」，系統會優先返回文件中出現這四個字的段落。\n",
    "\n",
    "---\n",
    "\n",
    "### 2. 稠密檢索（Dense Retrieval）\n",
    "- **原理**：將文本轉換為稠密向量（每個維度都有實數值），通常由深度學習模型（如 Embedding 模型）生成。\n",
    "- **代表技術**：FAISS、Annoy、HNSW 等向量搜尋工具。\n",
    "- **特點**：\n",
    "  - 擅長捕捉語意相似性，即使關鍵字不同，也能找到相關內容。\n",
    "  - 適合語意搜尋（Semantic Search），例如「貸款條件」也能找到「授信規範」的內容。\n",
    "  - 計算成本相對較高，需要向量索引與相似度計算。\n",
    "- **範例**：\n",
    "  - 搜尋「貸款利率要求」，即使文件中沒有完全相同的字詞，也能找到描述「貸款利息條件」的內容。\n",
    "\n",
    "---\n",
    "\n",
    "### 3. 為什麼要混合使用（Hybrid Search）\n",
    "- **互補性**：\n",
    "  - 稀疏檢索可確保精確的關鍵字匹配。\n",
    "  - 稠密檢索可補足語意相關性的不足。\n",
    "- **應用場景**：\n",
    "  - 在法律文件搜尋中，混合檢索可同時找出**精確條文**與**語意相關內容**，提升檢索覆蓋率與準確度。"
   ]
  },
  {
   "cell_type": "code",
   "execution_count": 1,
   "id": "c021c46f",
   "metadata": {},
   "outputs": [],
   "source": [
    "from langchain.retrievers import BM25Retriever, EnsembleRetriever\n",
    "from langchain.vectorstores import FAISS\n",
    "from langchain_openai import OpenAIEmbeddings\n",
    "\n",
    "# 範例文件列表\n",
    "doc_list = [\n",
    "    \"I like apples\",\n",
    "    \"I like apple company\",\n",
    "    \"I like apple's iphone\",\n",
    "    \"Apple is my favorite company\",\n",
    "    \"I like apple's ipad\",\n",
    "    \"I like apple's macbook\",\n",
    "]\n",
    "\n",
    "# 初始化 BM25 檢索器與 FAISS 檢索器\n",
    "bm25_retriever = BM25Retriever.from_texts(\n",
    "    doc_list,\n",
    ")\n",
    "bm25_retriever.k = 1  # 設定 BM25Retriever 回傳的搜尋結果數量為 1\n",
    "\n",
    "embedding = OpenAIEmbeddings()  # 啟用 OpenAI 向量嵌入（Embeddings）\n",
    "\n",
    "faiss_vectorstore = FAISS.from_texts(\n",
    "    doc_list,\n",
    "    embedding,\n",
    ")\n",
    "faiss_retriever = faiss_vectorstore.as_retriever(search_kwargs={\"k\": 1})\n",
    "\n",
    "# 初始化 Ensemble Retriever（整合檢索器）\n",
    "ensemble_retriever = EnsembleRetriever(\n",
    "    retrievers=[bm25_retriever, faiss_retriever],  # 同時使用 BM25 與 FAISS\n",
    "    weights=[0.7, 0.3],  # 設定權重（BM25: 0.7、FAISS: 0.3）\n",
    ")"
   ]
  },
  {
   "cell_type": "markdown",
   "id": "835eb07f",
   "metadata": {},
   "source": [
    "## 執行查詢（Query Execution）\n",
    "\n",
    "使用 `ensemble_retriever` 對給定的查詢進行檢索，並比較不同檢索器的結果。\n",
    "\n",
    "- 呼叫 `ensemble_retriever` 物件的 `get_relevant_documents()` 方法以取得相關文件。"
   ]
  },
  {
   "cell_type": "code",
   "execution_count": null,
   "id": "cfacdd8d",
   "metadata": {},
   "outputs": [
    {
     "name": "stderr",
     "output_type": "stream",
     "text": [
      "/opt/homebrew/lib/python3.11/site-packages/langsmith/client.py:256: LangSmithMissingAPIKeyWarning: API key must be provided when using hosted LangSmith API\n",
      "  warnings.warn(\n",
      "Failed to multipart ingest runs: langsmith.utils.LangSmithAuthError: Authentication failed for https://api.smith.langchain.com/runs/multipart. HTTPError('401 Client Error: Unauthorized for url: https://api.smith.langchain.com/runs/multipart', '{\"error\":\"Unauthorized\"}\\n')trace=5689cd5b-392a-4e78-90ba-e84c82574bfd,id=5689cd5b-392a-4e78-90ba-e84c82574bfd; trace=5689cd5b-392a-4e78-90ba-e84c82574bfd,id=291113f2-23ce-45b1-9f0e-01b96cf41b91; trace=5689cd5b-392a-4e78-90ba-e84c82574bfd,id=dfff3ee6-90d0-4dbb-b9a6-0a855eb5daf9\n",
      "Failed to multipart ingest runs: langsmith.utils.LangSmithAuthError: Authentication failed for https://api.smith.langchain.com/runs/multipart. HTTPError('401 Client Error: Unauthorized for url: https://api.smith.langchain.com/runs/multipart', '{\"error\":\"Unauthorized\"}\\n')trace=541d44ea-973a-43e1-8424-22d6b87a2b24,id=541d44ea-973a-43e1-8424-22d6b87a2b24; trace=1324bc40-2848-4d2b-9062-0e064f6a238d,id=1324bc40-2848-4d2b-9062-0e064f6a238d; trace=5689cd5b-392a-4e78-90ba-e84c82574bfd,id=5689cd5b-392a-4e78-90ba-e84c82574bfd; trace=5689cd5b-392a-4e78-90ba-e84c82574bfd,id=dfff3ee6-90d0-4dbb-b9a6-0a855eb5daf9\n"
     ]
    },
    {
     "name": "stdout",
     "output_type": "stream",
     "text": [
      "[Ensemble Retriever]\n",
      "Content: Apple is my favorite company\n",
      "\n",
      "Content: I like apples\n",
      "\n",
      "[BM25 Retriever]\n",
      "Content: Apple is my favorite company\n",
      "\n",
      "[FAISS Retriever]\n",
      "Content: I like apples\n",
      "\n"
     ]
    },
    {
     "name": "stderr",
     "output_type": "stream",
     "text": [
      "Failed to multipart ingest runs: langsmith.utils.LangSmithAuthError: Authentication failed for https://api.smith.langchain.com/runs/multipart. HTTPError('401 Client Error: Unauthorized for url: https://api.smith.langchain.com/runs/multipart', '{\"error\":\"Unauthorized\"}\\n')trace=1324bc40-2848-4d2b-9062-0e064f6a238d,id=1324bc40-2848-4d2b-9062-0e064f6a238d\n"
     ]
    }
   ],
   "source": [
    "# 執行檢索並取得結果文件\n",
    "query = \"my favorite fruit is apple\"\n",
    "\n",
    "# 使用整合檢索器（Ensemble Retriever）\n",
    "ensemble_result = ensemble_retriever.invoke(query)\n",
    "\n",
    "# 使用 BM25 檢索器\n",
    "bm25_result = bm25_retriever.invoke(query)\n",
    "\n",
    "# 使用 FAISS 檢索器\n",
    "faiss_result = faiss_retriever.invoke(query)\n",
    "\n",
    "# 輸出檢索到的文件\n",
    "print(\"[Ensemble Retriever]\")\n",
    "for doc in ensemble_result:\n",
    "    print(f\"Content: {doc.page_content}\")\n",
    "    print()\n",
    "\n",
    "print(\"[BM25 Retriever]\")\n",
    "for doc in bm25_result:\n",
    "    print(f\"Content: {doc.page_content}\")\n",
    "    print()\n",
    "\n",
    "print(\"[FAISS Retriever]\")\n",
    "for doc in faiss_result:\n",
    "    print(f\"Content: {doc.page_content}\")\n",
    "    print()"
   ]
  },
  {
   "cell_type": "markdown",
   "id": "b23d6139",
   "metadata": {},
   "source": [
    "## 檢索結果解釋\n",
    "\n",
    "你這次查詢 `\"my favorite fruit is apple\"`，分別使用了三種檢索方式：**Ensemble Retriever（混合檢索）**、**BM25 Retriever（稀疏檢索）**、**FAISS Retriever（稠密檢索）**。以下是結果分析：\n",
    "\n",
    "---\n",
    "\n",
    "### 1. BM25 Retriever（稀疏檢索）\n",
    "- **結果**：`Apple is my favorite company`\n",
    "- **原因**：\n",
    "  - BM25 偏向**關鍵字精確匹配**。\n",
    "  - 查詢與該文件在字面上高度重合（\"apple\" + \"favorite\"）。\n",
    "  - 它不會考慮「fruit」的語意，因此選擇了與公司有關的句子。\n",
    "\n",
    "---\n",
    "\n",
    "### 2. FAISS Retriever（稠密檢索）\n",
    "- **結果**：`I like apples`\n",
    "- **原因**：\n",
    "  - FAISS 透過 OpenAI Embeddings 做**語意相似度搜尋**。\n",
    "  - 它理解「my favorite fruit is apple」與「I like apples」在語意上接近（都在談喜歡水果蘋果）。\n",
    "  - 因此優先選擇了水果相關的內容，而不是公司。\n",
    "\n",
    "---\n",
    "\n",
    "### 3. Ensemble Retriever（混合檢索）\n",
    "- **結果**：\n",
    "  1. `Apple is my favorite company`（來自 BM25 權重較高）\n",
    "  2. `I like apples`（來自 FAISS）\n",
    "- **原因**：\n",
    "  - 權重設定為 `BM25: 0.7`、`FAISS: 0.3`，因此更偏向 BM25 排序結果。\n",
    "  - 第一順位與 BM25 相同，但也納入 FAISS 的高分結果，確保涵蓋語意相關內容。\n",
    "  - 這種方法同時保留了**關鍵字精準匹配**與**語意關聯性**。\n",
    "\n",
    "---\n",
    "\n",
    "### 4. 結論\n",
    "- **BM25** 適合精確字面搜尋，對語意變化不敏感。\n",
    "- **FAISS** 擅長語意搜尋，即使字詞不同，也能找到意思接近的內容。\n",
    "- **Ensemble** 能同時利用兩者優勢，提升搜尋覆蓋率與準確度。\n",
    "\n",
    "---\n",
    "\n",
    "💡 **小提示**  \n",
    "如果想讓搜尋結果更偏向語意判斷，可以調整權重，例如 `weights=[0.4, 0.6]`，讓 FAISS 的影響力更大；反之，想更精確匹配關鍵字，可以增加 BM25 的權重。"
   ]
  },
  {
   "cell_type": "code",
   "execution_count": 9,
   "id": "dac4523b",
   "metadata": {},
   "outputs": [
    {
     "name": "stdout",
     "output_type": "stream",
     "text": [
      "[Ensemble Retriever]\n",
      "Content: Apple is my favorite company\n",
      "\n",
      "Content: I like apple's iphone\n",
      "\n",
      "[BM25 Retriever]\n",
      "Content: Apple is my favorite company\n",
      "\n",
      "[FAISS Retriever]\n",
      "Content: I like apple's iphone\n",
      "\n"
     ]
    }
   ],
   "source": [
    "# Get the search results document.\n",
    "query = \"Apple company makes my favorite iphone\"\n",
    "ensemble_result = ensemble_retriever.invoke(query)\n",
    "bm25_result = bm25_retriever.invoke(query)\n",
    "faiss_result = faiss_retriever.invoke(query)\n",
    "\n",
    "# Output the fetched documents.\n",
    "print(\"[Ensemble Retriever]\")\n",
    "for doc in ensemble_result:\n",
    "    print(f\"Content: {doc.page_content}\")\n",
    "    print()\n",
    "\n",
    "print(\"[BM25 Retriever]\")\n",
    "for doc in bm25_result:\n",
    "    print(f\"Content: {doc.page_content}\")\n",
    "    print()\n",
    "\n",
    "print(\"[FAISS Retriever]\")\n",
    "for doc in faiss_result:\n",
    "    print(f\"Content: {doc.page_content}\")\n",
    "    print()"
   ]
  },
  {
   "cell_type": "markdown",
   "id": "c9d4a5a2",
   "metadata": {},
   "source": [
    "## Change runtime config\n",
    "\n",
    "You can also change the properties of a retriever at runtime. This is possible using the ```ConfigurableField``` class."
   ]
  },
  {
   "cell_type": "markdown",
   "id": "aae1c63e",
   "metadata": {},
   "source": [
    "- Define the ```weights``` parameter as a ```ConfigurableField``` object.\n",
    "  - Set the field's ID to “ensemble_weights”.\n"
   ]
  },
  {
   "cell_type": "markdown",
   "id": "f526072d",
   "metadata": {},
   "source": [
    "## 變更執行時設定（Change runtime config）\n",
    "\n",
    "在執行過程中，你也可以動態修改檢索器（retriever）的屬性。  \n",
    "這可以透過 `ConfigurableField` 類別來實現。\n",
    "\n",
    "---\n",
    "\n",
    "### 步驟說明\n",
    "1. 將 `weights` 參數定義為 `ConfigurableField` 物件。\n",
    "2. 為該欄位設定唯一的識別 ID（此例為 `\"ensemble_weights\"`）。"
   ]
  },
  {
   "cell_type": "code",
   "execution_count": null,
   "id": "84a34e4b",
   "metadata": {},
   "outputs": [],
   "source": [
    "from langchain_core.runnables import ConfigurableField\n",
    "\n",
    "ensemble_retriever = EnsembleRetriever(\n",
    "    # 設定檢索器清單，此處使用 bm25_retriever 與 faiss_retriever\n",
    "    retrievers=[bm25_retriever, faiss_retriever],\n",
    ").configurable_fields(\n",
    "    weights=ConfigurableField(\n",
    "        # 搜尋參數的唯一識別 ID\n",
    "        id=\"ensemble_weights\",\n",
    "        # 搜尋參數的名稱\n",
    "        name=\"Ensemble Weights\",\n",
    "        # 搜尋參數的描述\n",
    "        description=\"Ensemble Weights\",\n",
    "    )\n",
    ")"
   ]
  },
  {
   "cell_type": "markdown",
   "id": "bb0e4fb1",
   "metadata": {},
   "source": [
    "- 在搜尋時，透過 `config` 參數指定搜尋設定。\n",
    "  - 將 `ensemble_weights` 選項的權重設定為 `[1, 0]`，讓 **所有搜尋結果更偏向 BM25 檢索器**。"
   ]
  },
  {
   "cell_type": "code",
   "execution_count": 11,
   "id": "1bee1000",
   "metadata": {},
   "outputs": [
    {
     "data": {
      "text/plain": [
       "[Document(metadata={}, page_content='Apple is my favorite company'),\n",
       " Document(id='6280c2a3-b58f-474e-aeb6-d480bb44d49e', metadata={}, page_content='I like apples')]"
      ]
     },
     "execution_count": 11,
     "metadata": {},
     "output_type": "execute_result"
    }
   ],
   "source": [
    "config = {\"configurable\": {\"ensemble_weights\": [1, 0]}}\n",
    "\n",
    "# Use the config parameter to specify search settings.\n",
    "docs = ensemble_retriever.invoke(\"my favorite fruit is apple\", config=config)\n",
    "docs  # Print the search result, docs."
   ]
  },
  {
   "cell_type": "markdown",
   "id": "ffdad0be",
   "metadata": {},
   "source": [
    "This time, we want all search results to be weighted **more heavily in favor of the FAISS retriever**."
   ]
  },
  {
   "cell_type": "code",
   "execution_count": 12,
   "id": "5d95922b",
   "metadata": {},
   "outputs": [
    {
     "data": {
      "text/plain": [
       "[Document(id='6280c2a3-b58f-474e-aeb6-d480bb44d49e', metadata={}, page_content='I like apples'),\n",
       " Document(metadata={}, page_content='Apple is my favorite company')]"
      ]
     },
     "execution_count": 12,
     "metadata": {},
     "output_type": "execute_result"
    }
   ],
   "source": [
    "config = {\"configurable\": {\"ensemble_weights\": [0, 1]}}\n",
    "\n",
    "# Use the config parameter to specify search settings.\n",
    "docs = ensemble_retriever.invoke(\"my favorite fruit is apple\", config=config)\n",
    "docs  # Print the search result, docs."
   ]
  }
 ],
 "metadata": {
  "kernelspec": {
   "display_name": "Python 3",
   "language": "python",
   "name": "python3"
  },
  "language_info": {
   "codemirror_mode": {
    "name": "ipython",
    "version": 3
   },
   "file_extension": ".py",
   "mimetype": "text/x-python",
   "name": "python",
   "nbconvert_exporter": "python",
   "pygments_lexer": "ipython3",
   "version": "3.11.13"
  }
 },
 "nbformat": 4,
 "nbformat_minor": 5
}
