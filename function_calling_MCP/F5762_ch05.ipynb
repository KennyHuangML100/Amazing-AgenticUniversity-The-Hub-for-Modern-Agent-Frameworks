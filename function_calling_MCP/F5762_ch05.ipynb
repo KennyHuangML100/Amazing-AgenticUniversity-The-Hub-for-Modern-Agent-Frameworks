{
  "cells": [
    {
      "cell_type": "markdown",
      "metadata": {
        "id": "qgttHM1PIMSk"
      },
      "source": [
        "# 第 5 章 Agent 的基礎–用 Function Calling 幫 AI 長手腳"
      ]
    },
    {
      "cell_type": "markdown",
      "metadata": {
        "id": "8-RlMrECIQac"
      },
      "source": [
        "## 前置工作\n",
        "\n",
        "請先執行以下這幾個儲存格，便於後續測試："
      ]
    },
    {
      "cell_type": "code",
      "execution_count": null,
      "metadata": {
        "id": "38jBEPsRaWH2"
      },
      "outputs": [],
      "source": [
        "from IPython.display import Markdown, display\n",
        "from google.colab import userdata\n",
        "from rich.pretty import pprint\n",
        "from pydantic import BaseModel, Field, ConfigDict\n",
        "from io import BytesIO\n",
        "import requests\n",
        "import openai\n",
        "import sys\n",
        "import os\n",
        "import pickle\n",
        "import json"
      ]
    },
    {
      "cell_type": "code",
      "execution_count": null,
      "metadata": {
        "id": "RoDsvbeBaqaL"
      },
      "outputs": [],
      "source": [
        "client = openai.OpenAI(api_key=userdata.get('OPENAI_API_KEY'))"
      ]
    },
    {
      "cell_type": "code",
      "execution_count": null,
      "metadata": {
        "id": "kvi9uaZR9iJd"
      },
      "outputs": [],
      "source": [
        "def upload_file(file_path):\n",
        "    try:\n",
        "        if (file_path.startswith('http://')\n",
        "            or file_path.startswith('https://')):\n",
        "            response = requests.get(file_path)\n",
        "            filename = response.headers.get(\n",
        "                'content-disposition',\n",
        "                None\n",
        "            )\n",
        "            if filename:\n",
        "                filename = filename.split('filename=')[-1]\n",
        "                filename = filename.strip('\\'\"')\n",
        "            else:\n",
        "                filename = file_path.split('/')[-1]\n",
        "            response = client.files.create(\n",
        "                file=(filename, response.content),\n",
        "                purpose='user_data'\n",
        "            )\n",
        "        else:\n",
        "            with open(file_path, 'rb') as file:\n",
        "                response = client.files.create(\n",
        "                    file=file,\n",
        "                    purpose='user_data'\n",
        "                )\n",
        "    except:\n",
        "        return None\n",
        "    return response.id"
      ]
    },
    {
      "cell_type": "code",
      "source": [
        "class BaseComand:\n",
        "    def __init__(self, command, tool_name, icon, verbose=False):\n",
        "        self.command = command      # 指令\n",
        "        self.tool_name = tool_name  # 工具名稱\n",
        "        self.icon = icon            # 工具圖示字元\n",
        "        self.verbose = verbose      # 啟用詳細輸出\n",
        "        self.extra_args = {}        # 要額外送給模型的參數\n",
        "\n",
        "    def handle_command(self, chat, cmd):\n",
        "        # 不是正確的指令開頭（空字串會是 True）\n",
        "        if not cmd.startswith(self.command):\n",
        "            return False\n",
        "        return True\n",
        "\n",
        "    def handle_event(self, chat, stream, event):\n",
        "        return None # 預設不處理交給下一個指令處理器"
      ],
      "metadata": {
        "id": "-mDRSmw6_vly"
      },
      "execution_count": null,
      "outputs": []
    },
    {
      "cell_type": "code",
      "source": [
        "from urllib.parse import unquote\n",
        "\n",
        "class WebSearchCommand(BaseComand):\n",
        "    def __init__(self, verbose=False):\n",
        "        super().__init__(\n",
        "            '/w',\n",
        "            'web_search_preview',\n",
        "            '🌐',\n",
        "            verbose\n",
        "        )\n",
        "\n",
        "    def handle_command(self, chat, cmd):\n",
        "        if not super().handle_command(chat, cmd):\n",
        "            return False\n",
        "        idx = chat.find_tool_index(self.tool_name)\n",
        "        if idx == -1:\n",
        "            chat.tools.append({\n",
        "                'type': self.tool_name\n",
        "            })\n",
        "        else:\n",
        "            chat.tools.pop(idx)\n",
        "        return True\n",
        "\n",
        "    def show_search_results(self, response):\n",
        "        if response.output[0].type != \"web_search_call\":\n",
        "            return\n",
        "        content = response.output[1].content[0]\n",
        "        for i, annotaion in enumerate(\n",
        "            content.annotations, start=1\n",
        "        ):\n",
        "            print(f'{i}. {annotaion.title}')\n",
        "            print(f'   {unquote(annotaion.url)}')\n",
        "\n",
        "    def handle_event(self, chat, stream, event):\n",
        "        if not self.verbose: return None\n",
        "        if event.type == 'response.completed':\n",
        "            self.show_search_results(event.response)\n",
        "        return None"
      ],
      "metadata": {
        "id": "JgXxEfcoAOWV"
      },
      "execution_count": null,
      "outputs": []
    },
    {
      "cell_type": "code",
      "source": [
        "class FileSearchCommand(BaseComand):\n",
        "    def __init__(self, vector_store_id=None, verbose=False):\n",
        "        super().__init__(\n",
        "            '/f',\n",
        "            'file_search',\n",
        "            '🔍',\n",
        "            verbose\n",
        "        )\n",
        "        self.vector_store_id = vector_store_id\n",
        "\n",
        "    def handle_command(self, chat, cmd):\n",
        "        if not super().handle_command(chat, cmd):\n",
        "            return False\n",
        "        idx = chat.find_tool_index(self.tool_name)\n",
        "        if len(cmd) < 4: # /f[.]，不是冒號加檔名/網址\n",
        "            if self.vector_store_id == None:\n",
        "                print('請先使用 /f:[路徑|網址]上傳檔案')\n",
        "                return True # 沒有向量資料庫無法切換\n",
        "            turn_on = (idx == -1) # 切換開/關檔案檢索\n",
        "        else: # /f:檔名|網址，上傳檔案並開啟檢索功能\n",
        "            turn_on = True\n",
        "            file_path = cmd[3:]\n",
        "            file_id= upload_file(file_path)\n",
        "            if not file_id:\n",
        "                print(f'無法上傳檔案：{file_path}')\n",
        "                return True\n",
        "            if self.vector_store_id == None:\n",
        "                vector_store = client.vector_stores.create(\n",
        "                    name=\"temp\",\n",
        "                    file_ids=[file_id],\n",
        "                )\n",
        "                self.vector_store_id = vector_store.id\n",
        "            else:\n",
        "                client.vector_stores.files.create(\n",
        "                    self.vector_store_id,\n",
        "                    file_id=file_id\n",
        "                )\n",
        "        if turn_on:\n",
        "            chat.tools.append({\n",
        "                'type': self.tool_name,\n",
        "                'vector_store_ids': [self.vector_store_id]\n",
        "            })\n",
        "            self.extra_args = {\n",
        "                'include': ['file_search_call.results']\n",
        "            }\n",
        "        else:\n",
        "            chat.tools.pop(idx)\n",
        "            self.extra_args = {}\n",
        "        return True\n",
        "\n",
        "    def remove_vector_store(self, chat):\n",
        "        if self.vector_store_id == None: return\n",
        "        idx = chat.find_tool_index('file_search')\n",
        "        if idx: chat.tools.pop(idx)\n",
        "        response = client.vector_stores.files.list(\n",
        "            self.vector_store_id\n",
        "        )\n",
        "        for vector_file in response.data:\n",
        "            client.files.delete(vector_file.id)\n",
        "        client.vector_stores.delete(self.vector_store_id)\n",
        "\n",
        "    def show_file_search_results(self, response):\n",
        "        if response.output[0].type != 'file_search_call':\n",
        "            return\n",
        "        results = response.output[0].results\n",
        "        if not results: return\n",
        "        for i, result in enumerate(results, start=1):\n",
        "            display(Markdown('---'))\n",
        "            print(f'{i}. {result.filename}({result.score})')\n",
        "            display(Markdown('---'))\n",
        "            display(Markdown(result.text))\n",
        "\n",
        "    def handle_event(self, chat, stream, event):\n",
        "        if not self.verbose: return None\n",
        "        if event.type == 'response.completed':\n",
        "            self.show_file_search_results(event.response)\n",
        "        return None"
      ],
      "metadata": {
        "id": "MB5meaUaBdK_"
      },
      "execution_count": null,
      "outputs": []
    },
    {
      "cell_type": "markdown",
      "metadata": {
        "id": "ZYGBb4BFRtt0"
      },
      "source": [
        "## 5-1 認識 function calling 機制"
      ]
    },
    {
      "cell_type": "markdown",
      "metadata": {
        "id": "hNlGRADVRvnn"
      },
      "source": [
        "## 5-2 提供客製搜尋功能"
      ]
    },
    {
      "cell_type": "markdown",
      "metadata": {
        "id": "6w6fD04SXlvE"
      },
      "source": [
        "### 提供 Google 搜尋的函式"
      ]
    },
    {
      "cell_type": "code",
      "execution_count": null,
      "metadata": {
        "id": "vw5jVOPpYRIC"
      },
      "outputs": [],
      "source": [
        "!pip -q install googlesearch-python"
      ]
    },
    {
      "cell_type": "code",
      "execution_count": null,
      "metadata": {
        "id": "oU6zOqkcYWzb"
      },
      "outputs": [],
      "source": [
        "from googlesearch import search\n",
        "for url in search('高中排球聯賽'):\n",
        "    print(url)"
      ]
    },
    {
      "cell_type": "markdown",
      "metadata": {
        "id": "90RvjK1zmgNc"
      },
      "source": [
        "- `lang` 參數使用[這裡](https://developers.google.com/custom-search/docs/json_api_reference#supported-interface-languages)的值。\n",
        "- `region` 參數可用這裡查到的[國別碼](https://developers.google.com/custom-search/docs/json_api_reference#country-codes)"
      ]
    },
    {
      "cell_type": "code",
      "execution_count": null,
      "metadata": {
        "id": "BnBedpbDYgNr"
      },
      "outputs": [],
      "source": [
        "for i, result in enumerate(\n",
        "    search(\n",
        "        '高中排球聯賽',\n",
        "        advanced=True, # 進階模式可取得標題、摘要與網址\n",
        "        num_results=3, # 搜尋筆數\n",
        "        lang='zh-TW',  # 限定語言\n",
        "        region='tw',   # 限定區域\n",
        "        unique=True    # 篩除重複連結\n",
        "    ),\n",
        "    start=1\n",
        "):\n",
        "    print(f'{i}. {result.title}')\n",
        "    print(result.description)\n",
        "    print(result.url)"
      ]
    },
    {
      "cell_type": "markdown",
      "metadata": {
        "id": "iAGkH58xblXO"
      },
      "source": [
        "用 JSON 整理搜尋結果經過測試效果似乎沒有 Markdown 好："
      ]
    },
    {
      "cell_type": "code",
      "execution_count": null,
      "metadata": {
        "id": "24HWcFOHZBrv"
      },
      "outputs": [],
      "source": [
        "def google_res(keyword, num_results=5):\n",
        "    content = \"\"\n",
        "    num_results = max(num_results, 5) # 最少 5 筆\n",
        "    for result in search( # 一一串接搜尋結果\n",
        "        keyword,\n",
        "        advanced=True,\n",
        "        num_results=num_results,\n",
        "        lang='zh-TW'\n",
        "    ):\n",
        "        # 使用 markdown 格式整理搜尋結果\n",
        "        content += (f\"- [{result.title}]({result.url})\\n\"\n",
        "                    f\"    {result.description}\\n\")\n",
        "    return content"
      ]
    },
    {
      "cell_type": "code",
      "execution_count": null,
      "metadata": {
        "id": "BrBW1XCraSng"
      },
      "outputs": [],
      "source": [
        "display(Markdown(google_res('高中排球聯賽冠軍')))"
      ]
    },
    {
      "cell_type": "markdown",
      "metadata": {
        "id": "mt6pqPS_v4vV"
      },
      "source": [
        "### 使用 JSON Schema 描述函式"
      ]
    },
    {
      "cell_type": "code",
      "execution_count": null,
      "metadata": {
        "id": "LsdKX-WNaTGN"
      },
      "outputs": [],
      "source": [
        "# 描述 google_res 工具函式的參數\n",
        "class GoogleRes(BaseModel):\n",
        "    keyword: str = Field(description='要搜尋的關鍵字')\n",
        "    num_results: int = Field(\n",
        "        description='搜尋結果數目，不提供預設 5 筆'\n",
        "    )\n",
        "\n",
        "# 實際要送給模型描述參數的內容 (字典)\n",
        "pprint(GoogleRes.model_json_schema())"
      ]
    },
    {
      "cell_type": "code",
      "execution_count": null,
      "metadata": {
        "id": "4MAdvconb__G"
      },
      "outputs": [],
      "source": [
        "tools = [{\n",
        "    \"type\":\"function\",\n",
        "    \"name\": \"google_res\",                  # 函式名稱\n",
        "    \"description\": \"取得 Google 搜尋結果\", # 函式說明\n",
        "    \"parameters\": GoogleRes.model_json_schema(), # 參數規格\n",
        "}]"
      ]
    },
    {
      "cell_type": "markdown",
      "metadata": {
        "id": "Td2nBJoBv0BU"
      },
      "source": [
        "### 使用 function calling"
      ]
    },
    {
      "cell_type": "code",
      "execution_count": null,
      "metadata": {
        "id": "AJHrcYEMcerB"
      },
      "outputs": [],
      "source": [
        "query = \"高中排球聯賽冠軍\" # 接著要詢問的問題\n",
        "\n",
        "response = client.responses.create(\n",
        "    model = \"gpt-4.1-nano\",\n",
        "    input = query,\n",
        "    tools = tools,\n",
        "    parallel_tool_calls=False, # 限制只能叫用一次\n",
        ")"
      ]
    },
    {
      "cell_type": "code",
      "execution_count": null,
      "metadata": {
        "id": "1bj5_jNtcn6s"
      },
      "outputs": [],
      "source": [
        "pprint(response.output_text)"
      ]
    },
    {
      "cell_type": "code",
      "execution_count": null,
      "metadata": {
        "id": "AunfH0W1cyJo"
      },
      "outputs": [],
      "source": [
        "pprint(response)"
      ]
    },
    {
      "cell_type": "markdown",
      "metadata": {
        "id": "t5aR-p3gTIYB"
      },
      "source": [
        "### 依據模型指示叫用函式"
      ]
    },
    {
      "cell_type": "code",
      "execution_count": null,
      "metadata": {
        "id": "3FbhrycEc09R"
      },
      "outputs": [],
      "source": [
        "# 取得建議叫用函式的資訊\n",
        "if response.output[0].type == 'function_call':\n",
        "    tool_call = response.output[0]\n",
        "    tool_info = f'{tool_call.name}(**{tool_call.arguments})'\n",
        "    print(tool_info)"
      ]
    },
    {
      "cell_type": "code",
      "execution_count": null,
      "metadata": {
        "id": "6VqKFS5ZecJO"
      },
      "outputs": [],
      "source": [
        "response1 = client.responses.create(\n",
        "    model='gpt-4.1-nano',\n",
        "    input=[\n",
        "        {\"role\": \"user\", \"content\": query},\n",
        "        # 傳回 AI 傳給我們的 function calling 指示\n",
        "        tool_call,\n",
        "        {   # 建立可傳回函式執行結果的字典\n",
        "            \"type\": \"function_call_output\", # 工具執行結果類型\n",
        "            \"call_id\": tool_call.call_id, # 叫用函式的識別碼\n",
        "            \"output\": eval(tool_info) # 叫用函式取得結果\n",
        "        }\n",
        "    ],\n",
        "    tools=tools\n",
        ")"
      ]
    },
    {
      "cell_type": "code",
      "execution_count": null,
      "metadata": {
        "id": "quiD_EuPfJEe"
      },
      "outputs": [],
      "source": [
        "print(response1.output_text)"
      ]
    },
    {
      "cell_type": "markdown",
      "metadata": {
        "id": "xKza0BsqTqKf"
      },
      "source": [
        "#### 利用串接回應的方式使用 function calling"
      ]
    },
    {
      "cell_type": "code",
      "execution_count": null,
      "metadata": {
        "id": "EQ-OmDy-ToxC"
      },
      "outputs": [],
      "source": [
        "response2 = client.responses.create(\n",
        "    model='gpt-4.1-nano',\n",
        "    input=[\n",
        "        # 不用重傳提示內容\n",
        "        # {\"role\": \"user\", \"content\": query},\n",
        "        # 傳回 AI 傳給我們的 function calling 指示\n",
        "        # tool_call,\n",
        "        {   # 建立可傳回函式執行結果的字典\n",
        "            \"type\": \"function_call_output\", # 以工具角色送出回覆\n",
        "            \"call_id\": tool_call.call_id, # 叫用函式的識別碼\n",
        "            \"output\": eval(tool_info) # 叫用函式取得結果\n",
        "        }\n",
        "    ],\n",
        "    tools=tools,\n",
        "    previous_response_id=response.id\n",
        ")\n",
        "\n",
        "print(response2.output_text)"
      ]
    },
    {
      "cell_type": "code",
      "source": [
        "pprint(response1.usage.input_tokens)\n",
        "pprint(response2.usage.input_tokens)"
      ],
      "metadata": {
        "id": "GU5vbqDbzPx5"
      },
      "execution_count": null,
      "outputs": []
    },
    {
      "cell_type": "markdown",
      "metadata": {
        "id": "va1sI8aQ5K3C"
      },
      "source": [
        "### 建立方便進行 function calling 的輔助函式"
      ]
    },
    {
      "cell_type": "code",
      "execution_count": null,
      "metadata": {
        "id": "wg8IAOZbfNXK"
      },
      "outputs": [],
      "source": [
        "# 叫用單一函式並且將函式執行結果組成訊息後傳回\n",
        "def make_tool_msg(tool_call):\n",
        "    tool_info = f'{tool_call.name}(**{tool_call.arguments})'\n",
        "    result = eval(tool_info)\n",
        "    return {   # 建立可傳回函式執行結果的字典\n",
        "        \"type\": \"function_call_output\", # 以工具角色送出回覆\n",
        "        \"call_id\": tool_call.call_id, # 叫用函式的識別碼\n",
        "        \"output\": result # 函式傳回值\n",
        "    }"
      ]
    },
    {
      "cell_type": "code",
      "execution_count": null,
      "metadata": {
        "id": "C98fdbThhRHj"
      },
      "outputs": [],
      "source": [
        "response = client.responses.create(\n",
        "    model='gpt-4.1-mini',\n",
        "    input=query,\n",
        "    tools=tools\n",
        ")\n",
        "\n",
        "# 取得建議叫用函式的資訊\n",
        "if response.output[0].type == 'function_call':\n",
        "    tool_call = response.output[0]\n",
        "    response = client.responses.create(\n",
        "        model='gpt-4.1-mini',\n",
        "        input=[\n",
        "            {\"role\":\"user\", \"content\":query},\n",
        "            # 傳回 AI 傳給我們的 function calling 指示\n",
        "            tool_call,\n",
        "            # 再加上包含函式執行結果的字典\n",
        "            make_tool_msg(tool_call)\n",
        "        ],\n",
        "        tools=tools\n",
        "    )"
      ]
    },
    {
      "cell_type": "code",
      "execution_count": null,
      "metadata": {
        "id": "3YM294kPhbV0"
      },
      "outputs": [],
      "source": [
        "print(response.output_text)"
      ]
    },
    {
      "cell_type": "markdown",
      "metadata": {
        "id": "7_Gh-zRO8ix4"
      },
      "source": [
        "### 同時叫用多個函式（parallel function calling）"
      ]
    },
    {
      "cell_type": "code",
      "execution_count": null,
      "metadata": {
        "id": "ZlBjQ3SFhgFS"
      },
      "outputs": [],
      "source": [
        "query = \"2025 奧斯卡最佳男主角與 2024 奧斯卡最佳女主角各是誰？\""
      ]
    },
    {
      "cell_type": "code",
      "execution_count": null,
      "metadata": {
        "id": "fw8HXQfjiFNs"
      },
      "outputs": [],
      "source": [
        "response = client.responses.create(\n",
        "    model = \"gpt-4.1-mini\",\n",
        "    input = query,\n",
        "    tools = tools,\n",
        ")\n",
        "\n",
        "pprint(response)"
      ]
    },
    {
      "cell_type": "code",
      "execution_count": null,
      "metadata": {
        "id": "-2IAijvgiKnP"
      },
      "outputs": [],
      "source": [
        "def call_tools(tool_calls):\n",
        "    msgs = []\n",
        "    for tool_call in tool_calls:\n",
        "        if tool_call.type == 'function_call':\n",
        "            msgs.append(make_tool_msg(tool_call))\n",
        "    return msgs"
      ]
    },
    {
      "cell_type": "code",
      "execution_count": null,
      "metadata": {
        "id": "rTCUQTjXiWhP"
      },
      "outputs": [],
      "source": [
        "tool_calls = response.output\n",
        "\n",
        "response = client.responses.create(\n",
        "    model='gpt-4.1-mini',\n",
        "    input=[{\"role\": \"user\", \"content\": query}]\n",
        "        # 傳回 AI 傳給我們的 function calling 指示\n",
        "        + tool_calls\n",
        "        # 我們執行函式的結果\n",
        "        + call_tools(tool_calls)\n",
        ")\n",
        "\n",
        "print(response.output_text)"
      ]
    },
    {
      "cell_type": "code",
      "execution_count": null,
      "metadata": {
        "id": "GMrcjnhoaMB6"
      },
      "outputs": [],
      "source": [
        "response = client.responses.create(\n",
        "    model = \"gpt-4.1-mini\",\n",
        "    input = query,\n",
        "    tools = tools,\n",
        "    parallel_tool_calls=False\n",
        ")\n",
        "\n",
        "pprint(response)"
      ]
    },
    {
      "cell_type": "markdown",
      "metadata": {
        "id": "mCN1jbtRFjhP"
      },
      "source": [
        "### 串流模式下的 function calling"
      ]
    },
    {
      "cell_type": "code",
      "execution_count": null,
      "metadata": {
        "id": "uwZbAW01i7UP"
      },
      "outputs": [],
      "source": [
        "response = client.responses.create(\n",
        "    model = \"gpt-4.1-mini\",\n",
        "    input = query,\n",
        "    tools = tools,\n",
        "    stream=True\n",
        ")\n",
        "\n",
        "for chunk in response:\n",
        "    pprint(chunk)"
      ]
    },
    {
      "cell_type": "markdown",
      "metadata": {
        "id": "y8tq94B_eMk0"
      },
      "source": [
        "## 5-3 幫簡易聊天應用程式加入 function calling 功能"
      ]
    },
    {
      "cell_type": "markdown",
      "source": [
        "### 設計處理自訂函式工具的類別"
      ],
      "metadata": {
        "id": "9e_-06Si0g4h"
      }
    },
    {
      "cell_type": "markdown",
      "source": [
        "def make_tool_msg(tool_call):\n",
        "這裡有更新程式碼，原本初版（2025/6）書上的 `make_tool_msg` 方法的程式碼如下：\n",
        "\n",
        "```python\n",
        "    # 叫用單一函式並且將函式執行結果組成訊息後傳回\n",
        "    def make_tool_msg(self, tool_call):\n",
        "        tool_info = f'{tool_call.name}(**{tool_call.arguments})'\n",
        "        if self.verbose: print(f'叫用：{tool_info}')\n",
        "        result = eval(tool_info)\n",
        "        return {   # 建立可傳回函式執行結果的字典\n",
        "            \"type\": \"function_call_output\", # 以工具角色送出回覆\n",
        "            \"call_id\": tool_call.call_id, # 叫用函式的識別碼\n",
        "            \"output\": result # 函式傳回值\n",
        "        }\n",
        "```\n",
        "\n",
        "但由於 `tool_call.arguments` 是 JSON，其中像是 `true/false` 大小寫與 Python 不同，若直接以字串傳入 `eval` 會出錯，雖然本章不會出現有問題的狀況，但在其他應用時就可能會遇到，因此底下 29～31 行改為先轉成 Python 字典的方式："
      ],
      "metadata": {
        "id": "HzmoEfqtzb3v"
      }
    },
    {
      "cell_type": "code",
      "source": [
        "class FunctionCallingCommand(BaseComand):\n",
        "    def __init__(self, tools=None, verbose=False):\n",
        "        super().__init__(\n",
        "            '/t',\n",
        "            'function',\n",
        "            '',\n",
        "            verbose\n",
        "        )\n",
        "        self.tools = tools or []\n",
        "        self.enabled = False\n",
        "\n",
        "    def handle_command(self, chat, cmd):\n",
        "        if not super().handle_command(chat, cmd):\n",
        "            return False\n",
        "        if not self.enabled: # 加入自訂函式工具\n",
        "            chat.tools.extend(self.tools)\n",
        "        else: # 移除自訂工具函式\n",
        "            chat.tools = [\n",
        "                tool for tool in chat.tools\n",
        "                if tool['type'] != self.tool_name\n",
        "            ]\n",
        "        self.enabled = not self.enabled\n",
        "        return True\n",
        "\n",
        "    # 叫用單一函式並且將函式執行結果組成訊息後傳回\n",
        "    def make_tool_msg(self, tool_call):\n",
        "        tool_info = f'{tool_call.name}(**{tool_call.arguments})'\n",
        "        if self.verbose: print(f'叫用：{tool_info}')\n",
        "        func = eval(tool_call.name)\n",
        "        args = json.loads(tool_call.arguments)\n",
        "        result = func(**args)\n",
        "        return {   # 建立可傳回函式執行結果的字典\n",
        "            \"type\": \"function_call_output\", # 以工具角色送出回覆\n",
        "            \"call_id\": tool_call.call_id, # 叫用函式的識別碼\n",
        "            \"output\": result # 函式傳回值\n",
        "        }\n",
        "\n",
        "    def call_tools(self, tool_calls):\n",
        "        msgs = []\n",
        "        for tool_call in tool_calls:\n",
        "            if tool_call.type == 'function_call':\n",
        "                msgs.append(self.make_tool_msg(tool_call))\n",
        "        return msgs if msgs else None\n",
        "\n",
        "    def handle_event(self, chat, stream, event):\n",
        "        if not self.enabled: return None\n",
        "        if event.type != 'response.completed':\n",
        "            return None\n",
        "        # 呼叫函式\n",
        "        tool_calls = event.response.output\n",
        "        tool_results = self.call_tools(tool_calls)\n",
        "        if tool_results: return tool_calls + tool_results\n",
        "        return None"
      ],
      "metadata": {
        "id": "p0pra51NMW4H"
      },
      "execution_count": null,
      "outputs": []
    },
    {
      "cell_type": "markdown",
      "source": [
        "### 修改 Chat 類別搭配 function calling 運作"
      ],
      "metadata": {
        "id": "bn3BE4AP05it"
      }
    },
    {
      "cell_type": "code",
      "source": [
        "class Chat:\n",
        "    def __init__(self, client, **kwargs):\n",
        "        self._client = client\n",
        "        self._last_id = kwargs.pop('last_id', None)\n",
        "        # 限制工具執行圈數，避免無窮盡叫用工具\n",
        "        self._max_tools_rounds = kwargs.pop('max_tools_rounds', 4)\n",
        "        self.tools = [] # 預設沒有使用工具\n",
        "        self._commands = kwargs.pop('commands', [])\n",
        "\n",
        "    def get_reply_text(self, msg, **kwargs) -> str:\n",
        "        instructions = kwargs.pop('instructions', '使用繁體中文')\n",
        "        model = kwargs.pop('model', 'gpt-4.1-nano')\n",
        "        stream = kwargs.pop('stream', False)\n",
        "        tool_results = [] # 函式叫用的相關資訊\n",
        "        for command in self._commands:\n",
        "            kwargs.update(command.extra_args)\n",
        "        try:\n",
        "            messages = [{'role': 'user', 'content': msg}]\n",
        "            for _ in range(self._max_tools_rounds):\n",
        "                # 方便稍後串接函式叫用資訊\n",
        "                if tool_results: # 串接叫用函式的資訊\n",
        "                    messages += tool_results\n",
        "                response = self._client.responses.create(\n",
        "                    instructions=instructions,\n",
        "                    model=model,\n",
        "                    input=messages,\n",
        "                    stream=True, # 都以串流方式處理，簡化程式邏輯\n",
        "                    previous_response_id=self._last_id, # 串接回應\n",
        "                    **kwargs\n",
        "                )\n",
        "                for event in response:\n",
        "                    for command in self._commands:\n",
        "                        result = command.handle_event(\n",
        "                            self, stream, event\n",
        "                        )\n",
        "                        if result: break\n",
        "                    tool_results = []\n",
        "                    if isinstance(result, list):\n",
        "                        # 工具要送回給模型的訊息串列\n",
        "                        tool_results = result\n",
        "                        break\n",
        "                    if event.type == 'response.output_text.delta':\n",
        "                        if stream: yield event.delta\n",
        "                    elif event.type == (\n",
        "                        'response.output_text.done'\n",
        "                    ):\n",
        "                        # 非串流模式要傳回完整內容\n",
        "                        if not stream:\n",
        "                            yield event.text\n",
        "                    elif event.type == 'response.completed':\n",
        "                        # 更新最後回應的識別碼\n",
        "                        self._last_id = event.response.id\n",
        "                if not tool_results:\n",
        "                    # 沒有要送回給模型的訊息\n",
        "                    # 表示已經成功生成內容\n",
        "                    break\n",
        "        except openai.APIError as err:\n",
        "            print(f'Error:{err.body[\"message\"]}', file=sys.stderr)\n",
        "            return ''\n",
        "\n",
        "    def find_tool_index(self, tool_type):\n",
        "        for i, tool in enumerate(self.tools):\n",
        "            if tool['type'] == tool_type: return i\n",
        "        return -1\n",
        "\n",
        "    def _get_prompt(self):\n",
        "        prompt = ''\n",
        "        for command in self._commands:\n",
        "            idx = self.find_tool_index(command.tool_name)\n",
        "            if idx != -1:\n",
        "                prompt += f'{command.icon}'\n",
        "        user_tools_count = len(self.tools) - len(prompt)\n",
        "        prompt += f'(🛠️{user_tools_count})>>> '\n",
        "        return prompt\n",
        "\n",
        "    def _process_command(self, cmd):\n",
        "        for command in self._commands:\n",
        "            if command.handle_command(self, cmd):\n",
        "                return True\n",
        "        return False\n",
        "\n",
        "    def loop(self, **kwargs) -> None:\n",
        "        print(\"直接按 ↵ 可結束對話\")\n",
        "        while True:\n",
        "            user_msg = input(self._get_prompt())\n",
        "            if not user_msg.strip(): break # 直接 ↵ 就結束\n",
        "            if self._process_command(user_msg):\n",
        "                continue # 指令不需回覆，回頭讓使用者輸入\n",
        "            text = ''\n",
        "            display_handle = display(text, display_id=True)\n",
        "            for reply in self.get_reply_text(\n",
        "                user_msg,\n",
        "                tools=self.tools, # 傳入要使用的工具\n",
        "                **kwargs\n",
        "            ):\n",
        "                text += reply\n",
        "                display_handle.update(Markdown(text))\n",
        "\n",
        "    def save(self, filename) -> None:\n",
        "        with open(filename, 'wb') as f:\n",
        "            pickle.dump(\n",
        "                {\n",
        "                    'last_id': self._last_id,\n",
        "                    'tools': self.tools,\n",
        "                    'commands': self._commands\n",
        "                },\n",
        "                f\n",
        "            )\n",
        "\n",
        "    def load(self, filename) -> None:\n",
        "        with open(filename, 'rb') as f:\n",
        "            data = pickle.load(f)\n",
        "            self._last_id = data['last_id']\n",
        "            self.tools = data['tools']\n",
        "            self._commands = data['commands']\n",
        "\n",
        "    def show_thread(self):\n",
        "        if not self._last_id: return\n",
        "        inputs = client.responses.input_items.list(self._last_id)\n",
        "        response = client.responses.retrieve(self._last_id)\n",
        "        for item in inputs.data[::-1]:\n",
        "            # 略過函式叫用指示等非訊息內容\n",
        "            if item.type != 'message': continue\n",
        "            prompt = \">>> \" if item.role == 'user' else ''\n",
        "            for content in item.content:\n",
        "                print(f'{prompt}{content.text}')\n",
        "        print(response.output_text)\n",
        "\n",
        "    def delete_thread(self):\n",
        "        if not self._last_id: return\n",
        "        last_id = self._last_id\n",
        "        while last_id:\n",
        "            response = client.responses.retrieve(last_id)\n",
        "            last_id, curr_id = (\n",
        "                response.previous_response_id,\n",
        "                last_id\n",
        "            )\n",
        "            client.responses.delete(curr_id)\n",
        "        self._last_id = None"
      ],
      "metadata": {
        "id": "Hj0B2O9rWb8Q"
      },
      "execution_count": null,
      "outputs": []
    },
    {
      "cell_type": "markdown",
      "metadata": {
        "id": "hvItOflxeShT"
      },
      "source": [
        "### 測試使用自訂工具函式聊天"
      ]
    },
    {
      "cell_type": "markdown",
      "source": [
        "可用來測試上傳 PDF 的耳機說明書檔案網址：\n",
        "\n",
        "```\n",
        "https://coolermaster.egnyte.com/dd/BtL7gG2IW6/\n",
        "```"
      ],
      "metadata": {
        "id": "i5o3fG-bJbjV"
      }
    },
    {
      "cell_type": "code",
      "execution_count": null,
      "metadata": {
        "id": "kAPPYlrvsqEx"
      },
      "outputs": [],
      "source": [
        "file_search_command = FileSearchCommand()\n",
        "\n",
        "chat = Chat(\n",
        "    client,\n",
        "    commands=[\n",
        "        FunctionCallingCommand(tools=tools),\n",
        "        file_search_command\n",
        "    ]\n",
        ")\n",
        "chat.loop(\n",
        "    model='gpt-4.1-mini',\n",
        "    stream=True,\n",
        ")"
      ]
    },
    {
      "cell_type": "code",
      "execution_count": null,
      "metadata": {
        "id": "sTBI8hMYaNDP"
      },
      "outputs": [],
      "source": [
        "chat.delete_thread()\n",
        "file_search_command.remove_vector_store(chat)"
      ]
    },
    {
      "cell_type": "markdown",
      "metadata": {
        "id": "z1NonU7ieVsg"
      },
      "source": [
        "### 檢視函式叫用的指示"
      ]
    },
    {
      "cell_type": "code",
      "execution_count": null,
      "metadata": {
        "id": "gNUL8G-vGYC9"
      },
      "outputs": [],
      "source": [
        "chat = Chat(\n",
        "    client,\n",
        "    commands=[\n",
        "        FunctionCallingCommand(tools=tools, verbose=True),\n",
        "        FileSearchCommand(),\n",
        "        WebSearchCommand()\n",
        "    ]\n",
        ")\n",
        "\n",
        "chat.loop(\n",
        "    model='gpt-4.1-mini',\n",
        "    stream=True,\n",
        ")"
      ]
    },
    {
      "cell_type": "markdown",
      "source": [
        "### 強制使用內建工具"
      ],
      "metadata": {
        "id": "9AbF2XGC1HSR"
      }
    },
    {
      "cell_type": "code",
      "execution_count": null,
      "metadata": {
        "id": "Zoy5JQC2kDZD"
      },
      "outputs": [],
      "source": [
        "chat.loop(\n",
        "    model='gpt-4.1-mini',\n",
        "    stream=True,\n",
        "    tool_choice={'type': 'web_search_preview'}\n",
        ")"
      ]
    },
    {
      "cell_type": "markdown",
      "source": [
        "### 不允許單回叫用多個函式"
      ],
      "metadata": {
        "id": "lgicOFOl1K2v"
      }
    },
    {
      "cell_type": "code",
      "execution_count": null,
      "metadata": {
        "id": "RoHRlB0RlZvK"
      },
      "outputs": [],
      "source": [
        "chat.loop(\n",
        "    model='gpt-4.1-mini',\n",
        "    stream=True,\n",
        "    parallel_tool_calls=False\n",
        ")"
      ]
    },
    {
      "cell_type": "markdown",
      "metadata": {
        "id": "eO6oymNqqDZc"
      },
      "source": [
        "移除剛剛建立的討論串以及向量儲存區："
      ]
    },
    {
      "cell_type": "code",
      "execution_count": null,
      "metadata": {
        "id": "XwoXYPHFCm7H"
      },
      "outputs": [],
      "source": [
        "FileSearchCommand.remove_vector_store(chat)\n",
        "chat.delete_thread()"
      ]
    },
    {
      "cell_type": "markdown",
      "metadata": {
        "id": "3GLUU6X4rcUb"
      },
      "source": [
        "## 5-4 讓 AI 長出手腳打造智慧 CLI 指令介面"
      ]
    },
    {
      "cell_type": "markdown",
      "metadata": {
        "id": "YJmP2QCQrfd5"
      },
      "source": [
        "### 執行 shell 指令的自訂函式工具\n",
        "\n",
        "- [Warp 終端機軟體](https://on.warp.dev)"
      ]
    },
    {
      "cell_type": "code",
      "execution_count": null,
      "metadata": {
        "id": "gOgrwLIMIa-I"
      },
      "outputs": [],
      "source": [
        "import subprocess\n",
        "\n",
        "def shell_helper(comment, shell_command):\n",
        "    # 啟動子行程\n",
        "    process = subprocess.Popen(\n",
        "        shell_command,\n",
        "        shell=True,             # 在 shell 中執行\n",
        "        stdout=subprocess.PIPE, # 擷取標準輸出\n",
        "        stderr=subprocess.PIPE, # 擷取錯誤輸出\n",
        "        text=True               # 以文字形式返回\n",
        "    )\n",
        "\n",
        "    result = '執行結果：\\n\\n```\\n'\n",
        "\n",
        "    # 即時讀取輸出\n",
        "    while True:\n",
        "        output = process.stdout.readline()\n",
        "        # 如果沒有輸出且行程結束\n",
        "        if output == '' and process.poll() is not None:\n",
        "            break\n",
        "        if output:\n",
        "            result += output\n",
        "\n",
        "    result += \"```\"\n",
        "\n",
        "    # 檢查錯誤輸出\n",
        "    error = process.stderr.read()\n",
        "    if error:\n",
        "        result += f\"\\n\\n錯誤: {error}\"\n",
        "\n",
        "    # 等待行程結束並取得返回碼\n",
        "    return_code = process.wait()\n",
        "    result += f\"\\n\\n命令執行完成，返回碼: {return_code}\\n\\n\"\n",
        "    return result"
      ]
    },
    {
      "cell_type": "code",
      "execution_count": null,
      "metadata": {
        "id": "r2QYrL0r5Ckk"
      },
      "outputs": [],
      "source": [
        "display(Markdown(\n",
        "    shell_helper('列出檔案', 'ls sample_data')\n",
        "))"
      ]
    },
    {
      "cell_type": "markdown",
      "metadata": {
        "id": "eh6unBA6rdon"
      },
      "source": [
        "### 提供模型自訂的 shell 指令執行函式"
      ]
    },
    {
      "cell_type": "code",
      "execution_count": null,
      "metadata": {
        "id": "1y925nfu5SwY"
      },
      "outputs": [],
      "source": [
        "class ShellHelper(BaseModel):\n",
        "    comment: str = Field(\n",
        "        description='判斷要執行指定的 shell 指令的原因'\n",
        "    )\n",
        "    shell_command: str = Field(\n",
        "        description='要執行的 shell 指令'\n",
        "    )"
      ]
    },
    {
      "cell_type": "code",
      "execution_count": null,
      "metadata": {
        "id": "CUG-ySye5pVk"
      },
      "outputs": [],
      "source": [
        "shell_helper_tool = {\n",
        "    'type': 'function',\n",
        "    \"name\": \"shell_helper\",\n",
        "    \"description\": \"我可以執行 shell 指令操控電腦\",\n",
        "    \"parameters\": ShellHelper.model_json_schema(),\n",
        "}"
      ]
    },
    {
      "cell_type": "markdown",
      "metadata": {
        "id": "_o7w5G9vrgYc"
      },
      "source": [
        "### 測試用說的就可以操控電腦的樂趣"
      ]
    },
    {
      "cell_type": "code",
      "execution_count": null,
      "metadata": {
        "id": "yrrEGC7g5ylm"
      },
      "outputs": [],
      "source": [
        "chat = Chat(\n",
        "    client,\n",
        "    commands=[FunctionCallingCommand(\n",
        "        tools=[shell_helper_tool],\n",
        "        verbose=True\n",
        "    )]\n",
        ")\n",
        "\n",
        "chat.loop(\n",
        "    model='gpt-4.1-mini',\n",
        ")"
      ]
    },
    {
      "cell_type": "markdown",
      "metadata": {
        "id": "r2HgXbMurjrM"
      },
      "source": [
        "### 處理 IPython 特有的問題"
      ]
    },
    {
      "cell_type": "markdown",
      "metadata": {
        "id": "V21E4HHurmAA"
      },
      "source": [
        "- [IPython 的奇特 feature](https://dev.to/codemee/ipython-de-qi-te-feature-2fn8)"
      ]
    },
    {
      "cell_type": "code",
      "execution_count": null,
      "metadata": {
        "id": "WE3bFcIa67I3"
      },
      "outputs": [],
      "source": [
        "chat.loop(\n",
        "    model='gpt-4.1-mini',\n",
        "    stream=True,\n",
        ")"
      ]
    },
    {
      "cell_type": "code",
      "execution_count": null,
      "metadata": {
        "id": "en0ul5SBTIGL"
      },
      "outputs": [],
      "source": [
        "class Chat:\n",
        "    def __init__(self, client, **kwargs):\n",
        "        self._client = client\n",
        "        self._last_id = kwargs.pop('last_id', None)\n",
        "        # 限制工具執行圈數，避免無窮盡叫用工具\n",
        "        self._max_tools_rounds = kwargs.pop('max_tools_rounds', 4)\n",
        "        self.tools = [] # 預設沒有使用工具\n",
        "        self._commands = kwargs.pop('commands', [])\n",
        "\n",
        "    def get_reply_text(self, msg, **kwargs) -> str:\n",
        "        instructions = kwargs.pop('instructions', '使用繁體中文')\n",
        "        model = kwargs.pop('model', 'gpt-4.1-nano')\n",
        "        stream = kwargs.pop('stream', False)\n",
        "        tool_results = [] # 函式叫用的相關資訊\n",
        "        for command in self._commands:\n",
        "            kwargs.update(command.extra_args)\n",
        "        try:\n",
        "            messages = [{'role': 'user', 'content': msg}]\n",
        "            for _ in range(self._max_tools_rounds):\n",
        "                # 方便稍後串接函式叫用資訊\n",
        "                if tool_results: # 串接叫用函式的資訊\n",
        "                    messages += tool_results\n",
        "                response = self._client.responses.create(\n",
        "                    instructions=instructions,\n",
        "                    model=model,\n",
        "                    input=messages,\n",
        "                    stream=True, # 都以串流方式處理，簡化程式邏輯\n",
        "                    previous_response_id=self._last_id, # 串接回應\n",
        "                    **kwargs\n",
        "                )\n",
        "                for event in response:\n",
        "                    for command in self._commands:\n",
        "                        result = command.handle_event(\n",
        "                            self, stream, event\n",
        "                        )\n",
        "                        if result: break\n",
        "                    tool_results = []\n",
        "                    if isinstance(result, list):\n",
        "                        # 工具要送回給模型的訊息串列\n",
        "                        tool_results = result\n",
        "                        break\n",
        "                    if event.type == 'response.output_text.delta':\n",
        "                        if stream: yield event.delta\n",
        "                    elif event.type == (\n",
        "                        'response.output_text.done'\n",
        "                    ):\n",
        "                        # 非串流模式要傳回完整內容\n",
        "                        if not stream:\n",
        "                            yield event.text\n",
        "                    elif event.type == 'response.completed':\n",
        "                        # 更新最後回應的識別碼\n",
        "                        self._last_id = event.response.id\n",
        "                if not tool_results:\n",
        "                    # 沒有要送回給模型的訊息\n",
        "                    # 表示已經成功生成內容\n",
        "                    break\n",
        "        except openai.APIError as err:\n",
        "            print(f'Error:{err.body[\"message\"]}', file=sys.stderr)\n",
        "            return ''\n",
        "\n",
        "    def find_tool_index(self, tool_type):\n",
        "        for i, tool in enumerate(self.tools):\n",
        "            if tool['type'] == tool_type: return i\n",
        "        return -1\n",
        "\n",
        "    def _get_prompt(self):\n",
        "        prompt = ''\n",
        "        for command in self._commands:\n",
        "            idx = self.find_tool_index(command.tool_name)\n",
        "            if idx != -1:\n",
        "                prompt += f'{command.icon}'\n",
        "        user_tools_count = len(self.tools) - len(prompt)\n",
        "        prompt += f'(🛠️{user_tools_count})>>> '\n",
        "        return prompt\n",
        "\n",
        "    def _process_command(self, cmd):\n",
        "        for command in self._commands:\n",
        "            if command.handle_command(self, cmd):\n",
        "                return True\n",
        "        return False\n",
        "\n",
        "    def loop(self, **kwargs) -> None:\n",
        "        print(\"直接按 ↵ 可結束對話\")\n",
        "        while True:\n",
        "            user_msg = input(self._get_prompt())\n",
        "            if not user_msg.strip(): break # 直接 ↵ 就結束\n",
        "            if self._process_command(user_msg):\n",
        "                continue # 指令不需回覆，回頭讓使用者輸入\n",
        "            text = ''\n",
        "            display_handle = display(text, display_id=True)\n",
        "            for reply in self.get_reply_text(\n",
        "                user_msg,\n",
        "                tools=self.tools, # 傳入要使用的工具\n",
        "                **kwargs\n",
        "            ):\n",
        "                text += reply\n",
        "                if os.path.exists(text):\n",
        "                    display_handle.update(Markdown(f' text'))\n",
        "                else:\n",
        "                    display_handle.update(Markdown(text))\n",
        "\n",
        "    def save(self, filename) -> None:\n",
        "        with open(filename, 'wb') as f:\n",
        "            pickle.dump(\n",
        "                {\n",
        "                    'last_id': self._last_id,\n",
        "                    'tools': self.tools,\n",
        "                    'commands': self._commands\n",
        "                },\n",
        "                f\n",
        "            )\n",
        "\n",
        "    def load(self, filename) -> None:\n",
        "        with open(filename, 'rb') as f:\n",
        "            data = pickle.load(f)\n",
        "            self._last_id = data['last_id']\n",
        "            self.tools = data['tools']\n",
        "            self._commands = data['commands']\n",
        "\n",
        "    def show_thread(self):\n",
        "        if not self._last_id: return\n",
        "        inputs = client.responses.input_items.list(self._last_id)\n",
        "        response = client.responses.retrieve(self._last_id)\n",
        "        for item in inputs.data[::-1]:\n",
        "            # 略過函式叫用指示等非訊息內容\n",
        "            if item.type != 'message': continue\n",
        "            prompt = \">>> \" if item.role == 'user' else ''\n",
        "            for content in item.content:\n",
        "                print(f'{prompt}{content.text}')\n",
        "        print(response.output_text)\n",
        "\n",
        "    def delete_thread(self):\n",
        "        if not self._last_id: return\n",
        "        last_id = self._last_id\n",
        "        while last_id:\n",
        "            response = client.responses.retrieve(last_id)\n",
        "            last_id, curr_id = (\n",
        "                response.previous_response_id,\n",
        "                last_id\n",
        "            )\n",
        "            client.responses.delete(curr_id)\n",
        "        self._last_id = None"
      ]
    },
    {
      "cell_type": "code",
      "execution_count": null,
      "metadata": {
        "id": "_sThwFiwtJXZ"
      },
      "outputs": [],
      "source": [
        "chat = Chat(\n",
        "    client,\n",
        "    commands=[FunctionCallingCommand(\n",
        "        tools=[shell_helper_tool],\n",
        "        verbose=True\n",
        "    )]\n",
        ")\n",
        "\n",
        "chat.loop(\n",
        "    model='gpt-4.1-mini',\n",
        "    stream=True,\n",
        ")"
      ]
    },
    {
      "cell_type": "markdown",
      "metadata": {
        "id": "6xmhE5XzEJiM"
      },
      "source": [
        "### 設立防護機制"
      ]
    },
    {
      "cell_type": "code",
      "execution_count": null,
      "metadata": {
        "id": "1F9144yoyUFK"
      },
      "outputs": [],
      "source": [
        "class SafeCommandChecker(BaseModel):\n",
        "    model_config = ConfigDict(extra='forbid')\n",
        "    safe: bool = Field(\n",
        "        description='是否安全'\n",
        "    )"
      ]
    },
    {
      "cell_type": "code",
      "execution_count": null,
      "metadata": {
        "id": "0CWCn_zm2gsR"
      },
      "outputs": [],
      "source": [
        "s = SafeCommandChecker.model_validate_json('{\"safe\": true}')\n",
        "s.safe"
      ]
    },
    {
      "cell_type": "code",
      "execution_count": null,
      "metadata": {
        "id": "s8uVEEmgx2Nk"
      },
      "outputs": [],
      "source": [
        "def is_safe_command(shell_command):\n",
        "    client = openai.OpenAI(\n",
        "        api_key=userdata.get('OPENAI_API_KEY')\n",
        "    )\n",
        "    json_schema = SafeCommandChecker.model_json_schema()\n",
        "    response = client.responses.create(\n",
        "        model = \"gpt-4.1-mini\",\n",
        "        instructions=\"判斷以下 shell 指令是否安全\",\n",
        "        input = (\n",
        "            \"執行以下 shell 指令是否安全？n\\n\"\n",
        "            \"```\\n\"\n",
        "            f\"{shell_command}\\n\"\n",
        "            \"```\"\n",
        "        ),\n",
        "        text = {\n",
        "            \"format\": {\n",
        "                \"type\": \"json_schema\",\n",
        "                \"name\": json_schema[\"title\"],\n",
        "                \"schema\": json_schema\n",
        "            }\n",
        "        },\n",
        "        store=False\n",
        "    )\n",
        "    return SafeCommandChecker.model_validate_json(\n",
        "        response.output_text\n",
        "    ).safe"
      ]
    },
    {
      "cell_type": "code",
      "execution_count": null,
      "metadata": {
        "id": "OjPBoYM84Zms"
      },
      "outputs": [],
      "source": [
        "print(is_safe_command('rm -f /*'))\n",
        "print(is_safe_command('rm sample_data/test.txt'))"
      ]
    },
    {
      "cell_type": "code",
      "execution_count": null,
      "metadata": {
        "id": "EeRHwMD5xpxO"
      },
      "outputs": [],
      "source": [
        "def shell_helper(comment, shell_command):\n",
        "\n",
        "    if not is_safe_command(shell_command):\n",
        "        return '指令不安全，無法執行'\n",
        "\n",
        "    # 啟動子行程\n",
        "    process = subprocess.Popen(\n",
        "        shell_command,\n",
        "        shell=True,             # 在 shell 中執行\n",
        "        stdout=subprocess.PIPE, # 擷取標準輸出\n",
        "        stderr=subprocess.PIPE, # 擷取錯誤輸出\n",
        "        text=True               # 以文字形式返回\n",
        "    )\n",
        "\n",
        "    result = '執行結果：\\n\\n```\\n'\n",
        "\n",
        "    # 即時讀取輸出\n",
        "    while True:\n",
        "        output = process.stdout.readline()\n",
        "        # 如果沒有輸出且行程結束\n",
        "        if output == '' and process.poll() is not None:\n",
        "            break\n",
        "        if output:\n",
        "            result += output\n",
        "\n",
        "    result += \"```\"\n",
        "\n",
        "    # 檢查錯誤輸出\n",
        "    error = process.stderr.read()\n",
        "    if error:\n",
        "        result += f\"\\n\\n錯誤: {error}\"\n",
        "\n",
        "    # 等待行程結束並取得返回碼\n",
        "    return_code = process.wait()\n",
        "    result += f\"\\n\\n命令執行完成，返回碼: {return_code}\\n\\n\"\n",
        "    return result"
      ]
    },
    {
      "cell_type": "code",
      "execution_count": null,
      "metadata": {
        "id": "6MnkLFIX1odv"
      },
      "outputs": [],
      "source": [
        "chat = Chat(\n",
        "    client,\n",
        "    commands=[FunctionCallingCommand(\n",
        "        tools=[shell_helper_tool],\n",
        "        verbose=True\n",
        "    )]\n",
        ")\n",
        "\n",
        "chat.loop(\n",
        "    model='gpt-4.1-mini',\n",
        "    stream=True,\n",
        ")"
      ]
    }
  ],
  "metadata": {
    "colab": {
      "provenance": [],
      "toc_visible": true
    },
    "kernelspec": {
      "display_name": "Python 3",
      "name": "python3"
    },
    "language_info": {
      "name": "python"
    }
  },
  "nbformat": 4,
  "nbformat_minor": 0
}