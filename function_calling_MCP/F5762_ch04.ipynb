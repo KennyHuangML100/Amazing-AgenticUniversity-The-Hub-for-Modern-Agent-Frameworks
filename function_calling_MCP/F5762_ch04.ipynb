{
  "nbformat": 4,
  "nbformat_minor": 0,
  "metadata": {
    "colab": {
      "provenance": [],
      "toc_visible": true
    },
    "kernelspec": {
      "name": "python3",
      "display_name": "Python 3"
    },
    "language_info": {
      "name": "python"
    }
  },
  "cells": [
    {
      "cell_type": "markdown",
      "source": [
        "# 第 4 章 RAG 的基礎–用搜尋與檢索幫 AI 長知識"
      ],
      "metadata": {
        "id": "ajjqxLJBpWZh"
      }
    },
    {
      "cell_type": "code",
      "execution_count": null,
      "metadata": {
        "id": "Cxw0fJ--_S7W"
      },
      "outputs": [],
      "source": [
        "from google.colab import userdata\n",
        "from IPython.display import display, Markdown\n",
        "from rich.pretty import pprint\n",
        "import openai\n",
        "import sys\n",
        "import pickle"
      ]
    },
    {
      "cell_type": "code",
      "source": [
        "client = openai.OpenAI(api_key=userdata.get('OPENAI_API_KEY'))"
      ],
      "metadata": {
        "id": "tAIagOOG_YRy"
      },
      "execution_count": null,
      "outputs": []
    },
    {
      "cell_type": "markdown",
      "source": [
        "## 4-1 使用內建搜尋工具幫 AI 走遍全世界"
      ],
      "metadata": {
        "id": "e2sTsX1qpfUD"
      }
    },
    {
      "cell_type": "code",
      "source": [
        "response = client.responses.create(\n",
        "    model=\"gpt-4.1-mini\", # gpt-4.1-nano 不支援搜尋\n",
        "    input=\"2024年十二強世界棒球賽冠軍是哪一隊？\"\n",
        ")\n",
        "print(response.output_text)"
      ],
      "metadata": {
        "id": "J-bCm4AV2CFc"
      },
      "execution_count": null,
      "outputs": []
    },
    {
      "cell_type": "markdown",
      "source": [
        "使用網頁搜尋的價格可參考[這裡](https://platform.openai.com/docs/pricing#web-search)。雖然搜尋內容不會算入 tokens 數量計費，但搜尋是依次計費，沒有很便宜喔，自己使用 [Google Custom Search JSON API](https://developers.google.com/custom-search/v1/overview#pricing) 可能還便宜一些。\n",
        "\n",
        "gpt-4o 以及 gpt-4.1 家族可用，不含 gpt-4.1-nano，之前測試 gpt-4o-mini 搜尋效果不佳"
      ],
      "metadata": {
        "id": "Bj2BzuYLTgbT"
      }
    },
    {
      "cell_type": "markdown",
      "source": [
        "### 啟用內建的搜尋功能"
      ],
      "metadata": {
        "id": "rgPrGy3kyW1m"
      }
    },
    {
      "cell_type": "code",
      "source": [
        "response = client.responses.create(\n",
        "    model=\"gpt-4.1-mini\", # gpt-4.1-nano 不支援搜尋\n",
        "    input=\"十二強世界棒球賽冠軍是哪一隊？\",\n",
        "    tools=[{\"type\": \"web_search_preview\"}],\n",
        ")"
      ],
      "metadata": {
        "id": "Nxw04lX7Ti47"
      },
      "execution_count": null,
      "outputs": []
    },
    {
      "cell_type": "markdown",
      "source": [
        "IPython 的 Markdown 好像解譯回覆中的格式會出錯？"
      ],
      "metadata": {
        "id": "dZlcwfjdXSwv"
      }
    },
    {
      "cell_type": "code",
      "source": [
        "print(response.output_text)"
      ],
      "metadata": {
        "id": "Oub9u9_R6q1r"
      },
      "execution_count": null,
      "outputs": []
    },
    {
      "cell_type": "code",
      "source": [
        "display(Markdown(response.output_text))"
      ],
      "metadata": {
        "id": "1YuuEMhBUiPR"
      },
      "execution_count": null,
      "outputs": []
    },
    {
      "cell_type": "code",
      "source": [
        "pprint(response)"
      ],
      "metadata": {
        "id": "X8hnNzEtUg2M"
      },
      "execution_count": null,
      "outputs": []
    },
    {
      "cell_type": "markdown",
      "source": [
        "看不出來搜尋的關鍵字是什麼？"
      ],
      "metadata": {
        "id": "v-HWFAKmwEoG"
      }
    },
    {
      "cell_type": "code",
      "source": [
        "from urllib.parse import unquote\n",
        "\n",
        "def show_search_results(response):\n",
        "    if response.output[0].type != \"web_search_call\": return\n",
        "    content = response.output[1].content[0]\n",
        "    for i, annotaion in enumerate(content.annotations, start=1):\n",
        "        print(f'{i}. {annotaion.title}')\n",
        "        print(f'   {unquote(annotaion.url)}')\n",
        "\n",
        "show_search_results(response)"
      ],
      "metadata": {
        "id": "1Y2VJsoYV0MT"
      },
      "execution_count": null,
      "outputs": []
    },
    {
      "cell_type": "code",
      "source": [
        "pprint(response.usage)"
      ],
      "metadata": {
        "id": "ESg17dh4kte1"
      },
      "execution_count": null,
      "outputs": []
    },
    {
      "cell_type": "markdown",
      "source": [
        "### 設定搜尋地區"
      ],
      "metadata": {
        "id": "gR0expBNpmFx"
      }
    },
    {
      "cell_type": "code",
      "source": [
        "response = client.responses.create(\n",
        "    model=\"gpt-4.1-mini\",\n",
        "    input='推薦好吃的義大利餐廳',\n",
        "    tools=[{\"type\": \"web_search_preview\"}],\n",
        ")"
      ],
      "metadata": {
        "id": "fpKuuPD7jtdV"
      },
      "execution_count": null,
      "outputs": []
    },
    {
      "cell_type": "code",
      "source": [
        "display(Markdown(response.output_text))"
      ],
      "metadata": {
        "id": "KxaVAW03mpRa"
      },
      "execution_count": null,
      "outputs": []
    },
    {
      "cell_type": "code",
      "source": [
        "pprint(response.tools[0].user_location)"
      ],
      "metadata": {
        "id": "JLygcErLmwaV"
      },
      "execution_count": null,
      "outputs": []
    },
    {
      "cell_type": "markdown",
      "source": [
        "- [ISO 國別碼](https://zh.wikipedia.org/zh-tw/ISO_3166-1)\n",
        "- [IANA 時區](https://en.wikipedia.org/wiki/List_of_tz_database_time_zones)"
      ],
      "metadata": {
        "id": "Fu3CuPwZS9JT"
      }
    },
    {
      "cell_type": "code",
      "source": [
        "response = client.responses.create(\n",
        "    model=\"gpt-4.1-mini\",\n",
        "    input='推薦好吃的義大利餐廳',\n",
        "    tools=[\n",
        "        {\n",
        "            \"type\": \"web_search_preview\",\n",
        "            \"user_location\": {\n",
        "                \"type\": \"approximate\", # 固定內容\n",
        "                \"country\": \"TW\", # ISO 國別碼\n",
        "                \"timezone\": \"Asia/Taipei\", # IANA 時區\n",
        "                \"region\": \"台北\", # 自由填寫\n",
        "                \"city\": \"台北\"    # 自由填寫\n",
        "            }\n",
        "        }\n",
        "    ],\n",
        ")"
      ],
      "metadata": {
        "id": "Aa4piBOEnDC4"
      },
      "execution_count": null,
      "outputs": []
    },
    {
      "cell_type": "code",
      "source": [
        "display(Markdown(response.output_text))"
      ],
      "metadata": {
        "id": "brIZp4ZcnmnE"
      },
      "execution_count": null,
      "outputs": []
    },
    {
      "cell_type": "markdown",
      "source": [
        "### 設定提供給模型的搜尋資料量"
      ],
      "metadata": {
        "id": "mo7f_WSxpqqT"
      }
    },
    {
      "cell_type": "code",
      "source": [
        "response = client.responses.create(\n",
        "    model=\"gpt-4.1-mini\",\n",
        "    input=\"十二強世界棒球賽冠軍是哪一隊？\",\n",
        "    tools=[{\n",
        "        \"type\": \"web_search_preview\",\n",
        "        # low, medium（default）, high\n",
        "        \"search_context_size\": \"high\"\n",
        "    }],\n",
        ")\n",
        "display(Markdown(response.output_text))"
      ],
      "metadata": {
        "id": "kYMh1JyKnpsv"
      },
      "execution_count": null,
      "outputs": []
    },
    {
      "cell_type": "code",
      "source": [
        "show_search_results(response)"
      ],
      "metadata": {
        "id": "wdSJyURPkAuY"
      },
      "execution_count": null,
      "outputs": []
    },
    {
      "cell_type": "code",
      "source": [
        "pprint(response.usage)"
      ],
      "metadata": {
        "id": "h_lFdJbfkEhd"
      },
      "execution_count": null,
      "outputs": []
    },
    {
      "cell_type": "markdown",
      "source": [
        "### 串流方式使用工具"
      ],
      "metadata": {
        "id": "j0w5Snxwrp7B"
      }
    },
    {
      "cell_type": "code",
      "source": [
        "response = client.responses.create(\n",
        "    model=\"gpt-4.1-mini\",\n",
        "    input=\"十二強世界棒球賽冠軍是哪一隊？\",\n",
        "    tools=[{\n",
        "        \"type\": \"web_search_preview\",\n",
        "    }],\n",
        "    stream=True\n",
        ")"
      ],
      "metadata": {
        "id": "tvrPybq6BaqS"
      },
      "execution_count": null,
      "outputs": []
    },
    {
      "cell_type": "code",
      "source": [
        "for chunk in response:\n",
        "    pprint(chunk)"
      ],
      "metadata": {
        "id": "SjblfuphBjx3"
      },
      "execution_count": null,
      "outputs": []
    },
    {
      "cell_type": "markdown",
      "source": [
        "搜尋結果在 type 為 response.output_text.annotation.added 的事件中"
      ],
      "metadata": {
        "id": "2p_RxOABnNii"
      }
    },
    {
      "cell_type": "markdown",
      "source": [
        "## 4-2 幫簡易聊天程式加上搜尋功能"
      ],
      "metadata": {
        "id": "LjVpLllJtmxi"
      }
    },
    {
      "cell_type": "markdown",
      "source": [
        "### 設計處理指令的類別"
      ],
      "metadata": {
        "id": "nNQKASOyZ7Ee"
      }
    },
    {
      "cell_type": "code",
      "source": [
        "class BaseComand:\n",
        "    def __init__(self, command, tool_name, icon):\n",
        "        self.command = command      # 指令\n",
        "        self.tool_name = tool_name  # 工具名稱\n",
        "        self.icon = icon            # 工具圖示字元\n",
        "\n",
        "    def handle_command(self, chat, cmd):\n",
        "        # 不是正確的指令開頭（空字串會是 True）\n",
        "        if not cmd.startswith(self.command):\n",
        "            return False\n",
        "        return True"
      ],
      "metadata": {
        "id": "2VUIpvRNZ_JA"
      },
      "execution_count": null,
      "outputs": []
    },
    {
      "cell_type": "markdown",
      "source": [
        "### 修改 Chat 類別"
      ],
      "metadata": {
        "id": "TDZw8XKYy4fN"
      }
    },
    {
      "cell_type": "code",
      "source": [
        "class Chat:\n",
        "    def __init__(self, client, **kwargs):\n",
        "        self._client = client\n",
        "        self._last_id = kwargs.pop('last_id', None)\n",
        "        self.tools = [] # 預設沒有使用工具\n",
        "        self._commands = kwargs.pop('commands', [])\n",
        "\n",
        "    def find_tool_index(self, tool_type):\n",
        "        for i, tool in enumerate(self.tools):\n",
        "            if tool['type'] == tool_type: return i\n",
        "        return -1\n",
        "\n",
        "    def _get_prompt(self):\n",
        "        prompt = ''\n",
        "        for command in self._commands:\n",
        "            idx = self.find_tool_index(command.tool_name)\n",
        "            if idx != -1:\n",
        "                prompt += f'{command.icon}'\n",
        "        prompt = f'({prompt})>>> ' if prompt else '>>> '\n",
        "        return prompt\n",
        "\n",
        "    def _process_command(self, cmd):\n",
        "        for command in self._commands:\n",
        "            if command.handle_command(self, cmd):\n",
        "                return True\n",
        "        return False\n",
        "\n",
        "    def get_reply_text(self, msg, **kwargs) -> str:\n",
        "        instructions = kwargs.pop('instructions', '使用繁體中文')\n",
        "        model = kwargs.pop('model', 'gpt-4.1-nano')\n",
        "        stream = kwargs.pop('stream', False)\n",
        "        try:\n",
        "            response = self._client.responses.create(\n",
        "                instructions=instructions,\n",
        "                model=model,\n",
        "                input=msg,\n",
        "                stream=True, # 都以串流方式處理，簡化程式邏輯\n",
        "                previous_response_id=self._last_id, # 串接回應\n",
        "                **kwargs\n",
        "            )\n",
        "            for event in response:\n",
        "                if event.type == 'response.output_text.delta':\n",
        "                    if stream: # 串流模式生成片段內容\n",
        "                        yield event.delta\n",
        "                elif event.type == 'response.completed':\n",
        "                    self._last_id = event.response.id # 記錄識別碼\n",
        "                    if not stream: # 非串流生成完整內容\n",
        "                        yield event.response.output_text\n",
        "        except openai.APIError as err:\n",
        "            print(f'Error:{err.body[\"message\"]}', file=sys.stderr)\n",
        "            return ''\n",
        "\n",
        "    def loop(self, **kwargs) -> None:\n",
        "        print(\"直接按 ↵ 可結束對話\")\n",
        "        while True:\n",
        "            user_msg = input(self._get_prompt())\n",
        "            if not user_msg.strip(): break # 直接 ↵ 就結束\n",
        "            if self._process_command(user_msg):\n",
        "                continue # 指令不需回覆，回頭讓使用者輸入\n",
        "            text = ''\n",
        "            display_handle = display(text, display_id=True)\n",
        "            for reply in self.get_reply_text(\n",
        "                user_msg,\n",
        "                tools=self.tools, # 傳入要使用的工具\n",
        "                **kwargs\n",
        "            ):\n",
        "                text += reply\n",
        "                display_handle.update(Markdown(text))\n",
        "\n",
        "    def save(self, filename) -> None:\n",
        "        with open(filename, 'wb') as f:\n",
        "            pickle.dump(\n",
        "                {\n",
        "                    'last_id': self._last_id,\n",
        "                    'tools': self.tools,\n",
        "                    'commands': self._commands\n",
        "                },\n",
        "                f\n",
        "            )\n",
        "\n",
        "    def load(self, filename) -> None:\n",
        "        with open(filename, 'rb') as f:\n",
        "            data = pickle.load(f)\n",
        "            self._last_id = data['last_id']\n",
        "            self.tools = data['tools']\n",
        "            self._commands = data['commands']\n",
        "\n",
        "    def show_thread(self):\n",
        "        if not self._last_id: return\n",
        "        inputs = client.responses.input_items.list(self._last_id)\n",
        "        response = client.responses.retrieve(self._last_id)\n",
        "        for item in inputs.data[::-1]:\n",
        "            prompt = \">>> \" if item.role == 'user' else ''\n",
        "            for content in item.content:\n",
        "                print(f'{prompt}{content.text}')\n",
        "        print(response.output_text)\n",
        "\n",
        "    def delete_thread(self):\n",
        "        if not self._last_id: return\n",
        "        last_id = self._last_id\n",
        "        while last_id:\n",
        "            response = client.responses.retrieve(last_id)\n",
        "            last_id, curr_id = (\n",
        "                response.previous_response_id,\n",
        "                last_id\n",
        "            )\n",
        "            client.responses.delete(curr_id)\n",
        "        self._last_id = None"
      ],
      "metadata": {
        "id": "DaocavtKlc6z"
      },
      "execution_count": null,
      "outputs": []
    },
    {
      "cell_type": "markdown",
      "source": [
        "### 建立處理內建搜尋工具指令的類別\n"
      ],
      "metadata": {
        "id": "Q9LcAjcfe0Hv"
      }
    },
    {
      "cell_type": "code",
      "source": [
        "class WebSearchCommand(BaseComand):\n",
        "    def __init__(self):\n",
        "        super().__init__(\n",
        "            '/w',\n",
        "            'web_search_preview',\n",
        "            '🌐'\n",
        "        )\n",
        "\n",
        "    def handle_command(self, chat, cmd):\n",
        "        if not super().handle_command(chat, cmd):\n",
        "            return False\n",
        "        idx = chat.find_tool_index(self.tool_name)\n",
        "        if idx == -1:\n",
        "            chat.tools.append({\n",
        "                'type': self.tool_name\n",
        "            })\n",
        "        else:\n",
        "            chat.tools.pop(idx)\n",
        "        return True"
      ],
      "metadata": {
        "id": "2ot8wM7nezYE"
      },
      "execution_count": null,
      "outputs": []
    },
    {
      "cell_type": "code",
      "source": [
        "chat = Chat(client, commands=[WebSearchCommand()])\n",
        "chat.loop(\n",
        "    model='gpt-4.1-mini',\n",
        "    stream=True\n",
        ")\n",
        "chat.save('chat.pkl')"
      ],
      "metadata": {
        "id": "OKUCR1vSua34"
      },
      "execution_count": null,
      "outputs": []
    },
    {
      "cell_type": "code",
      "source": [
        "chat1 = Chat(client)\n",
        "chat1.load('chat.pkl')\n",
        "chat1.loop(\n",
        "    model='gpt-4.1-mini',\n",
        "    stream=True\n",
        ")"
      ],
      "metadata": {
        "id": "WEYmlzDxVh8m"
      },
      "execution_count": null,
      "outputs": []
    },
    {
      "cell_type": "code",
      "source": [
        "chat1.delete_thread()"
      ],
      "metadata": {
        "id": "yemUKpA7cMxk"
      },
      "execution_count": null,
      "outputs": []
    },
    {
      "cell_type": "markdown",
      "source": [
        "## 4-3 使用內建檔案檢索 RAG 工具"
      ],
      "metadata": {
        "id": "M2tAoeHrvjBA"
      }
    },
    {
      "cell_type": "markdown",
      "source": [
        "### RAG 簡介"
      ],
      "metadata": {
        "id": "6v9F__DcNaQm"
      }
    },
    {
      "cell_type": "markdown",
      "source": [
        "### 上傳檔案進行 RAG"
      ],
      "metadata": {
        "id": "Yif6Dlv8NcDv"
      }
    },
    {
      "cell_type": "markdown",
      "source": [
        "- 《個人資料保護法》網址：https://reurl.cc/g6661X\n",
        "- 《通訊保障及監察法》網址：https://reurl.cc/5davLv"
      ],
      "metadata": {
        "id": "6DzIyNcDww77"
      }
    },
    {
      "cell_type": "markdown",
      "source": [
        "### 使用內建的檔案檢索工具"
      ],
      "metadata": {
        "id": "qmukiUx3NlU3"
      }
    },
    {
      "cell_type": "code",
      "source": [
        "vector_store_id = \"vs_68245fe8eff081919422d080954e2225\""
      ],
      "metadata": {
        "id": "SYk9l1yUEZLO"
      },
      "execution_count": null,
      "outputs": []
    },
    {
      "cell_type": "code",
      "source": [
        "response = client.responses.create(\n",
        "    model=\"gpt-4.1-nano\",\n",
        "    input=\"在便利商店記下顧客報的會員電話號碼打給他有犯法嗎？\",\n",
        "    tools=[{\n",
        "        \"type\": \"file_search\",\n",
        "        \"vector_store_ids\": [vector_store_id]\n",
        "    }]\n",
        ")\n",
        "\n",
        "display(Markdown(response.output_text))"
      ],
      "metadata": {
        "id": "3xl1sXNxszve"
      },
      "execution_count": null,
      "outputs": []
    },
    {
      "cell_type": "code",
      "source": [
        "pprint(response)"
      ],
      "metadata": {
        "id": "Uo_c-H84Bn-E"
      },
      "execution_count": null,
      "outputs": []
    },
    {
      "cell_type": "code",
      "source": [
        "response = client.responses.create(\n",
        "    model=\"gpt-4.1-nano\",\n",
        "    input=[\n",
        "        {\n",
        "            'role': 'user',\n",
        "            'content': [\n",
        "                {\n",
        "                    'type': 'input_file',\n",
        "                    'file_id': \"file-WhDZWsm4T5T8PaWFdcPnvt\"\n",
        "                },\n",
        "                {\n",
        "                    'type': 'input_text',\n",
        "                    'text': '在便利商店記下顧客報的會員'\\\n",
        "                            '電話號碼打給他有犯法嗎？'\n",
        "                }\n",
        "            ]\n",
        "        }\n",
        "    ]\n",
        ")\n",
        "\n",
        "display(Markdown(response.output_text))"
      ],
      "metadata": {
        "id": "JxpyaeSUyS8Z"
      },
      "execution_count": null,
      "outputs": []
    },
    {
      "cell_type": "code",
      "source": [
        "pprint(response.usage)"
      ],
      "metadata": {
        "id": "Y8HCPEw_ygSN"
      },
      "execution_count": null,
      "outputs": []
    },
    {
      "cell_type": "markdown",
      "source": [
        "### 查看檢索結果"
      ],
      "metadata": {
        "id": "ddpPtbcio-Oz"
      }
    },
    {
      "cell_type": "code",
      "source": [
        "response = client.responses.create(\n",
        "    model=\"gpt-4.1-nano\",\n",
        "    input=\"在便利商店記下顧客報的會員電話號碼打給他有犯法嗎？\",\n",
        "    tools=[{\n",
        "        \"type\": \"file_search\",\n",
        "        \"vector_store_ids\": [vector_store_id],\n",
        "    }],\n",
        "    include=[\"file_search_call.results\"]\n",
        ")\n",
        "pprint(response)"
      ],
      "metadata": {
        "id": "DKRr_1N5vwd5"
      },
      "execution_count": null,
      "outputs": []
    },
    {
      "cell_type": "code",
      "source": [
        "def show_file_search_results(response):\n",
        "    if response.output[0].type != 'file_search_call': return\n",
        "    results = response.output[0].results\n",
        "    if not results: return # 叫用 API 時沒有指定 include 參數\n",
        "    for i, result in enumerate(results, start=1):\n",
        "        display(Markdown('---'))\n",
        "        print(f'{i}. {result.filename}({result.score})')\n",
        "        display(Markdown('---'))\n",
        "        display(Markdown(result.text))\n",
        "\n",
        "show_file_search_results(response)"
      ],
      "metadata": {
        "id": "cd23DSxa2_HO"
      },
      "execution_count": null,
      "outputs": []
    },
    {
      "cell_type": "code",
      "source": [
        "response = client.responses.create(\n",
        "    model=\"gpt-4.1-nano\",\n",
        "    input=\"在便利商店記下顧客報的會員電話號碼打給他有犯法嗎？\",\n",
        "    tools=[{\n",
        "        \"type\": \"file_search\",\n",
        "        \"vector_store_ids\": [vector_store_id],\n",
        "    }],\n",
        "    include=[\"file_search_call.results\"],\n",
        "    stream=True\n",
        ")\n",
        "\n",
        "for event in response:\n",
        "    pprint(event)"
      ],
      "metadata": {
        "id": "3xHSEInC2iaL"
      },
      "execution_count": null,
      "outputs": []
    },
    {
      "cell_type": "markdown",
      "source": [
        "### 限制檢索筆數"
      ],
      "metadata": {
        "id": "kxm48D9XpSq-"
      }
    },
    {
      "cell_type": "code",
      "source": [
        "response = client.responses.create(\n",
        "    model=\"gpt-4.1-nano\",\n",
        "    input=\"在便利商店記下顧客報的會員電話號碼打給他有犯法嗎？\",\n",
        "    tools=[{\n",
        "        \"type\": \"file_search\",\n",
        "        \"vector_store_ids\": [vector_store_id],\n",
        "        \"max_num_results\": 3\n",
        "    }],\n",
        "    include=[\"file_search_call.results\"]\n",
        ")\n",
        "\n",
        "show_file_search_results(response)"
      ],
      "metadata": {
        "id": "3--_xTVA5BDR"
      },
      "execution_count": null,
      "outputs": []
    },
    {
      "cell_type": "code",
      "source": [
        "display(Markdown(response.output_text))"
      ],
      "metadata": {
        "id": "H7BajFV6C8Z6"
      },
      "execution_count": null,
      "outputs": []
    },
    {
      "cell_type": "code",
      "source": [
        "pprint(response.usage)"
      ],
      "metadata": {
        "id": "ZjWk0OyKMFLG"
      },
      "execution_count": null,
      "outputs": []
    },
    {
      "cell_type": "markdown",
      "source": [
        "### 限制相似度"
      ],
      "metadata": {
        "id": "zUA2596DpfIJ"
      }
    },
    {
      "cell_type": "code",
      "source": [
        "response = client.responses.create(\n",
        "    model=\"gpt-4.1-nano\",\n",
        "    input=\"在便利商店記下顧客報的會員電話號碼打給他有犯法嗎？\",\n",
        "    tools=[{\n",
        "        \"type\": \"file_search\",\n",
        "        \"vector_store_ids\": [vector_store_id],\n",
        "        \"ranking_options\": {\n",
        "            \"score_threshold\": 0.5\n",
        "        }\n",
        "    }],\n",
        "    include=[\"file_search_call.results\"]\n",
        ")\n",
        "\n",
        "for result in response.output[0].results:\n",
        "    print(result.score)"
      ],
      "metadata": {
        "id": "qs6-RdySOFi_"
      },
      "execution_count": null,
      "outputs": []
    },
    {
      "cell_type": "code",
      "source": [
        "show_file_search_results(response)"
      ],
      "metadata": {
        "id": "R5tuRmRBbbLP"
      },
      "execution_count": null,
      "outputs": []
    },
    {
      "cell_type": "markdown",
      "source": [
        "### 檔案檢索工具的計費方式"
      ],
      "metadata": {
        "id": "9IjuYcC6Qf4R"
      }
    },
    {
      "cell_type": "markdown",
      "source": [
        "## 4-4 利用程式碼動態管理要檢索的檔案"
      ],
      "metadata": {
        "id": "4yjCz4ynQixk"
      }
    },
    {
      "cell_type": "code",
      "source": [
        "# 無線鍵盤使用手冊\n",
        "file1_url = \"https://coolermaster.egnyte.com/dd/4pPb6Srybx/\"\n",
        "# 電競耳機使用手冊\n",
        "file2_url = \"https://coolermaster.egnyte.com/dd/BtL7gG2IW6/\""
      ],
      "metadata": {
        "id": "3cp9h7YCREK-"
      },
      "execution_count": null,
      "outputs": []
    },
    {
      "cell_type": "markdown",
      "source": [
        "Files API 裡面 file 參數可以是字串、位元組序組、或是開啟檔案得到的物件，你可以用 BytesIO 來模擬檔案物件，這樣做的好處就是可以加上檔名，像是：\n",
        "\n",
        "```python\n",
        "file = BytesIO(response.content)\n",
        "file.name = fialename\n",
        "```\n",
        "\n",
        "Files API 提供一個簡便的替代方案，可以用 (檔名，檔案內容) 自動幫你建立 BytesIO 物件。\n"
      ],
      "metadata": {
        "id": "zRKporoZhF4H"
      }
    },
    {
      "cell_type": "markdown",
      "source": [
        "### 動態上傳檔案"
      ],
      "metadata": {
        "id": "qWcInLIyrz9w"
      }
    },
    {
      "cell_type": "code",
      "source": [
        "import requests\n",
        "import os\n",
        "from io import BytesIO\n",
        "\n",
        "def upload_file(file_path):\n",
        "    try:\n",
        "        if (file_path.startswith('http://')\n",
        "            or file_path.startswith('https://')):\n",
        "            response = requests.get(file_path)\n",
        "            filename = response.headers.get(\n",
        "                'content-disposition',\n",
        "                None\n",
        "            )\n",
        "            if filename:\n",
        "                filename = filename.split('filename=')[-1]\n",
        "                filename = filename.strip('\\'\"')\n",
        "            else:\n",
        "                filename = file_path.split('/')[-1]\n",
        "            response = client.files.create(\n",
        "                file=(filename, response.content),\n",
        "                purpose='user_data'\n",
        "            )\n",
        "        else:\n",
        "            with open(file_path, 'rb') as file:\n",
        "                response = client.files.create(\n",
        "                    file=file,\n",
        "                    purpose='user_data'\n",
        "                )\n",
        "    except:\n",
        "        return None\n",
        "    return response.id"
      ],
      "metadata": {
        "id": "FBdtALv4DAyF"
      },
      "execution_count": null,
      "outputs": []
    },
    {
      "cell_type": "code",
      "source": [
        "file1_id = upload_file(file1_url)\n",
        "print(file1_id)"
      ],
      "metadata": {
        "id": "DunzLalkNikE"
      },
      "execution_count": null,
      "outputs": []
    },
    {
      "cell_type": "markdown",
      "source": [
        "### 建立向量儲存區同時加入檔案"
      ],
      "metadata": {
        "id": "VnfU-UDJruOm"
      }
    },
    {
      "cell_type": "code",
      "source": [
        "vector_store = client.vector_stores.create(\n",
        "    name=\"電腦專家\",\n",
        "    file_ids=[file1_id],\n",
        "    chunking_strategy={\n",
        "        'type': 'static', # 預設是 'auto'\n",
        "        'static': {\n",
        "            'chunk_overlap_tokens': 400,\n",
        "            'max_chunk_size_tokens': 800\n",
        "        }\n",
        "    }\n",
        ")"
      ],
      "metadata": {
        "id": "yrM0AFYyLCCP"
      },
      "execution_count": null,
      "outputs": []
    },
    {
      "cell_type": "code",
      "source": [
        "print(vector_store.id)"
      ],
      "metadata": {
        "id": "gD6K9GoZLD3x"
      },
      "execution_count": null,
      "outputs": []
    },
    {
      "cell_type": "code",
      "source": [
        "response = client.responses.create(\n",
        "    model=\"gpt-4.1-nano\",\n",
        "    input=\"我的鍵盤要如何透過藍牙連線？\",\n",
        "    tools=[{\n",
        "        \"type\": \"file_search\",\n",
        "        \"vector_store_ids\": [vector_store.id],\n",
        "        \"max_num_results\": 3\n",
        "    }],\n",
        "    include=[\"file_search_call.results\"]\n",
        ")\n",
        "\n",
        "print(response.output_text)"
      ],
      "metadata": {
        "id": "PTtNsOWoN7Jh"
      },
      "execution_count": null,
      "outputs": []
    },
    {
      "cell_type": "markdown",
      "source": [
        "### 動態加入檔案到向量資料庫"
      ],
      "metadata": {
        "id": "zXGXNfhjrhwp"
      }
    },
    {
      "cell_type": "code",
      "source": [
        "client.vector_stores.files.create(\n",
        "    vector_store_id=vector_store.id,\n",
        "    file_id=upload_file(file2_url)\n",
        ")"
      ],
      "metadata": {
        "id": "IklCMGLMjBGZ"
      },
      "execution_count": null,
      "outputs": []
    },
    {
      "cell_type": "code",
      "source": [
        "response = client.responses.create(\n",
        "    model=\"gpt-4.1-nano\",\n",
        "    input=\"我耳機上的麥克風可以拆掉嗎？\",\n",
        "    tools=[{\n",
        "        \"type\": \"file_search\",\n",
        "        \"vector_store_ids\": [vector_store.id],\n",
        "        \"max_num_results\": 3\n",
        "    }],\n",
        "    include=[\"file_search_call.results\"]\n",
        ")\n",
        "\n",
        "print(response.output_text)"
      ],
      "metadata": {
        "id": "x4_EAdYeq2Ke"
      },
      "execution_count": null,
      "outputs": []
    },
    {
      "cell_type": "markdown",
      "source": [
        "### 顯示向量資料庫內的檔案"
      ],
      "metadata": {
        "id": "kpb7UmJSqtjq"
      }
    },
    {
      "cell_type": "code",
      "source": [
        "response = client.vector_stores.files.list(vector_store.id)\n",
        "pprint(response)"
      ],
      "metadata": {
        "id": "Idc9W-nXFr5O"
      },
      "execution_count": null,
      "outputs": []
    },
    {
      "cell_type": "code",
      "source": [
        "for i, vector_file in enumerate(response.data):\n",
        "    file = client.files.retrieve(vector_file.id)\n",
        "    print(f'{i + 1}:{file.filename}')\n",
        "    print(f'  {vector_file.id}')"
      ],
      "metadata": {
        "id": "6rylKAo2Hcen"
      },
      "execution_count": null,
      "outputs": []
    },
    {
      "cell_type": "markdown",
      "source": [
        "### 移除向量儲存區"
      ],
      "metadata": {
        "id": "tKbLlJr2qigS"
      }
    },
    {
      "cell_type": "code",
      "source": [
        "def delete_vector_store(vector_store_id):\n",
        "    response = client.vector_stores.files.list(vector_store_id)\n",
        "    for vector_file in response.data:\n",
        "        client.files.delete(vector_file.id)\n",
        "    client.vector_stores.delete(vector_store_id)"
      ],
      "metadata": {
        "id": "dvWvgaeuHrb3"
      },
      "execution_count": null,
      "outputs": []
    },
    {
      "cell_type": "code",
      "source": [
        "delete_vector_store(vector_store.id)"
      ],
      "metadata": {
        "id": "cduzDi5YlIHg"
      },
      "execution_count": null,
      "outputs": []
    },
    {
      "cell_type": "markdown",
      "source": [
        "## 4-5 幫簡易聊天程式加上檔案檢索功能"
      ],
      "metadata": {
        "id": "ag5kqGmenLGK"
      }
    },
    {
      "cell_type": "markdown",
      "source": [
        "### 設計處理檔案檢索指令的類別"
      ],
      "metadata": {
        "id": "vrBtERN72zlX"
      }
    },
    {
      "cell_type": "code",
      "source": [
        "class FileSearchCommand(BaseComand):\n",
        "    def __init__(self, vector_store_id=None):\n",
        "        super().__init__(\n",
        "            '/f',\n",
        "            'file_search',\n",
        "            '🔍'\n",
        "        )\n",
        "        self.vector_store_id = vector_store_id\n",
        "\n",
        "    def handle_command(self, chat, cmd):\n",
        "        if not super().handle_command(chat, cmd):\n",
        "            return False\n",
        "        idx = chat.find_tool_index(self.tool_name)\n",
        "        if len(cmd) < 4: # /f[.]，不是冒號加檔名/網址\n",
        "            if self.vector_store_id == None:\n",
        "                print('請先使用 /f:[路徑|網址]上傳檔案')\n",
        "                return True # 沒有向量資料庫無法切換\n",
        "            turn_on = (idx == -1) # 切換開/關檔案檢索\n",
        "        else: # /f:檔名|網址，上傳檔案並開啟檢索功能\n",
        "            turn_on = True\n",
        "            file_path = cmd[3:]\n",
        "            file_id= upload_file(file_path)\n",
        "            if not file_id:\n",
        "                print(f'無法上傳檔案：{file_path}')\n",
        "                return True\n",
        "            if self.vector_store_id == None:\n",
        "                vector_store = client.vector_stores.create(\n",
        "                    name=\"temp\",\n",
        "                    file_ids=[file_id],\n",
        "                )\n",
        "                self.vector_store_id = vector_store.id\n",
        "            else:\n",
        "                client.vector_stores.files.create(\n",
        "                    self.vector_store_id,\n",
        "                    file_id=file_id\n",
        "                )\n",
        "        if turn_on:\n",
        "            chat.tools.append({\n",
        "                'type': self.tool_name,\n",
        "                'vector_store_ids': [self.vector_store_id]\n",
        "            })\n",
        "        else:\n",
        "            chat.tools.pop(idx)\n",
        "        return True\n",
        "\n",
        "    def remove_vector_store(self, chat):\n",
        "        if self.vector_store_id == None: return\n",
        "        idx = chat.find_tool_index('file_search')\n",
        "        if idx: chat.tools.pop(idx)\n",
        "        response = client.vector_stores.files.list(\n",
        "            self.vector_store_id\n",
        "        )\n",
        "        for vector_file in response.data:\n",
        "            client.files.delete(vector_file.id)\n",
        "        client.vector_stores.delete(self.vector_store_id)"
      ],
      "metadata": {
        "id": "Znd5ev4v3DZP"
      },
      "execution_count": null,
      "outputs": []
    },
    {
      "cell_type": "markdown",
      "source": [
        "### 測試具備網頁搜尋與檔案檢索功能的聊天程式"
      ],
      "metadata": {
        "id": "HOC36VBXz6GJ"
      }
    },
    {
      "cell_type": "markdown",
      "source": [
        "- 無線鍵盤使用手冊：\n",
        "    https://coolermaster.egnyte.com/dd/4pPb6Srybx/\n",
        "- 電競耳機使用手冊：\n",
        "    https://coolermaster.egnyte.com/dd/BtL7gG2IW6/"
      ],
      "metadata": {
        "id": "Rjd4HxcqSa9l"
      }
    },
    {
      "cell_type": "markdown",
      "source": [
        "多工具情況下，都會有偏重檢索檔案的傾向，但是gpt-4.1-mini 明顯比 gpt-4o-mini 好一些，gpt-4.1 似乎也沒有比較厲害："
      ],
      "metadata": {
        "id": "IT6aTl03XRH_"
      }
    },
    {
      "cell_type": "code",
      "source": [
        "file_search_comand = FileSearchCommand()\n",
        "\n",
        "chat = Chat(\n",
        "    client,\n",
        "    commands=[\n",
        "        file_search_comand,\n",
        "        WebSearchCommand()\n",
        "    ],\n",
        ")\n",
        "chat.loop(\n",
        "    model='gpt-4.1-mini',\n",
        "    stream=True\n",
        ")\n",
        "chat.save('test.db')"
      ],
      "metadata": {
        "id": "Vb3MmqkQX37G"
      },
      "execution_count": null,
      "outputs": []
    },
    {
      "cell_type": "code",
      "source": [
        "chat2 = Chat(client)\n",
        "chat2.load('test.db')\n",
        "chat2.tools"
      ],
      "metadata": {
        "id": "EAcgk1qpWwab"
      },
      "execution_count": null,
      "outputs": []
    },
    {
      "cell_type": "code",
      "source": [
        "chat2.loop(\n",
        "    model='gpt-4.1-mini',\n",
        "    stream=True\n",
        ")"
      ],
      "metadata": {
        "id": "BJ3mmoNdba0C"
      },
      "execution_count": null,
      "outputs": []
    },
    {
      "cell_type": "code",
      "source": [
        "file_search_comand.remove_vector_store(chat2)"
      ],
      "metadata": {
        "id": "d2Fbc_FNbg42"
      },
      "execution_count": null,
      "outputs": []
    },
    {
      "cell_type": "markdown",
      "source": [
        "### 加上可以檢視工具執行結果的功能"
      ],
      "metadata": {
        "id": "dTAC8jYk_UDb"
      }
    },
    {
      "cell_type": "code",
      "source": [
        "class BaseComand:\n",
        "    def __init__(self, command, tool_name, icon, verbose=False):\n",
        "        self.command = command      # 指令\n",
        "        self.tool_name = tool_name  # 工具名稱\n",
        "        self.icon = icon            # 工具圖示字元\n",
        "        self.verbose = verbose      # 啟用詳細輸出\n",
        "        self.extra_args = {}        # 要額外送給模型的參數\n",
        "\n",
        "    def handle_command(self, chat, cmd):\n",
        "        # 不是正確的指令開頭（空字串會是 True）\n",
        "        if not cmd.startswith(self.command):\n",
        "            return False\n",
        "        return True\n",
        "\n",
        "    def handle_event(self, chat, stream, event):\n",
        "        return None # 預設不處理交給下一個指令處理器"
      ],
      "metadata": {
        "id": "-mDRSmw6_vly"
      },
      "execution_count": null,
      "outputs": []
    },
    {
      "cell_type": "code",
      "source": [
        "class WebSearchCommand(BaseComand):\n",
        "    def __init__(self, verbose=False):\n",
        "        super().__init__(\n",
        "            '/w',\n",
        "            'web_search_preview',\n",
        "            '🌐',\n",
        "            verbose\n",
        "        )\n",
        "\n",
        "    def handle_command(self, chat, cmd):\n",
        "        if not super().handle_command(chat, cmd):\n",
        "            return False\n",
        "        idx = chat.find_tool_index(self.tool_name)\n",
        "        if idx == -1:\n",
        "            chat.tools.append({\n",
        "                'type': self.tool_name\n",
        "            })\n",
        "        else:\n",
        "            chat.tools.pop(idx)\n",
        "        return True\n",
        "\n",
        "    def show_search_results(self, response):\n",
        "        if response.output[0].type != \"web_search_call\":\n",
        "            return\n",
        "        content = response.output[1].content[0]\n",
        "        for i, annotaion in enumerate(\n",
        "            content.annotations, start=1\n",
        "        ):\n",
        "            print(f'{i}. {annotaion.title}')\n",
        "            print(f'   {unquote(annotaion.url)}')\n",
        "\n",
        "    def handle_event(self, chat, stream, event):\n",
        "        if not self.verbose: return None\n",
        "        if event.type == 'response.completed':\n",
        "            self.show_search_results(event.response)\n",
        "        return None"
      ],
      "metadata": {
        "id": "JgXxEfcoAOWV"
      },
      "execution_count": null,
      "outputs": []
    },
    {
      "cell_type": "code",
      "source": [
        "class FileSearchCommand(BaseComand):\n",
        "    def __init__(self, vector_store_id=None, verbose=False):\n",
        "        super().__init__(\n",
        "            '/f',\n",
        "            'file_search',\n",
        "            '🔍',\n",
        "            verbose\n",
        "        )\n",
        "        self.vector_store_id = vector_store_id\n",
        "\n",
        "    def handle_command(self, chat, cmd):\n",
        "        if not super().handle_command(chat, cmd):\n",
        "            return False\n",
        "        idx = chat.find_tool_index(self.tool_name)\n",
        "        if len(cmd) < 4: # /f[.]，不是冒號加檔名/網址\n",
        "            if self.vector_store_id == None:\n",
        "                print('請先使用 /f:[路徑|網址]上傳檔案')\n",
        "                return True # 沒有向量資料庫無法切換\n",
        "            turn_on = (idx == -1) # 切換開/關檔案檢索\n",
        "        else: # /f:檔名|網址，上傳檔案並開啟檢索功能\n",
        "            turn_on = True\n",
        "            file_path = cmd[3:]\n",
        "            file_id= upload_file(file_path)\n",
        "            if not file_id:\n",
        "                print(f'無法上傳檔案：{file_path}')\n",
        "                return True\n",
        "            if self.vector_store_id == None:\n",
        "                vector_store = client.vector_stores.create(\n",
        "                    name=\"temp\",\n",
        "                    file_ids=[file_id],\n",
        "                )\n",
        "                self.vector_store_id = vector_store.id\n",
        "            else:\n",
        "                client.vector_stores.files.create(\n",
        "                    self.vector_store_id,\n",
        "                    file_id=file_id\n",
        "                )\n",
        "        if turn_on:\n",
        "            chat.tools.append({\n",
        "                'type': self.tool_name,\n",
        "                'vector_store_ids': [self.vector_store_id]\n",
        "            })\n",
        "            self.extra_args = {\n",
        "                'include': ['file_search_call.results']\n",
        "            }\n",
        "        else:\n",
        "            chat.tools.pop(idx)\n",
        "            self.extra_args = {}\n",
        "        return True\n",
        "\n",
        "    def remove_vector_store(self, chat):\n",
        "        if self.vector_store_id == None: return\n",
        "        idx = chat.find_tool_index('file_search')\n",
        "        if idx: chat.tools.pop(idx)\n",
        "        response = client.vector_stores.files.list(\n",
        "            self.vector_store_id\n",
        "        )\n",
        "        for vector_file in response.data:\n",
        "            client.files.delete(vector_file.id)\n",
        "        client.vector_stores.delete(self.vector_store_id)\n",
        "\n",
        "    def show_file_search_results(self, response):\n",
        "        if response.output[0].type != 'file_search_call':\n",
        "            return\n",
        "        results = response.output[0].results\n",
        "        if not results: return\n",
        "        for i, result in enumerate(results, start=1):\n",
        "            display(Markdown('---'))\n",
        "            print(f'{i}. {result.filename}({result.score})')\n",
        "            display(Markdown('---'))\n",
        "            display(Markdown(result.text))\n",
        "\n",
        "    def handle_event(self, chat, stream, event):\n",
        "        if not self.verbose: return None\n",
        "        if event.type == 'response.completed':\n",
        "            self.show_file_search_results(event.response)\n",
        "        return None"
      ],
      "metadata": {
        "id": "MB5meaUaBdK_"
      },
      "execution_count": null,
      "outputs": []
    },
    {
      "cell_type": "code",
      "source": [
        "class Chat:\n",
        "    def __init__(self, client, **kwargs):\n",
        "        self._client = client\n",
        "        self._last_id = kwargs.pop('last_id', None)\n",
        "        self.tools = [] # 預設沒有使用工具\n",
        "        self._commands = kwargs.pop('commands', [])\n",
        "\n",
        "    def find_tool_index(self, tool_type):\n",
        "        for i, tool in enumerate(self.tools):\n",
        "            if tool['type'] == tool_type: return i\n",
        "        return -1\n",
        "\n",
        "    def _get_prompt(self):\n",
        "        prompt = ''\n",
        "        for command in self._commands:\n",
        "            idx = self.find_tool_index(command.tool_name)\n",
        "            if idx != -1:\n",
        "                prompt += f'{command.icon}'\n",
        "        prompt = f'({prompt})>>> ' if prompt else '>>> '\n",
        "        return prompt\n",
        "\n",
        "    def _process_command(self, cmd):\n",
        "        for command in self._commands:\n",
        "            if command.handle_command(self, cmd):\n",
        "                return True\n",
        "        return False\n",
        "\n",
        "    def get_reply_text(self, msg, **kwargs) -> str:\n",
        "        instructions = kwargs.pop('instructions', '使用繁體中文')\n",
        "        model = kwargs.pop('model', 'gpt-4.1-nano')\n",
        "        stream = kwargs.pop('stream', False)\n",
        "        for command in self._commands:\n",
        "            kwargs.update(command.extra_args)\n",
        "        try:\n",
        "            response = self._client.responses.create(\n",
        "                instructions=instructions,\n",
        "                model=model,\n",
        "                input=msg,\n",
        "                stream=True, # 都以串流方式處理，簡化程式邏輯\n",
        "                previous_response_id=self._last_id, # 串接回應\n",
        "                **kwargs\n",
        "            )\n",
        "            for event in response:\n",
        "                for command in self._commands:\n",
        "                    result = command.handle_event(\n",
        "                        self, stream, event\n",
        "                    )\n",
        "                    if result: break\n",
        "                if event.type == 'response.output_text.delta':\n",
        "                    if stream: # 串流模式生成片段內容\n",
        "                        yield event.delta\n",
        "                elif event.type == 'response.completed':\n",
        "                    self._last_id = event.response.id # 記錄識別碼\n",
        "                    if not stream: # 非串流生成完整內容\n",
        "                        yield event.response.output_text\n",
        "        except openai.APIError as err:\n",
        "            print(f'Error:{err.body[\"message\"]}', file=sys.stderr)\n",
        "            return ''\n",
        "\n",
        "    def loop(self, **kwargs) -> None:\n",
        "        print(\"直接按 ↵ 可結束對話\")\n",
        "        while True:\n",
        "            user_msg = input(self._get_prompt())\n",
        "            if not user_msg.strip(): break # 直接 ↵ 就結束\n",
        "            if self._process_command(user_msg):\n",
        "                continue # 指令不需回覆，回頭讓使用者輸入\n",
        "            text = ''\n",
        "            display_handle = display(text, display_id=True)\n",
        "            for reply in self.get_reply_text(\n",
        "                user_msg,\n",
        "                tools=self.tools, # 傳入要使用的工具\n",
        "                **kwargs\n",
        "            ):\n",
        "                text += reply\n",
        "                display_handle.update(Markdown(text))\n",
        "\n",
        "    def save(self, filename) -> None:\n",
        "        with open(filename, 'wb') as f:\n",
        "            pickle.dump(\n",
        "                {\n",
        "                    'last_id': self._last_id,\n",
        "                    'tools': self.tools,\n",
        "                    'commands': self._commands\n",
        "                },\n",
        "                f\n",
        "            )\n",
        "\n",
        "    def load(self, filename) -> None:\n",
        "        with open(filename, 'rb') as f:\n",
        "            data = pickle.load(f)\n",
        "            self._last_id = data['last_id']\n",
        "            self.tools = data['tools']\n",
        "            self._commands = data['commands']\n",
        "\n",
        "    def show_thread(self):\n",
        "        if not self._last_id: return\n",
        "        inputs = client.responses.input_items.list(self._last_id)\n",
        "        response = client.responses.retrieve(self._last_id)\n",
        "        for item in inputs.data[::-1]:\n",
        "            prompt = \">>> \" if item.role == 'user' else ''\n",
        "            for content in item.content:\n",
        "                print(f'{prompt}{content.text}')\n",
        "        print(response.output_text)\n",
        "\n",
        "    def delete_thread(self):\n",
        "        if not self._last_id: return\n",
        "        last_id = self._last_id\n",
        "        while last_id:\n",
        "            response = client.responses.retrieve(last_id)\n",
        "            last_id, curr_id = (\n",
        "                response.previous_response_id,\n",
        "                last_id\n",
        "            )\n",
        "            client.responses.delete(curr_id)\n",
        "        self._last_id = None"
      ],
      "metadata": {
        "id": "q5SOj1KJFr6E"
      },
      "execution_count": null,
      "outputs": []
    },
    {
      "cell_type": "code",
      "source": [
        "file_search_comand = FileSearchCommand(verbose=False)\n",
        "\n",
        "chat = Chat(\n",
        "    client,\n",
        "    commands=[\n",
        "        file_search_comand,\n",
        "        WebSearchCommand(verbose=True)\n",
        "    ]\n",
        ")\n",
        "chat.loop(\n",
        "    model='gpt-4.1-mini',\n",
        "    stream=True,\n",
        ")"
      ],
      "metadata": {
        "id": "cCsVV2w-8O0u"
      },
      "execution_count": null,
      "outputs": []
    },
    {
      "cell_type": "code",
      "source": [
        "chat.delete_thread()\n",
        "file_search_comand.remove_vector_store(chat)"
      ],
      "metadata": {
        "id": "w0c0BCsn8hph"
      },
      "execution_count": null,
      "outputs": []
    }
  ]
}