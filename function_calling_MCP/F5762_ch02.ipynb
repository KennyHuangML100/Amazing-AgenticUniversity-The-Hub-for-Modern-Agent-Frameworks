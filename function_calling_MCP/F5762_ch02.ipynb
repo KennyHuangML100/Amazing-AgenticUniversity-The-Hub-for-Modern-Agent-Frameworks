{
  "nbformat": 4,
  "nbformat_minor": 0,
  "metadata": {
    "colab": {
      "provenance": [],
      "toc_visible": true
    },
    "kernelspec": {
      "name": "python3",
      "display_name": "Python 3"
    },
    "language_info": {
      "name": "python"
    }
  },
  "cells": [
    {
      "cell_type": "markdown",
      "source": [
        "# 第 2 章 AI 聊天功能的基礎–Respsones API"
      ],
      "metadata": {
        "id": "L6xyH49EQGqo"
      }
    },
    {
      "cell_type": "code",
      "source": [
        "from google.colab import userdata\n",
        "from rich.pretty import pprint\n",
        "import openai\n",
        "client = openai.OpenAI(api_key=userdata.get(\"OPENAI_API_KEY\"))"
      ],
      "metadata": {
        "id": "n3T8v1yHMiZf"
      },
      "execution_count": null,
      "outputs": []
    },
    {
      "cell_type": "markdown",
      "source": [
        "## 2-1 更換模型--使用推理模型"
      ],
      "metadata": {
        "id": "1yF8_UHJRqOx"
      }
    },
    {
      "cell_type": "code",
      "source": [
        "response = client.responses.create(\n",
        "    model=\"gpt-4.1-nano\",\n",
        "    input=\"3.8 和 3.11 哪一個大？\"\n",
        ")\n",
        "print(response.output_text)"
      ],
      "metadata": {
        "id": "6KQHgPBsSSyY"
      },
      "execution_count": null,
      "outputs": []
    },
    {
      "cell_type": "code",
      "source": [
        "response = client.responses.create(\n",
        "    model=\"o3-mini\",\n",
        "    input=\"3.8 和 3.11 哪一個大？\"\n",
        ")\n",
        "print(response.output_text)"
      ],
      "metadata": {
        "id": "_gBzXS8LTUV4"
      },
      "execution_count": null,
      "outputs": []
    },
    {
      "cell_type": "code",
      "source": [
        "pprint(response)"
      ],
      "metadata": {
        "id": "RAeLl9WLXfoI"
      },
      "execution_count": null,
      "outputs": []
    },
    {
      "cell_type": "markdown",
      "source": [
        "### 調整推理強度"
      ],
      "metadata": {
        "id": "JB4PKbawxUx4"
      }
    },
    {
      "cell_type": "code",
      "source": [
        "logic_problem = \"\"\"\n",
        "C 說他的年齡是以下其中一個：\n",
        "\n",
        "```\n",
        "35 36 38\n",
        "42 45 46\n",
        "51 55 57\n",
        "61 62\n",
        "```\n",
        "\n",
        "他將十位數告訴 A、個位數告訴 B。\n",
        "\n",
        "A 看了這 11 個數後說：『我不知道 C 的年齡, 但我認為 B 也不知道。』\n",
        "\n",
        "B 聽完再看了這 11 個數後說：『原本我並不知道 C 的年齡, 但現在我知道了。』\n",
        "\n",
        "A 聽了 B 這樣說, 再看看這 11 個數, 說：『那我也知道 C 的年齡了。』\n",
        "\n",
        "請問 C 的年齡是？\n",
        "\"\"\""
      ],
      "metadata": {
        "id": "zYYR6Y3FZRQK"
      },
      "execution_count": null,
      "outputs": []
    },
    {
      "cell_type": "code",
      "source": [
        "import time\n",
        "start = time.time()\n",
        "response = client.responses.create(\n",
        "    model=\"o3-mini\",\n",
        "    input=logic_problem,\n",
        "    reasoning={ # 不具推理能力的模型不支援\n",
        "        \"effort\": 'high'\n",
        "    }\n",
        ")\n",
        "end = time.time()\n",
        "\n",
        "print(response.output_text)"
      ],
      "metadata": {
        "id": "A3BbkLNEkkRp"
      },
      "execution_count": null,
      "outputs": []
    },
    {
      "cell_type": "code",
      "source": [
        "print(f\"耗時 {end - start} 秒\")\n",
        "print(response.usage.output_tokens_details.reasoning_tokens)"
      ],
      "metadata": {
        "id": "YXo6e45tk-9m"
      },
      "execution_count": null,
      "outputs": []
    },
    {
      "cell_type": "markdown",
      "source": [
        "### 觀察推理過程"
      ],
      "metadata": {
        "id": "08Knxa3mBP75"
      }
    },
    {
      "cell_type": "markdown",
      "source": [
        "#### 驗證組織"
      ],
      "metadata": {
        "id": "Ajta9E7KvnMc"
      }
    },
    {
      "cell_type": "markdown",
      "source": [
        "要顯示推理細節，需要先[驗證 API 使用者所屬的組織](https://platform.openai.com/settings/organization/general)"
      ],
      "metadata": {
        "id": "SkCnNUcTobSp"
      }
    },
    {
      "cell_type": "markdown",
      "source": [
        "#### 顯示推理過程"
      ],
      "metadata": {
        "id": "V9Yvf3Z_vpyO"
      }
    },
    {
      "cell_type": "code",
      "source": [
        "response = client.responses.create(\n",
        "    model=\"o3-mini\",\n",
        "    input=logic_problem,\n",
        "    reasoning={ # 不具推理能力的模型不支援\n",
        "        \"summary\": 'auto' # auto、concise 或 detailed\n",
        "    }\n",
        ")\n",
        "\n",
        "pprint(response)"
      ],
      "metadata": {
        "id": "gW4zZsQGnvUj"
      },
      "execution_count": null,
      "outputs": []
    },
    {
      "cell_type": "code",
      "source": [
        "print(response.output_text)"
      ],
      "metadata": {
        "id": "xDP_woYW8Zdo"
      },
      "execution_count": null,
      "outputs": []
    },
    {
      "cell_type": "markdown",
      "source": [
        "## 2-2 控制生成結果"
      ],
      "metadata": {
        "id": "kGESYyxD0O_1"
      }
    },
    {
      "cell_type": "markdown",
      "source": [
        "### 控制生成的 token 數量"
      ],
      "metadata": {
        "id": "DyAJiBIb0TSH"
      }
    },
    {
      "cell_type": "code",
      "source": [
        "response = client.responses.create(\n",
        "    model=\"gpt-4.1-nano\",\n",
        "    input=\"你知道什麼是藍眼淚嗎？\",\n",
        "    # 可生成的 token 數量上限，包含推理的用量在內\n",
        "    max_output_tokens=20 # 最少 16\n",
        ")\n",
        "\n",
        "print(response.output_text)"
      ],
      "metadata": {
        "id": "rrGEjz1Arodj"
      },
      "execution_count": null,
      "outputs": []
    },
    {
      "cell_type": "code",
      "source": [
        "pprint(response)"
      ],
      "metadata": {
        "id": "mXHB9AZju2Ax"
      },
      "execution_count": null,
      "outputs": []
    },
    {
      "cell_type": "code",
      "source": [
        "response = client.responses.create(\n",
        "    model=\"o3-mini\",\n",
        "    input=\"3.11 和 3.8 哪個大？\",\n",
        "    max_output_tokens=40\n",
        ")\n",
        "print(response.output_text)\n",
        "pprint(response.usage)"
      ],
      "metadata": {
        "id": "8MiFhn9Wu4sQ"
      },
      "execution_count": null,
      "outputs": []
    },
    {
      "cell_type": "markdown",
      "source": [
        "### 控制回覆內容的變化性--temperature"
      ],
      "metadata": {
        "id": "rdVEIS6S06S1"
      }
    },
    {
      "cell_type": "code",
      "source": [
        "for _ in range(4):\n",
        "    response = client.responses.create(\n",
        "        model=\"gpt-4.1-nano\",\n",
        "        input=\"嗨！\",\n",
        "        # 0~2，溫度越高越活潑、天馬行空，\n",
        "        # 0 表示不滾動，只會選到最高分的 token\n",
        "        temperature=0,\n",
        "    )\n",
        "\n",
        "    print(response.output_text)"
      ],
      "metadata": {
        "id": "yK9FeQNewuIN"
      },
      "execution_count": null,
      "outputs": []
    },
    {
      "cell_type": "code",
      "source": [
        "for _ in range(4):\n",
        "    response = client.responses.create(\n",
        "        model=\"gpt-4.1-nano\",\n",
        "        input=\"嗨！\",\n",
        "        # 溫度設過高會選到奇怪的 token，\n",
        "        # 導致後面接龍一路歪樓\n",
        "        temperature=1.9,\n",
        "        max_output_tokens=100\n",
        "    )\n",
        "\n",
        "    print(response.output_text)"
      ],
      "metadata": {
        "id": "DsllurRcA1lK"
      },
      "execution_count": null,
      "outputs": []
    },
    {
      "cell_type": "markdown",
      "source": [
        "### 控制生成內容的可能性--top_p"
      ],
      "metadata": {
        "id": "QVp0q8mb2s-t"
      }
    },
    {
      "cell_type": "code",
      "source": [
        "for _ in range(4):\n",
        "    response = client.responses.create(\n",
        "        model=\"gpt-4.1-nano\",\n",
        "        input=\"嗨！\",\n",
        "        temperature=1.9,\n",
        "        # 0~1，表示百分比，從分數高的往分數低\n",
        "        # 的多少百分比放入候選池中\n",
        "        top_p=0\n",
        "    )\n",
        "\n",
        "    print(response.output_text)"
      ],
      "metadata": {
        "id": "CK7WDjDAF4Me"
      },
      "execution_count": null,
      "outputs": []
    },
    {
      "cell_type": "code",
      "source": [
        "for _ in range(4):\n",
        "    response = client.responses.create(\n",
        "        model=\"gpt-4.1-nano\",\n",
        "        input=\"嗨！\",\n",
        "        temperature=1.9,\n",
        "        top_p=0.98\n",
        "    )\n",
        "\n",
        "    print(response.output_text)"
      ],
      "metadata": {
        "id": "izPeLMfVIls4"
      },
      "execution_count": null,
      "outputs": []
    },
    {
      "cell_type": "markdown",
      "source": [
        "## 2-3 控制回覆格式--生成 JSON"
      ],
      "metadata": {
        "id": "Ou8UF36L3mg5"
      }
    },
    {
      "cell_type": "code",
      "source": [
        "for _ in range(3):\n",
        "    response = client.responses.create(\n",
        "        model=\"gpt-4.1-nano\",\n",
        "        input=\"台灣最高的山多高\"\n",
        "    )\n",
        "\n",
        "    print(response.output_text)"
      ],
      "metadata": {
        "id": "BfIgzTpqIoLU"
      },
      "execution_count": null,
      "outputs": []
    },
    {
      "cell_type": "markdown",
      "source": [
        "### 生成 JSON 格式"
      ],
      "metadata": {
        "id": "YH1RyHdt39Tj"
      }
    },
    {
      "cell_type": "code",
      "source": [
        "for _ in range(3):\n",
        "    response = client.responses.create(\n",
        "        model=\"gpt-4.1-nano\",\n",
        "        # instructions=\"請用 json 格式回覆\", # 這無效\n",
        "        input=[\n",
        "            # 一定要在 developer 或是 user 訊息中出現 \"json\"\n",
        "            {\"role\": \"developer\", \"content\": \"使用 json 格式\"},\n",
        "            {\"role\": \"user\", \"content\": \"台灣最高的山多高\"}\n",
        "        ],\n",
        "        text={\n",
        "            'format': {\n",
        "                'type': 'json_object'} # 預設為 'text'\n",
        "            }\n",
        "    )\n",
        "\n",
        "    print(response.output_text)"
      ],
      "metadata": {
        "id": "k0vzFRwYLX2C"
      },
      "execution_count": null,
      "outputs": []
    },
    {
      "cell_type": "code",
      "source": [
        "for _ in range(3):\n",
        "    response = client.responses.create(\n",
        "        model=\"gpt-4.1-nano\",\n",
        "        input=[\n",
        "            {\n",
        "                \"role\":\"user\",\n",
        "                \"content\": \"台灣最高的山多高, \"\n",
        "                           \"請以如下 json 格式回覆：\"\n",
        "                           '{\"name\":\"山的名稱\", \"height\":高度}'\n",
        "            },\n",
        "        ],\n",
        "        text={\n",
        "            \"format\": {\n",
        "                'type': 'json_object'\n",
        "            }\n",
        "        }\n",
        "    )\n",
        "\n",
        "    print(response.output_text)"
      ],
      "metadata": {
        "id": "R17gYAODM_5L"
      },
      "execution_count": null,
      "outputs": []
    },
    {
      "cell_type": "markdown",
      "source": [
        "### 使用 Pydantic 標準化 JSON 格式生成步驟"
      ],
      "metadata": {
        "id": "VrU1QTHs4kts"
      }
    },
    {
      "cell_type": "code",
      "source": [
        "from pydantic import BaseModel, Field, ConfigDict"
      ],
      "metadata": {
        "id": "qAM7drOjTEo_"
      },
      "execution_count": null,
      "outputs": []
    },
    {
      "cell_type": "code",
      "source": [
        "class Mountain(BaseModel):\n",
        "    name: str = Field(description='山的名稱')\n",
        "    height: int= Field(description='山的高度')"
      ],
      "metadata": {
        "id": "xwe8zAVaTFup"
      },
      "execution_count": null,
      "outputs": []
    },
    {
      "cell_type": "code",
      "source": [
        "json_schema = Mountain.model_json_schema()\n",
        "pprint(json_schema)"
      ],
      "metadata": {
        "id": "s7PKeqKIUQEo"
      },
      "execution_count": null,
      "outputs": []
    },
    {
      "cell_type": "code",
      "source": [
        "class Mountain(BaseModel):\n",
        "    # 禁止出現不在 properties 清單中的項目\n",
        "    model_config = ConfigDict(extra='forbid')\n",
        "    name: str = Field(description='山的名稱')\n",
        "    height: int= Field(description='山的高度')\n",
        "\n",
        "json_schema = Mountain.model_json_schema()\n",
        "pprint(json_schema)"
      ],
      "metadata": {
        "id": "p74vj4bkUTVb"
      },
      "execution_count": null,
      "outputs": []
    },
    {
      "cell_type": "code",
      "source": [
        "for _ in range(3):\n",
        "    response = client.responses.create(\n",
        "        model = \"gpt-4.1-nano\",\n",
        "        input = \"台灣最高的山多高\",\n",
        "        text = {\n",
        "            \"format\": {\n",
        "                \"type\": \"json_schema\",\n",
        "                \"name\": json_schema[\"title\"],\n",
        "                \"schema\": json_schema\n",
        "            }\n",
        "        }\n",
        "    )\n",
        "\n",
        "    print(response.output_text)"
      ],
      "metadata": {
        "id": "zpFReVOnWzyb"
      },
      "execution_count": null,
      "outputs": []
    },
    {
      "cell_type": "code",
      "source": [
        "mountain = Mountain.model_validate_json(\n",
        "    response.output_text\n",
        ")\n",
        "pprint(mountain)\n",
        "print(mountain.name, mountain.height)"
      ],
      "metadata": {
        "id": "00XgQA2FYtTD"
      },
      "execution_count": null,
      "outputs": []
    },
    {
      "cell_type": "markdown",
      "source": [
        "## 2-4 輸入圖片/檔案當提示"
      ],
      "metadata": {
        "id": "jqL2iOi69tBn"
      }
    },
    {
      "cell_type": "markdown",
      "source": [
        "### 輸入圖片"
      ],
      "metadata": {
        "id": "UKnL6OuN-Jg-"
      }
    },
    {
      "cell_type": "markdown",
      "source": [
        "火車照片：\n",
        "\n",
        "|照片一|照片二|\n",
        "|---|---|\n",
        "|![](https://flagtech.github.io/images/train1.jpeg)|![](https://flagtech.github.io/images/train2.jpeg)|\n",
        "|https://flagtech.github.io/images/train1.jpeg|https://flagtech.github.io/images/train1.jpeg|"
      ],
      "metadata": {
        "id": "cd_SLf5ggrMn"
      }
    },
    {
      "cell_type": "code",
      "source": [
        "photo1_url = \"https://flagtech.github.io/images/train1.jpeg\"\n",
        "photo2_url = \"https://flagtech.github.io/images/train2.jpeg\"\n",
        "\n",
        "response = client.responses.create(\n",
        "    model=\"gpt-4.1-nano\",\n",
        "    input=[{\n",
        "        \"role\": \"user\",\n",
        "        \"content\": [\n",
        "            {\"type\": \"input_text\", \"text\": \"圖片裡有什麼？\"},\n",
        "            {\n",
        "                \"type\": \"input_image\",\n",
        "                \"image_url\": photo1_url,\n",
        "                \"detail\": \"high\", # low、auto（預設）\n",
        "            },\n",
        "        ],\n",
        "    }],\n",
        ")"
      ],
      "metadata": {
        "id": "TKXUrapEXHiU"
      },
      "execution_count": null,
      "outputs": []
    },
    {
      "cell_type": "code",
      "source": [
        "print(response.output_text)"
      ],
      "metadata": {
        "id": "9eKM3GTQiOQh",
        "colab": {
          "base_uri": "https://localhost:8080/"
        },
        "outputId": "8968ba5e-0aab-4c35-b03a-4fd30b9cd480"
      },
      "execution_count": null,
      "outputs": [
        {
          "output_type": "stream",
          "name": "stdout",
          "text": [
            "這張照片是著名的**只見線鐵道橋**（只見川橋梁）冬季景色，位於日本福島縣的**只見線**（JR只見線）。只見線橫跨只見川，被譽為「日本最夢幻鐵路」之一，特別是在大雪覆蓋的冬天，景色非常壯麗。\n",
            "\n",
            "照片中的橋樑及黃色列車，搭配雪景，非常具有代表性，是攝影愛好者熱門的取景地點。\n"
          ]
        }
      ]
    },
    {
      "cell_type": "code",
      "source": [
        "pprint(response)"
      ],
      "metadata": {
        "id": "O7n3iO5DCTpu"
      },
      "execution_count": null,
      "outputs": []
    },
    {
      "cell_type": "markdown",
      "source": [
        "#### 傳送本機的圖片"
      ],
      "metadata": {
        "id": "aYdpKOZKAkHj"
      }
    },
    {
      "cell_type": "code",
      "source": [
        "!curl \"https://flagtech.github.io/images/train2.jpeg\" -o train2.jpeg"
      ],
      "metadata": {
        "id": "Df2Z0263l6Rt"
      },
      "execution_count": null,
      "outputs": []
    },
    {
      "cell_type": "code",
      "source": [
        "import base64\n",
        "\n",
        "# 把圖檔內容以 base64 編碼的函式\n",
        "def encode_file(file_path):\n",
        "    with open(file_path, \"rb\") as f:\n",
        "        return base64.b64encode(f.read()).decode('utf-8')"
      ],
      "metadata": {
        "id": "Fp5H07x4mFOv"
      },
      "execution_count": null,
      "outputs": []
    },
    {
      "cell_type": "code",
      "source": [
        "base64_image = encode_file('train2.jpeg')"
      ],
      "metadata": {
        "id": "vFOMlCZlm8xe"
      },
      "execution_count": null,
      "outputs": []
    },
    {
      "cell_type": "code",
      "source": [
        "response = client.responses.create(\n",
        "    model=\"gpt-4.1-nano\",\n",
        "    input=[\n",
        "        {\n",
        "            \"role\": \"user\",\n",
        "            \"content\": [\n",
        "                {\"type\": \"input_text\", \"text\": \"圖片裡有什麼？\"},\n",
        "                {\n",
        "                    \"type\": \"input_image\",\n",
        "                    \"image_url\":\n",
        "                        f\"data:image/jpeg;base64,{base64_image}\",\n",
        "                    'detail': 'high'\n",
        "                },\n",
        "            ],\n",
        "        }\n",
        "    ],\n",
        ")\n",
        "\n",
        "print(response.output_text)"
      ],
      "metadata": {
        "id": "qrCoSBCTm-23"
      },
      "execution_count": null,
      "outputs": []
    },
    {
      "cell_type": "markdown",
      "source": [
        "#### 傳送多張圖片"
      ],
      "metadata": {
        "id": "6zykzSSmA8Dy"
      }
    },
    {
      "cell_type": "code",
      "source": [
        "response = client.responses.create(\n",
        "    model=\"gpt-4.1-nano\",\n",
        "    input=[\n",
        "        {\n",
        "            \"role\": \"user\",\n",
        "            \"content\": [\n",
        "                {\"type\": \"input_text\", \"text\":\n",
        "                    \"這兩張圖片裡共通的元素是？\"},\n",
        "                {\n",
        "                    \"type\": \"input_image\",\n",
        "                    \"image_url\": photo1_url,\n",
        "                    \"detail\": \"high\",\n",
        "                },\n",
        "                {\n",
        "                    \"type\": \"input_image\",\n",
        "                    \"image_url\": photo2_url,\n",
        "                    \"detail\": \"high\",\n",
        "                },\n",
        "            ],\n",
        "        }\n",
        "    ],\n",
        ")\n",
        "\n",
        "print(response.output_text)"
      ],
      "metadata": {
        "id": "40h2x9lvszJD"
      },
      "execution_count": null,
      "outputs": []
    },
    {
      "cell_type": "markdown",
      "source": [
        "#### 輸入圖片的計費方式"
      ],
      "metadata": {
        "id": "ondgqFkrBPUH"
      }
    },
    {
      "cell_type": "markdown",
      "source": [
        "- [計費說明頁面](https://platform.openai.com/docs/guides/images#calculating-costs)\n",
        "- [Pricing 頁面](https://openai.com/api/pricing/) FAQ 區最後有輸入圖片的費用計算機\n",
        "- [驗算用的輔助函式](https://colab.research.google.com/drive/15UqEWFWyRKOSnm7UzgplW4pJ7xYV8t29?usp=sharing)"
      ],
      "metadata": {
        "id": "tHy5MeFPD1uM"
      }
    },
    {
      "cell_type": "markdown",
      "source": [
        "### 輸入 PDF 檔案"
      ],
      "metadata": {
        "id": "0T2KuOkUBQz2"
      }
    },
    {
      "cell_type": "markdown",
      "source": [
        "#### 以 Data URL 傳送檔案"
      ],
      "metadata": {
        "id": "dsPP25YIEseO"
      }
    },
    {
      "cell_type": "code",
      "source": [
        "import requests\n",
        "pdf_url = 'https://coolermaster.egnyte.com/dd/4pPb6Srybx/'\n",
        "response = requests.get(pdf_url)"
      ],
      "metadata": {
        "id": "FerYN9EPyyC7"
      },
      "execution_count": null,
      "outputs": []
    },
    {
      "cell_type": "code",
      "source": [
        "if response.status_code == 200:\n",
        "    base64_string = base64.b64encode(\n",
        "        response.content\n",
        "    ).decode('utf-8')\n",
        "\n",
        "    attachment = response.headers['content-disposition']\n",
        "    # attachment;filename=\"XXX.pdf\"\n",
        "    filename = attachment.split('filename=')[1].strip('\"')\n",
        "else:\n",
        "    print('下載檔案不成功')"
      ],
      "metadata": {
        "id": "Mr-Hasup-Rw5"
      },
      "execution_count": null,
      "outputs": []
    },
    {
      "cell_type": "code",
      "source": [
        "attachment"
      ],
      "metadata": {
        "id": "eOFVozb8-7ke"
      },
      "execution_count": null,
      "outputs": []
    },
    {
      "cell_type": "code",
      "source": [
        "response = client.responses.create(\n",
        "    model=\"gpt-4.1-nano\",\n",
        "    input=[\n",
        "        {\n",
        "            'role': 'user',\n",
        "            'content': [\n",
        "                {\n",
        "                    'type': 'input_file',\n",
        "                    'filename': filename,\n",
        "                    'file_data': \"data:application/pdf;\"\n",
        "                                 f\"base64,{base64_string}\"\n",
        "                },\n",
        "                {\n",
        "                    'type': 'input_text',\n",
        "                    'text': '這個鍵盤的型號以及藍牙配對的方法？'\n",
        "                }\n",
        "            ]\n",
        "        }\n",
        "    ]\n",
        ")"
      ],
      "metadata": {
        "id": "epHVSF-Y-p69"
      },
      "execution_count": null,
      "outputs": []
    },
    {
      "cell_type": "code",
      "source": [
        "print(response.output_text)\n",
        "pprint(response.usage)"
      ],
      "metadata": {
        "id": "y0Y7AZNbAxB2"
      },
      "execution_count": null,
      "outputs": []
    },
    {
      "cell_type": "code",
      "source": [
        "pprint(response)"
      ],
      "metadata": {
        "id": "ZDcmUMmwA111"
      },
      "execution_count": null,
      "outputs": []
    },
    {
      "cell_type": "markdown",
      "source": [
        "#### 使用網頁介面上傳檔案"
      ],
      "metadata": {
        "id": "DcH2ZHDsGdFO"
      }
    },
    {
      "cell_type": "markdown",
      "source": [
        "PDF 檔：\n",
        "- https://coolermaster.egnyte.com/dd/4pPb6Srybx/\n",
        "\n",
        "Dashboard 網址：\n",
        "- https://platform.openai.com/storage"
      ],
      "metadata": {
        "id": "FoiPJ2qZFfRZ"
      }
    },
    {
      "cell_type": "code",
      "source": [
        "response = client.responses.create(\n",
        "    model=\"gpt-4.1-nano\",\n",
        "    input=[\n",
        "        {\n",
        "            'role': 'user',\n",
        "            'content': [\n",
        "                {\n",
        "                    'type': 'input_file',\n",
        "                    'file_id': \"file-CSipLboNkkKJZ2f16YBrA7\"\n",
        "                },\n",
        "                {\n",
        "                    'type': 'input_text',\n",
        "                    'text': '這個鍵盤如何變化燈光效果？'\n",
        "                }\n",
        "            ]\n",
        "        }\n",
        "    ]\n",
        ")\n",
        "\n",
        "print(response.output_text)"
      ],
      "metadata": {
        "id": "gLxvHbNNE-4O",
        "colab": {
          "base_uri": "https://localhost:8080/"
        },
        "outputId": "f1a1faf7-791c-48f9-8b83-ec668b31fb17"
      },
      "execution_count": null,
      "outputs": [
        {
          "output_type": "stream",
          "name": "stdout",
          "text": [
            "根據提供的使用說明，這個鍵盤可以藉由按特定的功能鍵（FN鍵）來切換或調整燈光效果。以下是一些燈光控制的方法摘要：\n",
            "\n",
            "1. **切換燈光模式**：  \n",
            "   - 按 FN + DEL/PGUP/PGDN 可以在不同的燈光模式間切換。  \n",
            "   - 在“藍牙模式”、“2.4 GHz模式”、“有線模式”等不同連線狀態下，都可用此組合切換燈光效果。\n",
            "\n",
            "2. **調整燈光亮度或效果**：  \n",
            "   - 一些模式下，按 FN + DEL/PGUP/PGDN 可以調整亮度或啟用特定的燈光效果。  \n",
            "   - 例如：“請按 FN + DEL/PGUP/PGDN 以啟動燈光效果”或“用 FN + DEL/PGUP/PGDN 切換不同的燈光模式”。\n",
            "\n",
            "3. **特定燈光效果切換**：  \n",
            "   - 按 FN + Enter 可切換不同的燈光效果或亮度狀態（如強光或柔和模式）。  \n",
            "   - 某些描述提到，長按 FN + DEL/PGUP/PGDN 可以進入或退出燈光效果調整狀態。\n",
            "\n",
            "4. **燈光指示與模式設定**：  \n",
            "   - 燈光會根據不同的狀態（配對、連線、低電量等）呈現不同的顏色和閃爍方式（例如：紅色閃爍代表低電量）。  \n",
            "\n",
            "5. **軟體自訂**：  \n",
            "   - 提到可以使用 Cooler Master 的軟體來自訂低電量模式的燈光百分比，代表可以透過軟體進一步細緻調整燈光效果。\n",
            "\n",
            "**總結**：  \n",
            "你可以透過按 FN 與組合鍵（如 DEL/PGUP/PGDN、Enter）來切換燈光模式和亮度，甚至自訂燈光效果。不同的快捷鍵會改變燈光的顏色、閃爍頻率或模式，具體細節可以參考用戶手冊中的燈光控制章節。\n"
          ]
        }
      ]
    },
    {
      "cell_type": "code",
      "source": [
        "print(response.output_text)"
      ],
      "metadata": {
        "id": "hmi378kjIa_4"
      },
      "execution_count": null,
      "outputs": []
    },
    {
      "cell_type": "markdown",
      "source": [
        "#### 使用 Files API 上傳檔案"
      ],
      "metadata": {
        "id": "wzszYWEUHChE"
      }
    },
    {
      "cell_type": "code",
      "source": [
        "!curl -JO \"https://coolermaster.egnyte.com/dd/4pPb6Srybx/\""
      ],
      "metadata": {
        "id": "XIx_INkkPA_v"
      },
      "execution_count": null,
      "outputs": []
    },
    {
      "cell_type": "code",
      "source": [
        "!curl \"https://coolermaster.egnyte.com/dd/4pPb6Srybx/\" \\\n",
        " -o ck721.pdf"
      ],
      "metadata": {
        "id": "4HRn7Ig4Ics7"
      },
      "execution_count": null,
      "outputs": []
    },
    {
      "cell_type": "code",
      "source": [
        "with open('ck721.pdf', 'rb') as f:\n",
        "    file_obj = client.files.create(\n",
        "        file=f,\n",
        "        purpose='user_data'\n",
        "    )"
      ],
      "metadata": {
        "id": "dT0jgAHhxfSC"
      },
      "execution_count": null,
      "outputs": []
    },
    {
      "cell_type": "code",
      "source": [
        "pprint(file_obj)"
      ],
      "metadata": {
        "id": "YrTcQpRtyB04"
      },
      "execution_count": null,
      "outputs": []
    },
    {
      "cell_type": "code",
      "source": [
        "response = client.responses.create(\n",
        "    model=\"gpt-4.1-nano\",\n",
        "    input=[\n",
        "        {\n",
        "            'role': 'user',\n",
        "            'content': [\n",
        "                {\n",
        "                    'type': 'input_file',\n",
        "                    'file_id': file_obj.id\n",
        "                },\n",
        "                {\n",
        "                    'type': 'input_text',\n",
        "                    'text': '這個鍵盤電量過低時的指示？'\n",
        "                }\n",
        "            ]\n",
        "        }\n",
        "    ]\n",
        ")\n",
        "\n",
        "print(response.output_text)"
      ],
      "metadata": {
        "id": "4UyRce1byFeS"
      },
      "execution_count": null,
      "outputs": []
    },
    {
      "cell_type": "code",
      "source": [
        "client.files.delete(file_obj.id)"
      ],
      "metadata": {
        "id": "45WUpkgYybHd"
      },
      "execution_count": null,
      "outputs": []
    }
  ]
}